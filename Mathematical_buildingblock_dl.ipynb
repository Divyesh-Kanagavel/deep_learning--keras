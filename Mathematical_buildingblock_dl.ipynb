{
 "cells": [
  {
   "cell_type": "code",
   "execution_count": 2,
   "metadata": {},
   "outputs": [],
   "source": [
    "import tensorflow as tf"
   ]
  },
  {
   "cell_type": "code",
   "execution_count": 3,
   "metadata": {},
   "outputs": [],
   "source": [
    "x = tf.Variable(0.)\n",
    "with tf.GradientTape() as tape:\n",
    "    y = 2*x+3\n",
    "gradient_y_wrt_x = tape.gradient(y,x)"
   ]
  },
  {
   "cell_type": "code",
   "execution_count": 4,
   "metadata": {},
   "outputs": [
    {
     "data": {
      "text/plain": [
       "<tf.Tensor: shape=(), dtype=float32, numpy=2.0>"
      ]
     },
     "execution_count": 4,
     "metadata": {},
     "output_type": "execute_result"
    }
   ],
   "source": [
    "gradient_y_wrt_x"
   ]
  },
  {
   "cell_type": "code",
   "execution_count": 5,
   "metadata": {},
   "outputs": [],
   "source": [
    "class Naive_Dense:\n",
    "        def __init__(self,input_size, output_size, activation):\n",
    "                self.activation  = activation\n",
    "                w_shape = (input_size,output_size)\n",
    "                w_initial_value = tf.random.uniform(w_shape, minval=0, maxval=1e-1)\n",
    "                self.W = tf.Variable(w_initial_value)\n",
    "                b_shape = (output_size,)\n",
    "                b_initial_value = tf.zeros(b_shape)\n",
    "                self.b = tf.Variable(b_initial_value)\n",
    "        def __call__(self,inputs):\n",
    "                return self.activation(tf.matmul(inputs,self.W)+self.b)\n",
    "        @property\n",
    "        def weights(self):\n",
    "                return [self.W, self.b]\n",
    "        \n",
    "        \n",
    "        \n",
    "\n"
   ]
  },
  {
   "cell_type": "code",
   "execution_count": 6,
   "metadata": {},
   "outputs": [],
   "source": [
    "class NaiveSequential:\n",
    "        def __init__(self,layers):\n",
    "                self.layers = layers\n",
    "        def __call__(self,inputs):\n",
    "                x = inputs\n",
    "                for layer in self.layers:\n",
    "                    x = layer(x)\n",
    "                return x\n",
    "        #decorator to add setter, getter functionalities to weights in a pythonic oop way\n",
    "        @property\n",
    "        def weights(self):\n",
    "            weights = []\n",
    "            for layer in self.layers:\n",
    "                weights += layer.weights\n",
    "            return weights"
   ]
  },
  {
   "cell_type": "code",
   "execution_count": 25,
   "metadata": {},
   "outputs": [],
   "source": [
    "model = NaiveSequential([\n",
    " Naive_Dense(input_size=28 * 28, output_size=512, activation=tf.nn.relu),\n",
    " Naive_Dense(input_size=512, output_size=10, activation=tf.nn.softmax)\n",
    "]) \n",
    "assert len(model.weights) == 4"
   ]
  },
  {
   "cell_type": "code",
   "execution_count": 17,
   "metadata": {},
   "outputs": [],
   "source": [
    "#a batch generator\n",
    "import math\n",
    "class Batch_Generator:\n",
    "        def __init__(self,images,labels, batch_size=128):\n",
    "                assert len(images) == len(labels)\n",
    "                self.index = 0\n",
    "                self.labels = labels\n",
    "                self.images = images\n",
    "                self.batch_size = batch_size\n",
    "                self.num_batches = math.ceil(len(images)/batch_size)\n",
    "        def next(self):\n",
    "                images  = self.images[self.index : self.index + self.batch_size]\n",
    "                labels = self.labels[self.index : self.index + self.batch_size]\n",
    "                self.index += self.batch_size\n",
    "                return images,labels"
   ]
  },
  {
   "cell_type": "code",
   "execution_count": 19,
   "metadata": {},
   "outputs": [],
   "source": [
    "def one_training_step(model,images_batch, labels_batch):\n",
    "        with tf.GradientTape() as tape:\n",
    "                predictions = model(images_batch)\n",
    "                per_sample_losses = tf.keras.losses.sparse_categorical_crossentropy(labels_batch,predictions)\n",
    "                average_loss = tf.reduce_mean(per_sample_losses)\n",
    "        gradients = tape.gradient(average_loss, model.weights)\n",
    "        update_weights(gradients, model.weights)\n",
    "        return average_loss"
   ]
  },
  {
   "cell_type": "code",
   "execution_count": 20,
   "metadata": {},
   "outputs": [],
   "source": [
    "learning_rate = 1e-3\n",
    "def update_weights(gradients, weights):\n",
    "        for g,w in zip(gradients, weights):\n",
    "                w.assign_sub(g * learning_rate)"
   ]
  },
  {
   "cell_type": "code",
   "execution_count": 21,
   "metadata": {},
   "outputs": [],
   "source": [
    "#entire epoch of training\n",
    "def fit(model, images, labels, epochs, batch_size=128):\n",
    "        for epoch_counter in range(epochs):\n",
    "                batch_generator = Batch_Generator(images, labels,batch_size)\n",
    "                for batch_counter in range(batch_generator.num_batches):\n",
    "                        images_batch, labels_batch = batch_generator.next()\n",
    "                        loss = one_training_step(model,images_batch, labels_batch)\n",
    "                        if batch_counter % 100 == 0:\n",
    "                                print(f\"at batch number {batch_counter}: loss = {loss}\")\n",
    "                \n",
    "                "
   ]
  },
  {
   "cell_type": "code",
   "execution_count": 22,
   "metadata": {},
   "outputs": [],
   "source": [
    "from tensorflow.keras.datasets import mnist\n",
    "(train_images, train_labels), (test_images, test_labels) = mnist.load_data()"
   ]
  },
  {
   "cell_type": "code",
   "execution_count": 23,
   "metadata": {},
   "outputs": [],
   "source": [
    "train_images = train_images.reshape((60000, 28 * 28))\n",
    "train_images = train_images.astype(\"float32\") / 255 \n",
    "test_images = test_images.reshape((10000, 28 * 28))\n",
    "test_images = test_images.astype(\"float32\") / 255"
   ]
  },
  {
   "cell_type": "code",
   "execution_count": 26,
   "metadata": {},
   "outputs": [
    {
     "name": "stdout",
     "output_type": "stream",
     "text": [
      "at batch number 0: loss = 8.990598678588867\n",
      "at batch number 100: loss = 2.2354736328125\n",
      "at batch number 200: loss = 2.212531566619873\n",
      "at batch number 300: loss = 2.070934295654297\n",
      "at batch number 400: loss = 2.2353968620300293\n",
      "at batch number 0: loss = 1.8969990015029907\n",
      "at batch number 100: loss = 1.874892234802246\n",
      "at batch number 200: loss = 1.827032208442688\n",
      "at batch number 300: loss = 1.6866568326950073\n",
      "at batch number 400: loss = 1.8382327556610107\n",
      "at batch number 0: loss = 1.5721595287322998\n",
      "at batch number 100: loss = 1.574385166168213\n",
      "at batch number 200: loss = 1.5014338493347168\n",
      "at batch number 300: loss = 1.4053261280059814\n",
      "at batch number 400: loss = 1.5099635124206543\n",
      "at batch number 0: loss = 1.3175833225250244\n",
      "at batch number 100: loss = 1.336580514907837\n",
      "at batch number 200: loss = 1.239443302154541\n",
      "at batch number 300: loss = 1.1913337707519531\n",
      "at batch number 400: loss = 1.2690908908843994\n",
      "at batch number 0: loss = 1.1200611591339111\n",
      "at batch number 100: loss = 1.155862808227539\n",
      "at batch number 200: loss = 1.0406298637390137\n",
      "at batch number 300: loss = 1.0321636199951172\n",
      "at batch number 400: loss = 1.1005077362060547\n",
      "at batch number 0: loss = 0.9742856025695801\n",
      "at batch number 100: loss = 1.0177028179168701\n",
      "at batch number 200: loss = 0.8977319002151489\n",
      "at batch number 300: loss = 0.9144669771194458\n",
      "at batch number 400: loss = 0.9799214601516724\n",
      "at batch number 0: loss = 0.8670612573623657\n",
      "at batch number 100: loss = 0.910987138748169\n",
      "at batch number 200: loss = 0.793486475944519\n",
      "at batch number 300: loss = 0.8259879350662231\n",
      "at batch number 400: loss = 0.890969455242157\n",
      "at batch number 0: loss = 0.7863487601280212\n",
      "at batch number 100: loss = 0.8270145654678345\n",
      "at batch number 200: loss = 0.7143818736076355\n",
      "at batch number 300: loss = 0.7578028440475464\n",
      "at batch number 400: loss = 0.8236774206161499\n",
      "at batch number 0: loss = 0.7240445017814636\n",
      "at batch number 100: loss = 0.759690523147583\n",
      "at batch number 200: loss = 0.6523857712745667\n",
      "at batch number 300: loss = 0.7039074301719666\n",
      "at batch number 400: loss = 0.7715537548065186\n",
      "at batch number 0: loss = 0.674766480922699\n",
      "at batch number 100: loss = 0.7047926187515259\n",
      "at batch number 200: loss = 0.6025936007499695\n",
      "at batch number 300: loss = 0.6603217124938965\n",
      "at batch number 400: loss = 0.730298638343811\n"
     ]
    }
   ],
   "source": [
    "fit(model, train_images, train_labels, epochs=10, batch_size=128)"
   ]
  },
  {
   "cell_type": "code",
   "execution_count": 27,
   "metadata": {},
   "outputs": [
    {
     "name": "stdout",
     "output_type": "stream",
     "text": [
      "accuracy :  0.82\n"
     ]
    }
   ],
   "source": [
    "import numpy as np\n",
    "predictions = model(test_images)\n",
    "predictions = predictions.numpy()\n",
    "predicted_labels = np.argmax(predictions, axis=1)\n",
    "matches = predicted_labels == test_labels\n",
    "print(f\"accuracy : {matches.mean(): .2f}\")"
   ]
  },
  {
   "cell_type": "code",
   "execution_count": null,
   "metadata": {},
   "outputs": [],
   "source": []
  }
 ],
 "metadata": {
  "kernelspec": {
   "display_name": "base",
   "language": "python",
   "name": "python3"
  },
  "language_info": {
   "codemirror_mode": {
    "name": "ipython",
    "version": 3
   },
   "file_extension": ".py",
   "mimetype": "text/x-python",
   "name": "python",
   "nbconvert_exporter": "python",
   "pygments_lexer": "ipython3",
   "version": "3.9.12"
  }
 },
 "nbformat": 4,
 "nbformat_minor": 2
}
