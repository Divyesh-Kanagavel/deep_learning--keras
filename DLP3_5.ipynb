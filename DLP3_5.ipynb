{
  "nbformat": 4,
  "nbformat_minor": 0,
  "metadata": {
    "colab": {
      "name": "DLP3_5.ipynb",
      "provenance": [],
      "authorship_tag": "ABX9TyO1FRrbT1MGa08k5IUMvaOO",
      "include_colab_link": true
    },
    "kernelspec": {
      "name": "python3",
      "display_name": "Python 3"
    },
    "language_info": {
      "name": "python"
    }
  },
  "cells": [
    {
      "cell_type": "markdown",
      "metadata": {
        "id": "view-in-github",
        "colab_type": "text"
      },
      "source": [
        "<a href=\"https://colab.research.google.com/github/Divyesh-Kanagavel/deep_learning--keras/blob/master/DLP3_5.ipynb\" target=\"_parent\"><img src=\"https://colab.research.google.com/assets/colab-badge.svg\" alt=\"Open In Colab\"/></a>"
      ]
    },
    {
      "cell_type": "code",
      "metadata": {
        "id": "wRkl-mEsqNMm"
      },
      "source": [
        "from keras.datasets import reuters"
      ],
      "execution_count": 2,
      "outputs": []
    },
    {
      "cell_type": "code",
      "metadata": {
        "colab": {
          "base_uri": "https://localhost:8080/"
        },
        "id": "KhbNkE3-qeJo",
        "outputId": "18571b45-79b8-414c-ceca-8b58886b3408"
      },
      "source": [
        "(train_data,train_label), (test_data,test_label) = reuters.load_data(num_words=10000)"
      ],
      "execution_count": 3,
      "outputs": [
        {
          "output_type": "stream",
          "text": [
            "Downloading data from https://storage.googleapis.com/tensorflow/tf-keras-datasets/reuters.npz\n",
            "2113536/2110848 [==============================] - 0s 0us/step\n",
            "2121728/2110848 [==============================] - 0s 0us/step\n"
          ],
          "name": "stdout"
        },
        {
          "output_type": "stream",
          "text": [
            "/usr/local/lib/python3.7/dist-packages/keras/datasets/reuters.py:143: VisibleDeprecationWarning: Creating an ndarray from ragged nested sequences (which is a list-or-tuple of lists-or-tuples-or ndarrays with different lengths or shapes) is deprecated. If you meant to do this, you must specify 'dtype=object' when creating the ndarray\n",
            "  x_train, y_train = np.array(xs[:idx]), np.array(labels[:idx])\n",
            "/usr/local/lib/python3.7/dist-packages/keras/datasets/reuters.py:144: VisibleDeprecationWarning: Creating an ndarray from ragged nested sequences (which is a list-or-tuple of lists-or-tuples-or ndarrays with different lengths or shapes) is deprecated. If you meant to do this, you must specify 'dtype=object' when creating the ndarray\n",
            "  x_test, y_test = np.array(xs[idx:]), np.array(labels[idx:])\n"
          ],
          "name": "stderr"
        }
      ]
    },
    {
      "cell_type": "code",
      "metadata": {
        "colab": {
          "base_uri": "https://localhost:8080/"
        },
        "id": "SKfi4hh5qym3",
        "outputId": "71b5c4e9-6cce-4642-c2c4-cafe3fcc452a"
      },
      "source": [
        "#Decoding integer list into original sequence of words\n",
        "word_index = reuters.get_word_index()\n",
        "reverse_word_index = dict([(value,key) for (key,value) in word_index.items()])\n",
        "decoded_newswire = ' '.join([reverse_word_index.get(i-3,'?') for i in train_data[0]])"
      ],
      "execution_count": 4,
      "outputs": [
        {
          "output_type": "stream",
          "text": [
            "Downloading data from https://storage.googleapis.com/tensorflow/tf-keras-datasets/reuters_word_index.json\n",
            "557056/550378 [==============================] - 0s 0us/step\n",
            "565248/550378 [==============================] - 0s 0us/step\n"
          ],
          "name": "stdout"
        }
      ]
    },
    {
      "cell_type": "code",
      "metadata": {
        "id": "2oiYTu9yrdUe"
      },
      "source": [
        "#Preparing data for feeding into neural networks\n",
        "import numpy as np\n",
        "def vectorize_sequences(sequences, dimension = 10000):\n",
        "  results = np.zeros((len(sequences), dimension))\n",
        "  for i,sequence in enumerate(sequences):\n",
        "    results[i,sequence] = 1\n",
        "  return results\n",
        "\n",
        "x_train = vectorize_sequences(train_data)\n",
        "x_test = vectorize_sequences(test_data)\n",
        "\n"
      ],
      "execution_count": 11,
      "outputs": []
    },
    {
      "cell_type": "code",
      "metadata": {
        "id": "YTHJZzyqvWeP"
      },
      "source": [
        "#to one-hot encode the labels\n",
        "from keras.utils.np_utils import to_categorical\n",
        "one_hot_train_labels = to_categorical(train_label)\n",
        "one_hot_test_labels = to_categorical(test_label)"
      ],
      "execution_count": 8,
      "outputs": []
    },
    {
      "cell_type": "code",
      "metadata": {
        "id": "R0MPSEt8xUQs"
      },
      "source": [
        "#Model definition\n",
        "from keras import models\n",
        "from keras import layers\n",
        "model = models.Sequential()\n",
        "model.add(layers.Dense(64, activation = 'relu', input_shape = (10000,)))\n",
        "model.add(layers.Dense(64, activation = 'relu'))\n",
        "model.add(layers.Dense(46, activation = 'softmax'))"
      ],
      "execution_count": 9,
      "outputs": []
    },
    {
      "cell_type": "code",
      "metadata": {
        "id": "O6O00vtayPNE"
      },
      "source": [
        "model.compile(optimizer = 'rmsprop', loss = 'categorical_crossentropy',metrics = ['accuracy'])"
      ],
      "execution_count": 10,
      "outputs": []
    },
    {
      "cell_type": "code",
      "metadata": {
        "id": "QXrlubHrygiB"
      },
      "source": [
        "#Validation set\n",
        "x_val = x_train[:1000]\n",
        "partial_x_train = x_train[1000:]\n",
        "y_val = one_hot_train_labels[:1000]\n",
        "partial_y_train = one_hot_train_labels[1000:]"
      ],
      "execution_count": 12,
      "outputs": []
    },
    {
      "cell_type": "code",
      "metadata": {
        "colab": {
          "base_uri": "https://localhost:8080/"
        },
        "id": "qitq7Gx2zJC6",
        "outputId": "407afd0c-db3c-48aa-a59a-2125e9ec6bb6"
      },
      "source": [
        "#fitting the data to the model\n",
        "history = model.fit(x = partial_x_train, y = partial_y_train, batch_size = 512, epochs = 20, validation_data=(x_val,y_val))"
      ],
      "execution_count": 13,
      "outputs": [
        {
          "output_type": "stream",
          "text": [
            "Epoch 1/20\n",
            "16/16 [==============================] - 16s 88ms/step - loss: 3.0766 - accuracy: 0.3441 - val_loss: 1.7231 - val_accuracy: 0.6230\n",
            "Epoch 2/20\n",
            "16/16 [==============================] - 1s 48ms/step - loss: 1.4858 - accuracy: 0.6880 - val_loss: 1.3081 - val_accuracy: 0.7210\n",
            "Epoch 3/20\n",
            "16/16 [==============================] - 1s 50ms/step - loss: 1.1206 - accuracy: 0.7654 - val_loss: 1.1251 - val_accuracy: 0.7570\n",
            "Epoch 4/20\n",
            "16/16 [==============================] - 1s 48ms/step - loss: 0.8547 - accuracy: 0.8135 - val_loss: 1.0096 - val_accuracy: 0.7900\n",
            "Epoch 5/20\n",
            "16/16 [==============================] - 1s 49ms/step - loss: 0.6536 - accuracy: 0.8660 - val_loss: 0.9470 - val_accuracy: 0.8010\n",
            "Epoch 6/20\n",
            "16/16 [==============================] - 1s 48ms/step - loss: 0.5169 - accuracy: 0.8915 - val_loss: 0.9101 - val_accuracy: 0.8140\n",
            "Epoch 7/20\n",
            "16/16 [==============================] - 1s 50ms/step - loss: 0.4220 - accuracy: 0.9134 - val_loss: 0.8902 - val_accuracy: 0.8250\n",
            "Epoch 8/20\n",
            "16/16 [==============================] - 1s 48ms/step - loss: 0.3483 - accuracy: 0.9282 - val_loss: 0.9032 - val_accuracy: 0.8030\n",
            "Epoch 9/20\n",
            "16/16 [==============================] - 1s 48ms/step - loss: 0.2808 - accuracy: 0.9431 - val_loss: 0.9182 - val_accuracy: 0.8080\n",
            "Epoch 10/20\n",
            "16/16 [==============================] - 1s 48ms/step - loss: 0.2477 - accuracy: 0.9438 - val_loss: 0.8786 - val_accuracy: 0.8270\n",
            "Epoch 11/20\n",
            "16/16 [==============================] - 1s 49ms/step - loss: 0.1993 - accuracy: 0.9513 - val_loss: 0.8912 - val_accuracy: 0.8190\n",
            "Epoch 12/20\n",
            "16/16 [==============================] - 1s 49ms/step - loss: 0.1744 - accuracy: 0.9563 - val_loss: 0.9374 - val_accuracy: 0.8060\n",
            "Epoch 13/20\n",
            "16/16 [==============================] - 1s 48ms/step - loss: 0.1566 - accuracy: 0.9574 - val_loss: 0.8977 - val_accuracy: 0.8270\n",
            "Epoch 14/20\n",
            "16/16 [==============================] - 1s 49ms/step - loss: 0.1448 - accuracy: 0.9578 - val_loss: 0.9416 - val_accuracy: 0.8140\n",
            "Epoch 15/20\n",
            "16/16 [==============================] - 1s 48ms/step - loss: 0.1289 - accuracy: 0.9599 - val_loss: 1.0034 - val_accuracy: 0.8020\n",
            "Epoch 16/20\n",
            "16/16 [==============================] - 1s 49ms/step - loss: 0.1186 - accuracy: 0.9619 - val_loss: 1.1045 - val_accuracy: 0.7880\n",
            "Epoch 17/20\n",
            "16/16 [==============================] - 1s 48ms/step - loss: 0.1132 - accuracy: 0.9611 - val_loss: 1.1389 - val_accuracy: 0.7820\n",
            "Epoch 18/20\n",
            "16/16 [==============================] - 1s 48ms/step - loss: 0.1032 - accuracy: 0.9614 - val_loss: 1.0514 - val_accuracy: 0.8000\n",
            "Epoch 19/20\n",
            "16/16 [==============================] - 1s 47ms/step - loss: 0.1075 - accuracy: 0.9614 - val_loss: 1.1766 - val_accuracy: 0.7830\n",
            "Epoch 20/20\n",
            "16/16 [==============================] - 1s 48ms/step - loss: 0.1054 - accuracy: 0.9596 - val_loss: 1.0346 - val_accuracy: 0.8000\n"
          ],
          "name": "stdout"
        }
      ]
    },
    {
      "cell_type": "code",
      "metadata": {
        "colab": {
          "base_uri": "https://localhost:8080/",
          "height": 295
        },
        "id": "2q9ERTmezzdk",
        "outputId": "08d3f83f-7639-4118-d685-e2f0b73664cc"
      },
      "source": [
        "#Validation set performance visualization\n",
        "import matplotlib.pyplot as plt\n",
        "history_dict = history.history\n",
        "loss_values = history_dict['loss']\n",
        "val_loss_values = history_dict['val_loss']\n",
        "epochs = range(1, len(loss_values)+1)\n",
        "plt.plot(epochs, loss_values, 'b', label = 'Training loss')\n",
        "plt.plot(epochs, val_loss_values, 'r', label = 'Validation loss')\n",
        "plt.title('Training and validation loss')\n",
        "plt.xlabel('Epochs')\n",
        "plt.ylabel('Loss')\n",
        "plt.legend()\n",
        "plt.show()"
      ],
      "execution_count": 15,
      "outputs": [
        {
          "output_type": "display_data",
          "data": {
            "image/png": "[encoded data removed]",
            "text/plain": [
              "<Figure size 432x288 with 1 Axes>"
            ]
          },
          "metadata": {
            "tags": [],
            "needs_background": "light"
          }
        }
      ]
    },
    {
      "cell_type": "code",
      "metadata": {
        "colab": {
          "base_uri": "https://localhost:8080/",
          "height": 295
        },
        "id": "xyC6Ii5s2_Mr",
        "outputId": "76b95f6d-d89f-4b45-d977-8abd26e33362"
      },
      "source": [
        "accuracy_values = history_dict['accuracy']\n",
        "validation_accuracy_values = history_dict['val_accuracy']\n",
        "epochs = range(1, len(accuracy_values)+1)\n",
        "plt.plot(epochs, accuracy_values, 'b', label = 'Training accuracy')\n",
        "plt.plot(epochs, validation_accuracy_values, 'r', label = 'Validation accuracy')\n",
        "plt.title('Training and validation accuracy')\n",
        "plt.xlabel('Epochs')\n",
        "plt.ylabel('Accuracy')\n",
        "plt.legend()\n",
        "plt.show()\n"
      ],
      "execution_count": 16,
      "outputs": [
        {
          "output_type": "display_data",
          "data": {
            "image/png": "[encoded data removed]",
            "text/plain": [
              "<Figure size 432x288 with 1 Axes>"
            ]
          },
          "metadata": {
            "tags": [],
            "needs_background": "light"
          }
        }
      ]
    },
    {
      "cell_type": "code",
      "metadata": {
        "colab": {
          "base_uri": "https://localhost:8080/"
        },
        "id": "e2qUluSy4Tyd",
        "outputId": "63fc1997-de3e-47e6-852e-26be87e1f2c8"
      },
      "source": [
        "#With just 4 epochs, to prevent overfitting\n",
        "model.fit(partial_x_train, partial_y_train, epochs = 9, batch_size = 512,validation_data=(x_val, y_val))\n",
        "results = model.evaluate(x_test,one_hot_test_labels)\n"
      ],
      "execution_count": 19,
      "outputs": [
        {
          "output_type": "stream",
          "text": [
            "Epoch 1/9\n",
            "16/16 [==============================] - 1s 53ms/step - loss: 0.1067 - accuracy: 0.9567 - val_loss: 1.0818 - val_accuracy: 0.8060\n",
            "Epoch 2/9\n",
            "16/16 [==============================] - 1s 50ms/step - loss: 0.1066 - accuracy: 0.9569 - val_loss: 1.0962 - val_accuracy: 0.8010\n",
            "Epoch 3/9\n",
            "16/16 [==============================] - 1s 49ms/step - loss: 0.1061 - accuracy: 0.9580 - val_loss: 1.1758 - val_accuracy: 0.7890\n",
            "Epoch 4/9\n",
            "16/16 [==============================] - 1s 50ms/step - loss: 0.1027 - accuracy: 0.9569 - val_loss: 1.2026 - val_accuracy: 0.7870\n",
            "Epoch 5/9\n",
            "16/16 [==============================] - 1s 49ms/step - loss: 0.1046 - accuracy: 0.9579 - val_loss: 1.1495 - val_accuracy: 0.7950\n",
            "Epoch 6/9\n",
            "16/16 [==============================] - 1s 47ms/step - loss: 0.1003 - accuracy: 0.9590 - val_loss: 1.1658 - val_accuracy: 0.7890\n",
            "Epoch 7/9\n",
            "16/16 [==============================] - 1s 47ms/step - loss: 0.0998 - accuracy: 0.9565 - val_loss: 1.1982 - val_accuracy: 0.7880\n",
            "Epoch 8/9\n",
            "16/16 [==============================] - 1s 48ms/step - loss: 0.1003 - accuracy: 0.9583 - val_loss: 1.1798 - val_accuracy: 0.8010\n",
            "Epoch 9/9\n",
            "16/16 [==============================] - 1s 50ms/step - loss: 0.0978 - accuracy: 0.9558 - val_loss: 1.1461 - val_accuracy: 0.8030\n",
            "71/71 [==============================] - 0s 3ms/step - loss: 1.3408 - accuracy: 0.7898\n"
          ],
          "name": "stdout"
        }
      ]
    },
    {
      "cell_type": "code",
      "metadata": {
        "colab": {
          "base_uri": "https://localhost:8080/"
        },
        "id": "YN1JJx8K6Gzc",
        "outputId": "8e6b6576-0a31-4283-d9dd-0c61acea4ed5"
      },
      "source": [
        "#prediction\n",
        "prediction = model.predict(x_test)\n",
        "\n",
        "np.argmax(prediction[50])"
      ],
      "execution_count": 24,
      "outputs": [
        {
          "output_type": "execute_result",
          "data": {
            "text/plain": [
              "20"
            ]
          },
          "metadata": {
            "tags": []
          },
          "execution_count": 24
        }
      ]
    },
    {
      "cell_type": "code",
      "metadata": {
        "id": "Zf4mkmj272ti"
      },
      "source": [
        "#integer encoding of labels\n",
        "'''y_train = np.array(train_label)\n",
        "y_test = np.array(test_label)\n",
        "model.compile(optimizer='rmsprop', loss = 'sparse_categorical_cross_entropy',metrics = ['accuracy'])'''"
      ],
      "execution_count": null,
      "outputs": []
    },
    {
      "cell_type": "code",
      "metadata": {
        "id": "BbU4WQdY8VX8"
      },
      "source": [
        ""
      ],
      "execution_count": null,
      "outputs": []
    }
  ]
}