{
  "nbformat": 4,
  "nbformat_minor": 0,
  "metadata": {
    "colab": {
      "name": "regularization.ipynb",
      "provenance": [],
      "collapsed_sections": [],
      "authorship_tag": "ABX9TyOB2w+3bkkT6pQpqlHLGZIv",
      "include_colab_link": true
    },
    "kernelspec": {
      "name": "python3",
      "display_name": "Python 3"
    },
    "language_info": {
      "name": "python"
    }
  },
  "cells": [
    {
      "cell_type": "markdown",
      "metadata": {
        "id": "view-in-github",
        "colab_type": "text"
      },
      "source": [
        "<a href=\"https://colab.research.google.com/github/Divyesh-Kanagavel/deep_learning--keras/blob/master/regularization.ipynb\" target=\"_parent\"><img src=\"https://colab.research.google.com/assets/colab-badge.svg\" alt=\"Open In Colab\"/></a>"
      ]
    },
    {
      "cell_type": "code",
      "metadata": {
        "id": "SvaUR_QEyE9u"
      },
      "source": [
        "from keras import regularizers\n",
        "from keras import models\n",
        "from keras import layers"
      ],
      "execution_count": null,
      "outputs": []
    },
    {
      "cell_type": "code",
      "metadata": {
        "id": "LAAjAdavyNUl"
      },
      "source": [
        "#L2 regularization or L1-L2\n",
        "model = models.Sequential()\n",
        "model.add(layers.Dense(16, kernel_regularizer=regularizers.l2(0.001), activation = 'relu', input_shape = (10000,)))\n",
        "model.add(layers.Dense(16, kernel_regularizer = regularizers.l2(0.001),activation = 'relu'))\n",
        "model.add(layers.Dense(1, activation = 'sigmoid'))"
      ],
      "execution_count": null,
      "outputs": []
    },
    {
      "cell_type": "code",
      "metadata": {
        "id": "rAJqgTLI1nZP"
      },
      "source": [
        "#Dropout regularization\n",
        "import numpy as np\n",
        "layer_output *= np.random.randint(0, high=2, size = layer_output.shape)  #During training time\n",
        "\n",
        "layer_output *= 0.5 #  During test time\n",
        "\n",
        "\n",
        "#or\n",
        "layer_output/=0.5 # during training time itself..\n",
        "\n",
        "model.add(layers.Dropout(0.5)) # for 50 percent dropout\n",
        "\n",
        "\n",
        "\n",
        "\n"
      ],
      "execution_count": null,
      "outputs": []
    }
  ]
}