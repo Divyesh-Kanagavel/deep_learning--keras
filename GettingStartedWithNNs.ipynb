{
  "cells": [
    {
      "cell_type": "code",
      "execution_count": 1,
      "metadata": {
        "id": "Zbg6_bUqMgVu"
      },
      "outputs": [],
      "source": [
        "from tensorflow.keras.datasets import imdb"
      ]
    },
    {
      "cell_type": "code",
      "execution_count": 2,
      "metadata": {
        "id": "Qh8_BdFbOlrQ"
      },
      "outputs": [],
      "source": [
        "(train_data, train_labels), (test_data,test_labels) = imdb.load_data(num_words = 10000)"
      ]
    },
    {
      "cell_type": "code",
      "execution_count": 3,
      "metadata": {
        "colab": {
          "base_uri": "https://localhost:8080/",
          "height": 154
        },
        "id": "5tHG6187O68k",
        "outputId": "131333ec-ec39-491a-98d3-22c2b4b4bc88"
      },
      "outputs": [
        {
          "data": {
            "text/plain": [
              "\"? this film was just brilliant casting location scenery story direction everyone's really suited the part they played and you could just imagine being there robert ? is an amazing actor and now the same being director ? father came from the same scottish island as myself so i loved the fact there was a real connection with this film the witty remarks throughout the film were great it was just brilliant so much that i bought the film as soon as it was released for ? and would recommend it to everyone to watch and the fly fishing was amazing really cried at the end it was so sad and you know what they say if you cry at a film it must have been good and this definitely was also ? to the two little boy's that played the ? of norman and paul they were just brilliant children are often left out of the ? list i think because the stars that play them all grown up are such a big profile for the whole film but these children are amazing and should be praised for what they have done don't you think the whole story was so lovely because it was true and was someone's life after all that was shared with us all\""
            ]
          },
          "execution_count": 3,
          "metadata": {},
          "output_type": "execute_result"
        }
      ],
      "source": [
        "word_index = imdb.get_word_index()\n",
        "reverse_word_index = dict([(value,key) for key,value in word_index.items()])\n",
        "decoded_review =  \" \".join([reverse_word_index.get(i-3,\"?\") for i in train_data[0]])\n",
        "decoded_review"
      ]
    },
    {
      "cell_type": "markdown",
      "metadata": {
        "id": "QvRiZLvfRW0i"
      },
      "source": [
        "the description might have variable number of words, hence it is important to pad/clip to a fixed length or multi-hot encode the sequence of integers so that the neural network re"
      ]
    },
    {
      "cell_type": "code",
      "execution_count": 4,
      "metadata": {
        "id": "HhBcWKN4Qr4w"
      },
      "outputs": [],
      "source": [
        "import numpy as np\n",
        "def vectorize_data(sequences,dimension = 10000):\n",
        "  results = np.zeros((len(sequences), dimension))\n",
        "  for i, sequence in enumerate(sequences):\n",
        "    for j in sequence:\n",
        "      results[i,j] = 1\n",
        "  return results\n",
        "\n"
      ]
    },
    {
      "cell_type": "code",
      "execution_count": 5,
      "metadata": {
        "id": "kmY2BVK0U02t"
      },
      "outputs": [],
      "source": [
        "x_train = vectorize_data(train_data,10000)\n",
        "x_test = vectorize_data(test_data,10000\n",
        "                        )"
      ]
    },
    {
      "cell_type": "code",
      "execution_count": 6,
      "metadata": {
        "colab": {
          "base_uri": "https://localhost:8080/"
        },
        "id": "5jdgAiykVIqc",
        "outputId": "360d757d-812d-466e-9733-ed351354e688"
      },
      "outputs": [
        {
          "data": {
            "text/plain": [
              "array([0., 1., 1., ..., 0., 0., 0.])"
            ]
          },
          "execution_count": 6,
          "metadata": {},
          "output_type": "execute_result"
        }
      ],
      "source": [
        "x_train[0]"
      ]
    },
    {
      "cell_type": "code",
      "execution_count": 7,
      "metadata": {
        "id": "QQzl023wVPsh"
      },
      "outputs": [],
      "source": [
        "y_train = np.asarray(train_labels).astype(np.float32)\n",
        "y_test = np.asarray(test_labels).astype(np.float32)"
      ]
    },
    {
      "cell_type": "code",
      "execution_count": 8,
      "metadata": {
        "id": "qNqjpUIuVcgV"
      },
      "outputs": [
        {
          "name": "stderr",
          "output_type": "stream",
          "text": [
            "2024-01-21 21:01:09.921729: I metal_plugin/src/device/metal_device.cc:1154] Metal device set to: Apple M2 Max\n",
            "2024-01-21 21:01:09.921751: I metal_plugin/src/device/metal_device.cc:296] systemMemory: 32.00 GB\n",
            "2024-01-21 21:01:09.921755: I metal_plugin/src/device/metal_device.cc:313] maxCacheSize: 10.67 GB\n",
            "2024-01-21 21:01:09.921814: I tensorflow/core/common_runtime/pluggable_device/pluggable_device_factory.cc:306] Could not identify NUMA node of platform GPU ID 0, defaulting to 0. Your kernel may not have been built with NUMA support.\n",
            "2024-01-21 21:01:09.922061: I tensorflow/core/common_runtime/pluggable_device/pluggable_device_factory.cc:272] Created TensorFlow device (/job:localhost/replica:0/task:0/device:GPU:0 with 0 MB memory) -> physical PluggableDevice (device: 0, name: METAL, pci bus id: <undefined>)\n"
          ]
        }
      ],
      "source": [
        "from tensorflow import keras\n",
        "from tensorflow.keras import layers\n",
        "\n",
        "model = keras.Sequential([\n",
        "    layers.Dense(16, activation=\"relu\"),\n",
        "    layers.Dense(16, activation=\"relu\"),\n",
        "    layers.Dense(1, activation=\"sigmoid\")\n",
        "])\n"
      ]
    },
    {
      "cell_type": "code",
      "execution_count": 9,
      "metadata": {
        "id": "h5k3PnsrXMYu"
      },
      "outputs": [],
      "source": [
        "model.compile(optimizer='rmsprop',loss = 'binary_crossentropy', metrics=['accuracy'])"
      ]
    },
    {
      "cell_type": "code",
      "execution_count": 10,
      "metadata": {
        "colab": {
          "base_uri": "https://localhost:8080/"
        },
        "id": "2dwpaMN3ZrPV",
        "outputId": "0cfec95d-0f3b-4a76-f327-c01176b02da9"
      },
      "outputs": [
        {
          "data": {
            "text/plain": [
              "(25000, 10000)"
            ]
          },
          "execution_count": 10,
          "metadata": {},
          "output_type": "execute_result"
        }
      ],
      "source": [
        "x_train.shape"
      ]
    },
    {
      "cell_type": "markdown",
      "metadata": {
        "id": "1hmeIXACYhj8"
      },
      "source": [
        "setting aside validation data"
      ]
    },
    {
      "cell_type": "code",
      "execution_count": 11,
      "metadata": {
        "id": "_0q7Z-TuYQaZ"
      },
      "outputs": [],
      "source": [
        "x_val = x_train[:10000]\n",
        "partial_x_train = x_train[10000:]\n",
        "y_val = y_train[:10000]\n",
        "partial_y_train = y_train[10000:]"
      ]
    },
    {
      "cell_type": "code",
      "execution_count": 12,
      "metadata": {
        "colab": {
          "base_uri": "https://localhost:8080/"
        },
        "id": "ITLZPGHKY0uf",
        "outputId": "5f73b701-6894-4bf2-d9a0-abbe40e55ebe"
      },
      "outputs": [
        {
          "name": "stdout",
          "output_type": "stream",
          "text": [
            "Epoch 1/20\n"
          ]
        },
        {
          "name": "stderr",
          "output_type": "stream",
          "text": [
            "2024-01-21 21:01:10.602640: I tensorflow/core/grappler/optimizers/custom_graph_optimizer_registry.cc:117] Plugin optimizer for device_type GPU is enabled.\n"
          ]
        },
        {
          "name": "stdout",
          "output_type": "stream",
          "text": [
            "30/30 [==============================] - 1s 28ms/step - loss: 0.5169 - accuracy: 0.7883 - val_loss: 0.4120 - val_accuracy: 0.8450\n",
            "Epoch 2/20\n",
            "30/30 [==============================] - 0s 13ms/step - loss: 0.3194 - accuracy: 0.8988 - val_loss: 0.3095 - val_accuracy: 0.8862\n",
            "Epoch 3/20\n",
            "30/30 [==============================] - 0s 13ms/step - loss: 0.2330 - accuracy: 0.9263 - val_loss: 0.2820 - val_accuracy: 0.8881\n",
            "Epoch 4/20\n",
            "30/30 [==============================] - 0s 13ms/step - loss: 0.1853 - accuracy: 0.9406 - val_loss: 0.2797 - val_accuracy: 0.8871\n",
            "Epoch 5/20\n",
            "30/30 [==============================] - 0s 13ms/step - loss: 0.1499 - accuracy: 0.9523 - val_loss: 0.2847 - val_accuracy: 0.8863\n",
            "Epoch 6/20\n",
            "30/30 [==============================] - 0s 13ms/step - loss: 0.1263 - accuracy: 0.9603 - val_loss: 0.2985 - val_accuracy: 0.8834\n",
            "Epoch 7/20\n",
            "30/30 [==============================] - 0s 13ms/step - loss: 0.1052 - accuracy: 0.9697 - val_loss: 0.3091 - val_accuracy: 0.8838\n",
            "Epoch 8/20\n",
            "30/30 [==============================] - 0s 13ms/step - loss: 0.0894 - accuracy: 0.9757 - val_loss: 0.3343 - val_accuracy: 0.8806\n",
            "Epoch 9/20\n",
            "30/30 [==============================] - 0s 13ms/step - loss: 0.0791 - accuracy: 0.9784 - val_loss: 0.3565 - val_accuracy: 0.8785\n",
            "Epoch 10/20\n",
            "30/30 [==============================] - 0s 13ms/step - loss: 0.0638 - accuracy: 0.9844 - val_loss: 0.4173 - val_accuracy: 0.8697\n",
            "Epoch 11/20\n",
            "30/30 [==============================] - 0s 13ms/step - loss: 0.0558 - accuracy: 0.9879 - val_loss: 0.4145 - val_accuracy: 0.8753\n",
            "Epoch 12/20\n",
            "30/30 [==============================] - 0s 13ms/step - loss: 0.0494 - accuracy: 0.9888 - val_loss: 0.4520 - val_accuracy: 0.8720\n",
            "Epoch 13/20\n",
            "30/30 [==============================] - 0s 13ms/step - loss: 0.0423 - accuracy: 0.9906 - val_loss: 0.4788 - val_accuracy: 0.8729\n",
            "Epoch 14/20\n",
            "30/30 [==============================] - 0s 13ms/step - loss: 0.0357 - accuracy: 0.9928 - val_loss: 0.5166 - val_accuracy: 0.8712\n",
            "Epoch 15/20\n",
            "30/30 [==============================] - 0s 13ms/step - loss: 0.0297 - accuracy: 0.9957 - val_loss: 0.6381 - val_accuracy: 0.8552\n",
            "Epoch 16/20\n",
            "30/30 [==============================] - 0s 13ms/step - loss: 0.0273 - accuracy: 0.9961 - val_loss: 0.5967 - val_accuracy: 0.8653\n",
            "Epoch 17/20\n",
            "30/30 [==============================] - 0s 13ms/step - loss: 0.0237 - accuracy: 0.9969 - val_loss: 0.6293 - val_accuracy: 0.8665\n",
            "Epoch 18/20\n",
            "30/30 [==============================] - 0s 13ms/step - loss: 0.0221 - accuracy: 0.9969 - val_loss: 0.6611 - val_accuracy: 0.8644\n",
            "Epoch 19/20\n",
            "30/30 [==============================] - 0s 13ms/step - loss: 0.0175 - accuracy: 0.9981 - val_loss: 0.8133 - val_accuracy: 0.8483\n",
            "Epoch 20/20\n",
            "30/30 [==============================] - 0s 13ms/step - loss: 0.0197 - accuracy: 0.9973 - val_loss: 0.7393 - val_accuracy: 0.8614\n"
          ]
        }
      ],
      "source": [
        "\n",
        "history = model.fit(partial_x_train,\n",
        "                    partial_y_train,\n",
        "                    epochs=20,\n",
        "                    batch_size=512,\n",
        "                    validation_data=(x_val, y_val))\n"
      ]
    },
    {
      "cell_type": "code",
      "execution_count": 13,
      "metadata": {
        "id": "vKGKcH9Janc2"
      },
      "outputs": [],
      "source": [
        "import matplotlib.pyplot as plt\n"
      ]
    },
    {
      "cell_type": "code",
      "execution_count": 14,
      "metadata": {
        "colab": {
          "base_uri": "https://localhost:8080/"
        },
        "id": "ewHTbcq2ZDBf",
        "outputId": "0c3ee17e-6093-421f-a129-ead5b61e13a1"
      },
      "outputs": [
        {
          "data": {
            "text/plain": [
              "dict_keys(['loss', 'accuracy', 'val_loss', 'val_accuracy'])"
            ]
          },
          "execution_count": 14,
          "metadata": {},
          "output_type": "execute_result"
        }
      ],
      "source": [
        "history_dict= history.history\n",
        "history_dict.keys()\n"
      ]
    },
    {
      "cell_type": "code",
      "execution_count": 15,
      "metadata": {
        "colab": {
          "base_uri": "https://localhost:8080/",
          "height": 472
        },
        "id": "P34BjaCirC11",
        "outputId": "f6a3c022-bc3e-4947-a3a9-742727b7bf30"
      },
      "outputs": [
        {
          "data": {
            "image/png": "[encoded data removed]",
            "text/plain": [
              "<Figure size 640x480 with 1 Axes>"
            ]
          },
          "metadata": {},
          "output_type": "display_data"
        }
      ],
      "source": [
        "loss_values = history_dict['loss']\n",
        "val_loss_values = history_dict['val_loss']\n",
        "epochs = range(1,len(loss_values)+1)\n",
        "plt.plot(epochs,loss_values,'bo',label=\"Training loss\")\n",
        "plt.plot(epochs,val_loss_values,'b',label=\"Validation loss\")\n",
        "plt.title(\"Training vs Validation loss\")\n",
        "plt.xlabel(\"Epochs\")\n",
        "plt.ylabel(\"Loss\")\n",
        "plt.legend()\n",
        "plt.show()"
      ]
    },
    {
      "cell_type": "code",
      "execution_count": 16,
      "metadata": {
        "colab": {
          "base_uri": "https://localhost:8080/",
          "height": 472
        },
        "id": "niSXV9dqrnwv",
        "outputId": "d1f035be-d312-4269-9a36-f720355bc0eb"
      },
      "outputs": [
        {
          "data": {
            "image/png": "[encoded data removed]",
            "text/plain": [
              "<Figure size 640x480 with 1 Axes>"
            ]
          },
          "metadata": {},
          "output_type": "display_data"
        }
      ],
      "source": [
        "accuracy = history_dict['accuracy']\n",
        "val_accuracy = history_dict['val_accuracy']\n",
        "epochs = range(1,len(loss_values)+1)\n",
        "plt.plot(epochs,accuracy,'bo',label=\"Training accuracy\")\n",
        "plt.plot(epochs,val_accuracy,'b',label=\"Validation accuracy\")\n",
        "plt.title(\"Training vs Validation accuracy\")\n",
        "plt.xlabel(\"Epochs\")\n",
        "plt.ylabel(\"Accuracy\")\n",
        "plt.legend()\n",
        "plt.show()"
      ]
    },
    {
      "cell_type": "markdown",
      "metadata": {
        "id": "Nj_lQtyisOLn"
      },
      "source": [
        "After 4 epochs, the model overfits. Another model with training for epochs is constructed and used for evaluation"
      ]
    },
    {
      "cell_type": "code",
      "execution_count": 17,
      "metadata": {
        "colab": {
          "base_uri": "https://localhost:8080/"
        },
        "id": "TErvu8jmsWxA",
        "outputId": "39458481-b111-42a3-a9f3-31aa87f9adf5"
      },
      "outputs": [
        {
          "name": "stdout",
          "output_type": "stream",
          "text": [
            "Epoch 1/4\n",
            "49/49 [==============================] - 1s 12ms/step - loss: 0.4504 - accuracy: 0.8162\n",
            "Epoch 2/4\n",
            "49/49 [==============================] - 0s 10ms/step - loss: 0.2621 - accuracy: 0.9090\n",
            "Epoch 3/4\n",
            "49/49 [==============================] - 0s 9ms/step - loss: 0.2026 - accuracy: 0.9275\n",
            "Epoch 4/4\n",
            "49/49 [==============================] - 0s 9ms/step - loss: 0.1707 - accuracy: 0.9386\n",
            "782/782 [==============================] - 3s 4ms/step - loss: 0.3434 - accuracy: 0.8672\n"
          ]
        }
      ],
      "source": [
        "model = keras.Sequential([\n",
        "    layers.Dense(16, activation=\"relu\"),\n",
        "    layers.Dense(16, activation=\"relu\"),\n",
        "    layers.Dense(1, activation=\"sigmoid\")\n",
        "])\n",
        "model.compile(optimizer=\"rmsprop\",\n",
        "              loss=\"binary_crossentropy\",\n",
        "              metrics=[\"accuracy\"])\n",
        "model.fit(x_train, y_train, epochs=4, batch_size=512)\n",
        "results = model.evaluate(x_test, y_test)"
      ]
    },
    {
      "cell_type": "code",
      "execution_count": 18,
      "metadata": {
        "colab": {
          "base_uri": "https://localhost:8080/"
        },
        "id": "npSsAPnCs-Ho",
        "outputId": "d209c4cb-1eb0-4d33-9af7-2e24f9c56d5f"
      },
      "outputs": [
        {
          "name": "stdout",
          "output_type": "stream",
          "text": [
            "782/782 [==============================] - 1s 2ms/step\n"
          ]
        },
        {
          "data": {
            "text/plain": [
              "array([[0.0984838 ],\n",
              "       [0.9999385 ],\n",
              "       [0.28209135],\n",
              "       ...,\n",
              "       [0.07597894],\n",
              "       [0.03838488],\n",
              "       [0.34944472]], dtype=float32)"
            ]
          },
          "execution_count": 18,
          "metadata": {},
          "output_type": "execute_result"
        }
      ],
      "source": [
        "model.predict(x_test)"
      ]
    },
    {
      "cell_type": "markdown",
      "metadata": {
        "id": "2vD2Mrcit5TC"
      },
      "source": [
        "Further experiments:\n",
        "Add an extra layer in the model with same optimizer and activation"
      ]
    },
    {
      "cell_type": "code",
      "execution_count": 19,
      "metadata": {
        "id": "xF4sezQstC94"
      },
      "outputs": [
        {
          "name": "stdout",
          "output_type": "stream",
          "text": [
            "Epoch 1/4\n",
            "49/49 [==============================] - 1s 13ms/step - loss: 0.4686 - accuracy: 0.8074\n",
            "Epoch 2/4\n",
            "49/49 [==============================] - 1s 11ms/step - loss: 0.2591 - accuracy: 0.9084\n",
            "Epoch 3/4\n",
            "49/49 [==============================] - 1s 11ms/step - loss: 0.1991 - accuracy: 0.9285\n",
            "Epoch 4/4\n",
            "49/49 [==============================] - 1s 10ms/step - loss: 0.1707 - accuracy: 0.9402\n",
            "782/782 [==============================] - 3s 4ms/step - loss: 0.3237 - accuracy: 0.8756\n"
          ]
        }
      ],
      "source": [
        "model = keras.Sequential([\n",
        "    layers.Dense(16, activation=\"relu\"),\n",
        "    layers.Dense(16, activation=\"relu\"),\n",
        "    layers.Dense(16,activation=\"relu\"),\n",
        "    layers.Dense(1, activation=\"sigmoid\")\n",
        "])\n",
        "model.compile(optimizer=\"rmsprop\",\n",
        "              loss=\"binary_crossentropy\",\n",
        "              metrics=[\"accuracy\"])\n",
        "model.fit(x_train, y_train, epochs=4, batch_size=512)\n",
        "results = model.evaluate(x_test, y_test)"
      ]
    },
    {
      "cell_type": "markdown",
      "metadata": {
        "id": "GLgWWuAhuZ4e"
      },
      "source": [
        "With the addition of an extra layers, there is not much change in loss or accuracy, in fact loss has worsened (maybe overfitting)"
      ]
    },
    {
      "cell_type": "code",
      "execution_count": 20,
      "metadata": {
        "id": "JfQbX2NeuUaN"
      },
      "outputs": [
        {
          "data": {
            "text/plain": [
              "[0.32373860478401184, 0.8755599856376648]"
            ]
          },
          "execution_count": 20,
          "metadata": {},
          "output_type": "execute_result"
        }
      ],
      "source": [
        "results"
      ]
    },
    {
      "cell_type": "markdown",
      "metadata": {
        "id": "GPiPUO11umxG"
      },
      "source": [
        "replace relu with tanh(another popular activation function)"
      ]
    },
    {
      "cell_type": "code",
      "execution_count": 21,
      "metadata": {
        "id": "AjsKYkjkuWI_"
      },
      "outputs": [
        {
          "name": "stdout",
          "output_type": "stream",
          "text": [
            "Epoch 1/4\n",
            "49/49 [==============================] - 1s 12ms/step - loss: 0.4085 - accuracy: 0.8355\n",
            "Epoch 2/4\n",
            "49/49 [==============================] - 1s 10ms/step - loss: 0.2323 - accuracy: 0.9138\n",
            "Epoch 3/4\n",
            "49/49 [==============================] - 0s 10ms/step - loss: 0.1769 - accuracy: 0.9346\n",
            "Epoch 4/4\n",
            "49/49 [==============================] - 0s 10ms/step - loss: 0.1497 - accuracy: 0.9446\n",
            "782/782 [==============================] - 3s 4ms/step - loss: 0.3200 - accuracy: 0.8773\n"
          ]
        }
      ],
      "source": [
        "model = keras.Sequential([\n",
        "    layers.Dense(16, activation=\"tanh\"),\n",
        "    layers.Dense(16, activation=\"tanh\"),\n",
        "    layers.Dense(1, activation=\"sigmoid\")\n",
        "])\n",
        "model.compile(optimizer=\"rmsprop\",\n",
        "              loss=\"binary_crossentropy\",\n",
        "              metrics=[\"accuracy\"])\n",
        "model.fit(x_train, y_train, epochs=4, batch_size=512)\n",
        "results = model.evaluate(x_test, y_test)"
      ]
    },
    {
      "cell_type": "markdown",
      "metadata": {},
      "source": [
        "with tanh, accuracy is good at 87.53 (seems better than relu with 4 layers)"
      ]
    },
    {
      "cell_type": "code",
      "execution_count": 22,
      "metadata": {},
      "outputs": [
        {
          "name": "stdout",
          "output_type": "stream",
          "text": [
            "Epoch 1/4\n",
            "49/49 [==============================] - 1s 12ms/step - loss: 0.4248 - accuracy: 0.8125\n",
            "Epoch 2/4\n",
            "49/49 [==============================] - 1s 10ms/step - loss: 0.2454 - accuracy: 0.9052\n",
            "Epoch 3/4\n",
            "49/49 [==============================] - 0s 10ms/step - loss: 0.1970 - accuracy: 0.9268\n",
            "Epoch 4/4\n",
            "49/49 [==============================] - 0s 10ms/step - loss: 0.1705 - accuracy: 0.9375\n",
            "782/782 [==============================] - 3s 4ms/step - loss: 0.3709 - accuracy: 0.8631\n"
          ]
        }
      ],
      "source": [
        "model = keras.Sequential([\n",
        "    layers.Dense(64, activation=\"relu\"),\n",
        "    layers.Dense(64, activation=\"relu\"),\n",
        "    layers.Dense(1, activation=\"sigmoid\")\n",
        "])\n",
        "model.compile(optimizer=\"rmsprop\",\n",
        "              loss=\"binary_crossentropy\",\n",
        "              metrics=[\"accuracy\"])\n",
        "model.fit(x_train, y_train, epochs=4, batch_size=512)\n",
        "results = model.evaluate(x_test, y_test)"
      ]
    },
    {
      "cell_type": "markdown",
      "metadata": {},
      "source": [
        "with the number of neurons in each layer increased to 64, the accruacy is still not that high ->implies with this architecture , with addition of number of neurons, there is overfitting in the validation data\n"
      ]
    },
    {
      "cell_type": "code",
      "execution_count": 23,
      "metadata": {},
      "outputs": [
        {
          "name": "stdout",
          "output_type": "stream",
          "text": [
            "Epoch 1/4\n",
            "49/49 [==============================] - 1s 10ms/step - loss: 0.1495 - accuracy: 0.8071\n",
            "Epoch 2/4\n",
            "49/49 [==============================] - 0s 9ms/step - loss: 0.0800 - accuracy: 0.9070\n",
            "Epoch 3/4\n",
            "49/49 [==============================] - 0s 8ms/step - loss: 0.0607 - accuracy: 0.9272\n",
            "Epoch 4/4\n",
            "49/49 [==============================] - 0s 8ms/step - loss: 0.0499 - accuracy: 0.9408\n",
            "782/782 [==============================] - 3s 4ms/step - loss: 0.0857 - accuracy: 0.8847\n"
          ]
        }
      ],
      "source": [
        "model = keras.Sequential([\n",
        "    layers.Dense(16, activation=\"relu\"),\n",
        "    layers.Dense(16, activation=\"relu\"),\n",
        "    layers.Dense(1, activation=\"sigmoid\")\n",
        "])\n",
        "model.compile(optimizer=\"rmsprop\",\n",
        "              loss=\"mse\",\n",
        "              metrics=[\"accuracy\"])\n",
        "model.fit(x_train, y_train, epochs=4, batch_size=512)\n",
        "results = model.evaluate(x_test, y_test)"
      ]
    },
    {
      "cell_type": "markdown",
      "metadata": {},
      "source": [
        "with the loss function being replaced with mse, still we are able to get the same results -> implying that the architecture no matter what the activation, loss function, num of layers, number of neurons per layer, the results are comparable"
      ]
    },
    {
      "cell_type": "code",
      "execution_count": 24,
      "metadata": {},
      "outputs": [
        {
          "name": "stdout",
          "output_type": "stream",
          "text": [
            "Epoch 1/4\n",
            "49/49 [==============================] - 1s 13ms/step - loss: 0.4800 - accuracy: 0.7996\n",
            "Epoch 2/4\n",
            "49/49 [==============================] - 1s 11ms/step - loss: 0.2686 - accuracy: 0.9042\n",
            "Epoch 3/4\n",
            "49/49 [==============================] - 1s 11ms/step - loss: 0.2033 - accuracy: 0.9273\n",
            "Epoch 4/4\n",
            "49/49 [==============================] - 1s 11ms/step - loss: 0.1701 - accuracy: 0.9408\n",
            "782/782 [==============================] - 3s 4ms/step - loss: 0.3133 - accuracy: 0.8779\n"
          ]
        }
      ],
      "source": [
        "model = keras.Sequential([\n",
        "    layers.Dense(16, activation=\"relu\"),\n",
        "    layers.Dense(16, activation=\"relu\"),\n",
        "    layers.Dense(16, activation=\"relu\"),\n",
        "    layers.Dense(1, activation=\"sigmoid\")\n",
        "])\n",
        "model.compile(optimizer=\"rmsprop\",\n",
        "              loss=\"binary_crossentropy\",\n",
        "              metrics=[\"accuracy\"])\n",
        "model.fit(x_train, y_train, epochs=4, batch_size=512)\n",
        "results = model.evaluate(x_test, y_test)"
      ]
    },
    {
      "cell_type": "markdown",
      "metadata": {},
      "source": [
        "Multiclass classification problem"
      ]
    },
    {
      "cell_type": "code",
      "execution_count": 25,
      "metadata": {},
      "outputs": [],
      "source": [
        "from tensorflow.keras.datasets import reuters\n",
        "(train_data, train_labels),(test_data,test_labels) = reuters.load_data(num_words = 10000)"
      ]
    },
    {
      "cell_type": "code",
      "execution_count": 26,
      "metadata": {},
      "outputs": [
        {
          "data": {
            "text/plain": [
              "(8982, 2246)"
            ]
          },
          "execution_count": 26,
          "metadata": {},
          "output_type": "execute_result"
        }
      ],
      "source": [
        "len(train_data),len(test_data)"
      ]
    },
    {
      "cell_type": "code",
      "execution_count": 27,
      "metadata": {},
      "outputs": [],
      "source": [
        "word_index = reuters.get_word_index()\n",
        "reverse_word_index = dict([(value,key) for key,value in word_index.items()])\n",
        "reverse_newswire = \" \".join([reverse_word_index.get(i-3,\"?\") for i in train_data[0]])"
      ]
    },
    {
      "cell_type": "code",
      "execution_count": 28,
      "metadata": {},
      "outputs": [
        {
          "data": {
            "text/plain": [
              "'? ? ? said as a result of its december acquisition of space co it expects earnings per share in 1987 of 1 15 to 1 30 dlrs per share up from 70 cts in 1986 the company said pretax net should rise to nine to 10 mln dlrs from six mln dlrs in 1986 and rental operation revenues to 19 to 22 mln dlrs from 12 5 mln dlrs it said cash flow per share this year should be 2 50 to three dlrs reuter 3'"
            ]
          },
          "execution_count": 28,
          "metadata": {},
          "output_type": "execute_result"
        }
      ],
      "source": [
        "reverse_newswire"
      ]
    },
    {
      "cell_type": "code",
      "execution_count": 29,
      "metadata": {},
      "outputs": [
        {
          "data": {
            "text/plain": [
              "3"
            ]
          },
          "execution_count": 29,
          "metadata": {},
          "output_type": "execute_result"
        }
      ],
      "source": [
        "train_labels[0]"
      ]
    },
    {
      "cell_type": "code",
      "execution_count": 30,
      "metadata": {},
      "outputs": [],
      "source": [
        "x_train = vectorize_data(train_data)\n",
        "x_test = vectorize_data(test_data)\n"
      ]
    },
    {
      "cell_type": "code",
      "execution_count": 31,
      "metadata": {},
      "outputs": [],
      "source": [
        "def to_onehot(labels, dimension=46):\n",
        "    results = np.zeros((len(labels),dimension))\n",
        "    for i,label in enumerate(labels):\n",
        "        results[i,label] = 1\n",
        "    return results"
      ]
    },
    {
      "cell_type": "code",
      "execution_count": 32,
      "metadata": {},
      "outputs": [],
      "source": [
        "y_train = to_onehot(train_labels)\n",
        "y_test = to_onehot(test_labels)"
      ]
    },
    {
      "cell_type": "markdown",
      "metadata": {},
      "source": [
        "keras built in api to one-hot encode the labels"
      ]
    },
    {
      "cell_type": "code",
      "execution_count": 33,
      "metadata": {},
      "outputs": [],
      "source": [
        "from keras.utils import to_categorical\n",
        "y_train = to_categorical(train_labels, 46)\n",
        "y_test = to_categorical(test_labels,46)"
      ]
    },
    {
      "cell_type": "code",
      "execution_count": 34,
      "metadata": {},
      "outputs": [],
      "source": [
        "model = keras.Sequential([\n",
        "    layers.Dense(64, activation=\"relu\"),\n",
        "    layers.Dense(64, activation=\"relu\"),\n",
        "    layers.Dense(46, activation=\"softmax\")\n",
        "])"
      ]
    },
    {
      "cell_type": "code",
      "execution_count": 35,
      "metadata": {},
      "outputs": [],
      "source": [
        "model.compile(optimizer='rmsprop', loss='categorical_crossentropy',metrics=[\"accuracy\"])"
      ]
    },
    {
      "cell_type": "code",
      "execution_count": 36,
      "metadata": {},
      "outputs": [],
      "source": [
        "x_val = x_train[:1000]\n",
        "partial_x_train = x_train[1000:]\n",
        "y_val = y_train[:1000]\n",
        "partial_y_train = y_train[1000:]"
      ]
    },
    {
      "cell_type": "code",
      "execution_count": 37,
      "metadata": {},
      "outputs": [
        {
          "name": "stdout",
          "output_type": "stream",
          "text": [
            "Epoch 1/20\n",
            "16/16 [==============================] - 1s 30ms/step - loss: 2.3607 - accuracy: 0.5455 - val_loss: 1.6366 - val_accuracy: 0.6430\n",
            "Epoch 2/20\n",
            "16/16 [==============================] - 0s 16ms/step - loss: 1.3944 - accuracy: 0.7088 - val_loss: 1.3265 - val_accuracy: 0.7230\n",
            "Epoch 3/20\n",
            "16/16 [==============================] - 0s 16ms/step - loss: 1.0552 - accuracy: 0.7821 - val_loss: 1.1632 - val_accuracy: 0.7420\n",
            "Epoch 4/20\n",
            "16/16 [==============================] - 0s 16ms/step - loss: 0.8354 - accuracy: 0.8320 - val_loss: 1.0285 - val_accuracy: 0.7840\n",
            "Epoch 5/20\n",
            "16/16 [==============================] - 0s 16ms/step - loss: 0.6577 - accuracy: 0.8693 - val_loss: 0.9756 - val_accuracy: 0.8070\n",
            "Epoch 6/20\n",
            "16/16 [==============================] - 0s 15ms/step - loss: 0.5257 - accuracy: 0.8976 - val_loss: 0.9205 - val_accuracy: 0.8180\n",
            "Epoch 7/20\n",
            "16/16 [==============================] - 0s 16ms/step - loss: 0.4189 - accuracy: 0.9186 - val_loss: 0.9560 - val_accuracy: 0.8000\n",
            "Epoch 8/20\n",
            "16/16 [==============================] - 0s 16ms/step - loss: 0.3471 - accuracy: 0.9295 - val_loss: 0.8981 - val_accuracy: 0.8120\n",
            "Epoch 9/20\n",
            "16/16 [==============================] - 0s 16ms/step - loss: 0.2878 - accuracy: 0.9379 - val_loss: 0.8946 - val_accuracy: 0.8270\n",
            "Epoch 10/20\n",
            "16/16 [==============================] - 0s 16ms/step - loss: 0.2507 - accuracy: 0.9437 - val_loss: 0.9171 - val_accuracy: 0.8150\n",
            "Epoch 11/20\n",
            "16/16 [==============================] - 0s 16ms/step - loss: 0.2064 - accuracy: 0.9491 - val_loss: 0.9265 - val_accuracy: 0.8150\n",
            "Epoch 12/20\n",
            "16/16 [==============================] - 0s 15ms/step - loss: 0.1846 - accuracy: 0.9526 - val_loss: 0.9648 - val_accuracy: 0.8000\n",
            "Epoch 13/20\n",
            "16/16 [==============================] - 0s 16ms/step - loss: 0.1671 - accuracy: 0.9529 - val_loss: 0.9619 - val_accuracy: 0.8130\n",
            "Epoch 14/20\n",
            "16/16 [==============================] - 0s 16ms/step - loss: 0.1542 - accuracy: 0.9533 - val_loss: 0.9787 - val_accuracy: 0.8130\n",
            "Epoch 15/20\n",
            "16/16 [==============================] - 0s 16ms/step - loss: 0.1409 - accuracy: 0.9574 - val_loss: 0.9786 - val_accuracy: 0.8260\n",
            "Epoch 16/20\n",
            "16/16 [==============================] - 0s 15ms/step - loss: 0.1362 - accuracy: 0.9574 - val_loss: 1.0080 - val_accuracy: 0.8160\n",
            "Epoch 17/20\n",
            "16/16 [==============================] - 0s 15ms/step - loss: 0.1278 - accuracy: 0.9567 - val_loss: 1.0359 - val_accuracy: 0.8080\n",
            "Epoch 18/20\n",
            "16/16 [==============================] - 0s 15ms/step - loss: 0.1222 - accuracy: 0.9574 - val_loss: 1.0648 - val_accuracy: 0.8060\n",
            "Epoch 19/20\n",
            "16/16 [==============================] - 0s 15ms/step - loss: 0.1165 - accuracy: 0.9602 - val_loss: 1.0739 - val_accuracy: 0.8060\n",
            "Epoch 20/20\n",
            "16/16 [==============================] - 0s 15ms/step - loss: 0.1132 - accuracy: 0.9574 - val_loss: 1.1415 - val_accuracy: 0.7980\n"
          ]
        }
      ],
      "source": [
        "history = model.fit(partial_x_train, partial_y_train, epochs = 20, batch_size=512, validation_data = (x_val,y_val))"
      ]
    },
    {
      "cell_type": "code",
      "execution_count": 38,
      "metadata": {},
      "outputs": [
        {
          "data": {
            "image/png": "[encoded data removed]",
            "text/plain": [
              "<Figure size 640x480 with 1 Axes>"
            ]
          },
          "metadata": {},
          "output_type": "display_data"
        }
      ],
      "source": [
        "loss = history.history[\"loss\"]\n",
        "val_loss = history.history[\"val_loss\"]\n",
        "epochs = range(1, len(loss) + 1)\n",
        "plt.plot(epochs, loss, \"bo\", label=\"Training loss\")\n",
        "plt.plot(epochs, val_loss, \"b\", label=\"Validation loss\")\n",
        "plt.title(\"Training and validation loss\")\n",
        "plt.xlabel(\"Epochs\")\n",
        "plt.ylabel(\"Loss\")\n",
        "plt.legend()\n",
        "plt.show()"
      ]
    },
    {
      "cell_type": "code",
      "execution_count": 39,
      "metadata": {},
      "outputs": [
        {
          "data": {
            "image/png": "[encoded data removed]",
            "text/plain": [
              "<Figure size 640x480 with 1 Axes>"
            ]
          },
          "metadata": {},
          "output_type": "display_data"
        }
      ],
      "source": [
        "\n",
        "acc = history.history[\"accuracy\"]\n",
        "val_acc = history.history[\"val_accuracy\"]\n",
        "plt.plot(epochs, acc, \"bo\", label=\"Training accuracy\")\n",
        "plt.plot(epochs, val_acc, \"b\", label=\"Validation accuracy\")\n",
        "plt.title(\"Training and validation accuracy\")\n",
        "plt.xlabel(\"Epochs\")\n",
        "plt.ylabel(\"Accuracy\")\n",
        "plt.legend()\n",
        "plt.show()"
      ]
    },
    {
      "cell_type": "markdown",
      "metadata": {},
      "source": [
        "after 9 epochs, there is a drop in validation accuracy and validation loss increase"
      ]
    },
    {
      "cell_type": "code",
      "execution_count": 40,
      "metadata": {},
      "outputs": [
        {
          "name": "stdout",
          "output_type": "stream",
          "text": [
            "Epoch 1/9\n",
            "18/18 [==============================] - 1s 17ms/step - loss: 2.3615 - accuracy: 0.5404\n",
            "Epoch 2/9\n",
            "18/18 [==============================] - 0s 14ms/step - loss: 1.3061 - accuracy: 0.7279\n",
            "Epoch 3/9\n",
            "18/18 [==============================] - 0s 13ms/step - loss: 0.9645 - accuracy: 0.7924\n",
            "Epoch 4/9\n",
            "18/18 [==============================] - 0s 13ms/step - loss: 0.7468 - accuracy: 0.8430\n",
            "Epoch 5/9\n",
            "18/18 [==============================] - 0s 12ms/step - loss: 0.5903 - accuracy: 0.8792\n",
            "Epoch 6/9\n",
            "18/18 [==============================] - 0s 12ms/step - loss: 0.4650 - accuracy: 0.9058\n",
            "Epoch 7/9\n",
            "18/18 [==============================] - 0s 12ms/step - loss: 0.3753 - accuracy: 0.9250\n",
            "Epoch 8/9\n",
            "18/18 [==============================] - 0s 13ms/step - loss: 0.3053 - accuracy: 0.9352\n",
            "Epoch 9/9\n",
            "18/18 [==============================] - 0s 12ms/step - loss: 0.2595 - accuracy: 0.9419\n",
            "71/71 [==============================] - 1s 8ms/step - loss: 0.9521 - accuracy: 0.7983\n"
          ]
        }
      ],
      "source": [
        "model = keras.Sequential([\n",
        "    layers.Dense(64, activation=\"relu\"),\n",
        "\n",
        "            layers.Dense(64, activation=\"relu\"),\n",
        "            layers.Dense(46, activation=\"softmax\")\n",
        "        ])\n",
        "model.compile(optimizer=\"rmsprop\",\n",
        "                      loss=\"categorical_crossentropy\",\n",
        "                      metrics=[\"accuracy\"])\n",
        "model.fit(x_train,\n",
        "                  y_train,\n",
        "                  epochs=9,\n",
        "                  batch_size=512)\n",
        "results = model.evaluate(x_test, y_test)"
      ]
    },
    {
      "cell_type": "code",
      "execution_count": 41,
      "metadata": {},
      "outputs": [
        {
          "name": "stdout",
          "output_type": "stream",
          "text": [
            "71/71 [==============================] - 0s 2ms/step\n"
          ]
        }
      ],
      "source": [
        "predictions = model.predict(x_test)"
      ]
    },
    {
      "cell_type": "code",
      "execution_count": 42,
      "metadata": {},
      "outputs": [
        {
          "data": {
            "text/plain": [
              "3"
            ]
          },
          "execution_count": 42,
          "metadata": {},
          "output_type": "execute_result"
        }
      ],
      "source": [
        "predictions[0].argmax()"
      ]
    },
    {
      "cell_type": "code",
      "execution_count": 43,
      "metadata": {},
      "outputs": [
        {
          "data": {
            "text/plain": [
              "0.99999994"
            ]
          },
          "execution_count": 43,
          "metadata": {},
          "output_type": "execute_result"
        }
      ],
      "source": [
        "np.sum(predictions[0])"
      ]
    },
    {
      "cell_type": "code",
      "execution_count": 44,
      "metadata": {},
      "outputs": [
        {
          "data": {
            "text/plain": [
              "3"
            ]
          },
          "execution_count": 44,
          "metadata": {},
          "output_type": "execute_result"
        }
      ],
      "source": [
        "y_test[0].argmax()"
      ]
    },
    {
      "cell_type": "markdown",
      "metadata": {},
      "source": [
        "another way of handling it is to use categorical label encoding where the labels are stored as integers\n",
        "the loss function will be replaced with sparsecategorical cross entropy which does the same thing with chagne in interface\n"
      ]
    },
    {
      "cell_type": "code",
      "execution_count": 45,
      "metadata": {},
      "outputs": [
        {
          "name": "stdout",
          "output_type": "stream",
          "text": [
            "Epoch 1/20\n",
            "63/63 [==============================] - 1s 16ms/step - loss: 3.4341 - accuracy: 0.3052 - val_loss: 3.1774 - val_accuracy: 0.4060\n",
            "Epoch 2/20\n",
            "63/63 [==============================] - 1s 13ms/step - loss: 2.9140 - accuracy: 0.4245 - val_loss: 2.6392 - val_accuracy: 0.4410\n",
            "Epoch 3/20\n",
            "63/63 [==============================] - 1s 13ms/step - loss: 2.3964 - accuracy: 0.4500 - val_loss: 2.2344 - val_accuracy: 0.4470\n",
            "Epoch 4/20\n",
            "63/63 [==============================] - 1s 13ms/step - loss: 2.0441 - accuracy: 0.4672 - val_loss: 2.0397 - val_accuracy: 0.4680\n",
            "Epoch 5/20\n",
            "63/63 [==============================] - 1s 13ms/step - loss: 1.8297 - accuracy: 0.4887 - val_loss: 1.9406 - val_accuracy: 0.5030\n",
            "Epoch 6/20\n",
            "63/63 [==============================] - 1s 13ms/step - loss: 1.6640 - accuracy: 0.5174 - val_loss: 1.7867 - val_accuracy: 0.5130\n",
            "Epoch 7/20\n",
            "63/63 [==============================] - 1s 12ms/step - loss: 1.5170 - accuracy: 0.5682 - val_loss: 1.7455 - val_accuracy: 0.6120\n",
            "Epoch 8/20\n",
            "63/63 [==============================] - 1s 13ms/step - loss: 1.3790 - accuracy: 0.6456 - val_loss: 1.6235 - val_accuracy: 0.6350\n",
            "Epoch 9/20\n",
            "63/63 [==============================] - 1s 12ms/step - loss: 1.2518 - accuracy: 0.6936 - val_loss: 1.6227 - val_accuracy: 0.6480\n",
            "Epoch 10/20\n",
            "63/63 [==============================] - 1s 13ms/step - loss: 1.1727 - accuracy: 0.7215 - val_loss: 1.6345 - val_accuracy: 0.6650\n",
            "Epoch 11/20\n",
            "63/63 [==============================] - 1s 12ms/step - loss: 1.0994 - accuracy: 0.7536 - val_loss: 1.6155 - val_accuracy: 0.6740\n",
            "Epoch 12/20\n",
            "63/63 [==============================] - 1s 13ms/step - loss: 1.0526 - accuracy: 0.7724 - val_loss: 1.6468 - val_accuracy: 0.6900\n",
            "Epoch 13/20\n",
            "63/63 [==============================] - 1s 12ms/step - loss: 1.0116 - accuracy: 0.7856 - val_loss: 1.6891 - val_accuracy: 0.6870\n",
            "Epoch 14/20\n",
            "63/63 [==============================] - 1s 12ms/step - loss: 0.9818 - accuracy: 0.7954 - val_loss: 1.7277 - val_accuracy: 0.6870\n",
            "Epoch 15/20\n",
            "63/63 [==============================] - 1s 12ms/step - loss: 0.9553 - accuracy: 0.8072 - val_loss: 1.7146 - val_accuracy: 0.6900\n",
            "Epoch 16/20\n",
            "63/63 [==============================] - 1s 12ms/step - loss: 0.9375 - accuracy: 0.8132 - val_loss: 1.8167 - val_accuracy: 0.6840\n",
            "Epoch 17/20\n",
            "63/63 [==============================] - 1s 12ms/step - loss: 0.9214 - accuracy: 0.8198 - val_loss: 1.8093 - val_accuracy: 0.6880\n",
            "Epoch 18/20\n",
            "63/63 [==============================] - 1s 12ms/step - loss: 0.9024 - accuracy: 0.8241 - val_loss: 1.8938 - val_accuracy: 0.6880\n",
            "Epoch 19/20\n",
            "63/63 [==============================] - 1s 12ms/step - loss: 0.8964 - accuracy: 0.8294 - val_loss: 1.9038 - val_accuracy: 0.6870\n",
            "Epoch 20/20\n",
            "63/63 [==============================] - 1s 12ms/step - loss: 0.8836 - accuracy: 0.8317 - val_loss: 1.9325 - val_accuracy: 0.6910\n"
          ]
        },
        {
          "data": {
            "text/plain": [
              "<keras.src.callbacks.History at 0x2dffcff10>"
            ]
          },
          "execution_count": 45,
          "metadata": {},
          "output_type": "execute_result"
        }
      ],
      "source": [
        "model = keras.Sequential([\n",
        "    layers.Dense(64, activation=\"relu\"),\n",
        "    layers.Dense(4, activation=\"relu\"),\n",
        "    layers.Dense(46, activation=\"softmax\")\n",
        "])\n",
        "model.compile(optimizer=\"rmsprop\",\n",
        "              loss=\"categorical_crossentropy\",\n",
        "              metrics=[\"accuracy\"])\n",
        "model.fit(partial_x_train,\n",
        "          partial_y_train,\n",
        "          epochs=20,\n",
        "          batch_size=128,\n",
        "          validation_data=(x_val, y_val))"
      ]
    },
    {
      "cell_type": "markdown",
      "metadata": {},
      "source": [
        "with a reduction in size of intermediate layer ->4 which is much less than 46, there is a drop in accuracy of 8 percent. because not engouh neurons to learn the representations"
      ]
    },
    {
      "cell_type": "markdown",
      "metadata": {},
      "source": [
        "Further experiments : increase depth, increase /decrease number of neurons per layer"
      ]
    },
    {
      "cell_type": "code",
      "execution_count": 46,
      "metadata": {},
      "outputs": [
        {
          "name": "stdout",
          "output_type": "stream",
          "text": [
            "Epoch 1/20\n",
            "63/63 [==============================] - 2s 18ms/step - loss: 1.8005 - accuracy: 0.6096 - val_loss: 1.3154 - val_accuracy: 0.7130\n",
            "Epoch 2/20\n",
            "63/63 [==============================] - 1s 14ms/step - loss: 1.0010 - accuracy: 0.7783 - val_loss: 1.0533 - val_accuracy: 0.7640\n",
            "Epoch 3/20\n",
            "63/63 [==============================] - 1s 14ms/step - loss: 0.6747 - accuracy: 0.8548 - val_loss: 1.0053 - val_accuracy: 0.7930\n",
            "Epoch 4/20\n",
            "63/63 [==============================] - 1s 14ms/step - loss: 0.4618 - accuracy: 0.9037 - val_loss: 0.9279 - val_accuracy: 0.8050\n",
            "Epoch 5/20\n",
            "63/63 [==============================] - 1s 15ms/step - loss: 0.3357 - accuracy: 0.9290 - val_loss: 1.0714 - val_accuracy: 0.7920\n",
            "Epoch 6/20\n",
            "63/63 [==============================] - 1s 14ms/step - loss: 0.2631 - accuracy: 0.9422 - val_loss: 1.0251 - val_accuracy: 0.8130\n",
            "Epoch 7/20\n",
            "63/63 [==============================] - 1s 14ms/step - loss: 0.2229 - accuracy: 0.9470 - val_loss: 1.1220 - val_accuracy: 0.7890\n",
            "Epoch 8/20\n",
            "63/63 [==============================] - 1s 14ms/step - loss: 0.1925 - accuracy: 0.9524 - val_loss: 1.0849 - val_accuracy: 0.8010\n",
            "Epoch 9/20\n",
            "63/63 [==============================] - 1s 14ms/step - loss: 0.1830 - accuracy: 0.9535 - val_loss: 1.1419 - val_accuracy: 0.7910\n",
            "Epoch 10/20\n",
            "63/63 [==============================] - 1s 15ms/step - loss: 0.1625 - accuracy: 0.9546 - val_loss: 1.1659 - val_accuracy: 0.7990\n",
            "Epoch 11/20\n",
            "63/63 [==============================] - 1s 14ms/step - loss: 0.1570 - accuracy: 0.9545 - val_loss: 1.2157 - val_accuracy: 0.7980\n",
            "Epoch 12/20\n",
            "63/63 [==============================] - 1s 14ms/step - loss: 0.1436 - accuracy: 0.9570 - val_loss: 1.1883 - val_accuracy: 0.8060\n",
            "Epoch 13/20\n",
            "63/63 [==============================] - 1s 14ms/step - loss: 0.1382 - accuracy: 0.9564 - val_loss: 1.3067 - val_accuracy: 0.7910\n",
            "Epoch 14/20\n",
            "63/63 [==============================] - 1s 14ms/step - loss: 0.1369 - accuracy: 0.9553 - val_loss: 1.3311 - val_accuracy: 0.7880\n",
            "Epoch 15/20\n",
            "63/63 [==============================] - 1s 14ms/step - loss: 0.1283 - accuracy: 0.9555 - val_loss: 1.3503 - val_accuracy: 0.7850\n",
            "Epoch 16/20\n",
            "63/63 [==============================] - 1s 14ms/step - loss: 0.1185 - accuracy: 0.9579 - val_loss: 1.3599 - val_accuracy: 0.7920\n",
            "Epoch 17/20\n",
            "63/63 [==============================] - 1s 14ms/step - loss: 0.1182 - accuracy: 0.9583 - val_loss: 1.4247 - val_accuracy: 0.7840\n",
            "Epoch 18/20\n",
            "63/63 [==============================] - 1s 14ms/step - loss: 0.1126 - accuracy: 0.9572 - val_loss: 1.4653 - val_accuracy: 0.7790\n",
            "Epoch 19/20\n",
            "63/63 [==============================] - 1s 14ms/step - loss: 0.1113 - accuracy: 0.9587 - val_loss: 1.4334 - val_accuracy: 0.7920\n",
            "Epoch 20/20\n",
            "63/63 [==============================] - 1s 14ms/step - loss: 0.1048 - accuracy: 0.9588 - val_loss: 1.5245 - val_accuracy: 0.7720\n"
          ]
        },
        {
          "data": {
            "text/plain": [
              "<keras.src.callbacks.History at 0x4abb82f90>"
            ]
          },
          "execution_count": 46,
          "metadata": {},
          "output_type": "execute_result"
        }
      ],
      "source": [
        "model = keras.Sequential([\n",
        "    layers.Dense(64, activation=\"relu\"),\n",
        "layers.Dense(64, activation=\"relu\"),\n",
        "layers.Dense(64, activation=\"relu\"),\n",
        "    layers.Dense(46, activation=\"softmax\")\n",
        "])\n",
        "model.compile(optimizer=\"rmsprop\",\n",
        "              loss=\"categorical_crossentropy\",\n",
        "              metrics=[\"accuracy\"])\n",
        "model.fit(partial_x_train,\n",
        "          partial_y_train,\n",
        "          epochs=20,\n",
        "          batch_size=128,\n",
        "          validation_data=(x_val, y_val))"
      ]
    },
    {
      "cell_type": "markdown",
      "metadata": {},
      "source": [
        "with decrease in number of neurons to 32 in intermediate layer, there is a small drop in accuracy though not very much. with neuron count increased to 128, it is still 79.5 which is close to original accuracy -> this parameter affects the accuracy but not considerably\n",
        "Taking out one intermediate layer also does not disturb the model much, in fact the accuracy is still 80 perent on validation dataset\n",
        "\n",
        "increase in number of layers, i.e depth of the model is worse , it decreases val accuracy by 2 percent -> due to overfitting"
      ]
    },
    {
      "cell_type": "markdown",
      "metadata": {},
      "source": [
        "Regression problem - Boston housing price dataset"
      ]
    },
    {
      "cell_type": "code",
      "execution_count": 48,
      "metadata": {},
      "outputs": [
        {
          "name": "stdout",
          "output_type": "stream",
          "text": [
            "Downloading data from https://storage.googleapis.com/tensorflow/tf-keras-datasets/boston_housing.npz\n",
            "57026/57026 [==============================] - 0s 0us/step\n"
          ]
        }
      ],
      "source": [
        "from tensorflow.keras.datasets import boston_housing\n",
        "(train_data, train_targets), (test_data,test_targets) = boston_housing.load_data()"
      ]
    },
    {
      "cell_type": "code",
      "execution_count": 49,
      "metadata": {},
      "outputs": [
        {
          "data": {
            "text/plain": [
              "(404, 13)"
            ]
          },
          "execution_count": 49,
          "metadata": {},
          "output_type": "execute_result"
        }
      ],
      "source": [
        "train_data.shape"
      ]
    },
    {
      "cell_type": "code",
      "execution_count": 50,
      "metadata": {},
      "outputs": [
        {
          "data": {
            "text/plain": [
              "(102, 13)"
            ]
          },
          "execution_count": 50,
          "metadata": {},
          "output_type": "execute_result"
        }
      ],
      "source": [
        "test_data.shape"
      ]
    },
    {
      "cell_type": "code",
      "execution_count": 51,
      "metadata": {},
      "outputs": [
        {
          "data": {
            "text/plain": [
              "array([  1.23247,   0.     ,   8.14   ,   0.     ,   0.538  ,   6.142  ,\n",
              "        91.7    ,   3.9769 ,   4.     , 307.     ,  21.     , 396.9    ,\n",
              "        18.72   ])"
            ]
          },
          "execution_count": 51,
          "metadata": {},
          "output_type": "execute_result"
        }
      ],
      "source": [
        "train_data[0\n",
        "           ]"
      ]
    },
    {
      "cell_type": "markdown",
      "metadata": {},
      "source": [
        "the 13 features are of different scales and hence we will have to do feature normalization to make learning more stable and easier\n",
        "also, the number of samples are very low compared to classification problems. "
      ]
    },
    {
      "cell_type": "code",
      "execution_count": 52,
      "metadata": {},
      "outputs": [
        {
          "data": {
            "text/plain": [
              "array([15.2, 42.3, 50. , 21.1, 17.7, 18.5, 11.3, 15.6, 15.6, 14.4, 12.1,\n",
              "       17.9, 23.1, 19.9, 15.7,  8.8, 50. , 22.5, 24.1, 27.5, 10.9, 30.8,\n",
              "       32.9, 24. , 18.5, 13.3, 22.9, 34.7, 16.6, 17.5, 22.3, 16.1, 14.9,\n",
              "       23.1, 34.9, 25. , 13.9, 13.1, 20.4, 20. , 15.2, 24.7, 22.2, 16.7,\n",
              "       12.7, 15.6, 18.4, 21. , 30.1, 15.1, 18.7,  9.6, 31.5, 24.8, 19.1,\n",
              "       22. , 14.5, 11. , 32. , 29.4, 20.3, 24.4, 14.6, 19.5, 14.1, 14.3,\n",
              "       15.6, 10.5,  6.3, 19.3, 19.3, 13.4, 36.4, 17.8, 13.5, 16.5,  8.3,\n",
              "       14.3, 16. , 13.4, 28.6, 43.5, 20.2, 22. , 23. , 20.7, 12.5, 48.5,\n",
              "       14.6, 13.4, 23.7, 50. , 21.7, 39.8, 38.7, 22.2, 34.9, 22.5, 31.1,\n",
              "       28.7, 46. , 41.7, 21. , 26.6, 15. , 24.4, 13.3, 21.2, 11.7, 21.7,\n",
              "       19.4, 50. , 22.8, 19.7, 24.7, 36.2, 14.2, 18.9, 18.3, 20.6, 24.6,\n",
              "       18.2,  8.7, 44. , 10.4, 13.2, 21.2, 37. , 30.7, 22.9, 20. , 19.3,\n",
              "       31.7, 32. , 23.1, 18.8, 10.9, 50. , 19.6,  5. , 14.4, 19.8, 13.8,\n",
              "       19.6, 23.9, 24.5, 25. , 19.9, 17.2, 24.6, 13.5, 26.6, 21.4, 11.9,\n",
              "       22.6, 19.6,  8.5, 23.7, 23.1, 22.4, 20.5, 23.6, 18.4, 35.2, 23.1,\n",
              "       27.9, 20.6, 23.7, 28. , 13.6, 27.1, 23.6, 20.6, 18.2, 21.7, 17.1,\n",
              "        8.4, 25.3, 13.8, 22.2, 18.4, 20.7, 31.6, 30.5, 20.3,  8.8, 19.2,\n",
              "       19.4, 23.1, 23. , 14.8, 48.8, 22.6, 33.4, 21.1, 13.6, 32.2, 13.1,\n",
              "       23.4, 18.9, 23.9, 11.8, 23.3, 22.8, 19.6, 16.7, 13.4, 22.2, 20.4,\n",
              "       21.8, 26.4, 14.9, 24.1, 23.8, 12.3, 29.1, 21. , 19.5, 23.3, 23.8,\n",
              "       17.8, 11.5, 21.7, 19.9, 25. , 33.4, 28.5, 21.4, 24.3, 27.5, 33.1,\n",
              "       16.2, 23.3, 48.3, 22.9, 22.8, 13.1, 12.7, 22.6, 15. , 15.3, 10.5,\n",
              "       24. , 18.5, 21.7, 19.5, 33.2, 23.2,  5. , 19.1, 12.7, 22.3, 10.2,\n",
              "       13.9, 16.3, 17. , 20.1, 29.9, 17.2, 37.3, 45.4, 17.8, 23.2, 29. ,\n",
              "       22. , 18. , 17.4, 34.6, 20.1, 25. , 15.6, 24.8, 28.2, 21.2, 21.4,\n",
              "       23.8, 31. , 26.2, 17.4, 37.9, 17.5, 20. ,  8.3, 23.9,  8.4, 13.8,\n",
              "        7.2, 11.7, 17.1, 21.6, 50. , 16.1, 20.4, 20.6, 21.4, 20.6, 36.5,\n",
              "        8.5, 24.8, 10.8, 21.9, 17.3, 18.9, 36.2, 14.9, 18.2, 33.3, 21.8,\n",
              "       19.7, 31.6, 24.8, 19.4, 22.8,  7.5, 44.8, 16.8, 18.7, 50. , 50. ,\n",
              "       19.5, 20.1, 50. , 17.2, 20.8, 19.3, 41.3, 20.4, 20.5, 13.8, 16.5,\n",
              "       23.9, 20.6, 31.5, 23.3, 16.8, 14. , 33.8, 36.1, 12.8, 18.3, 18.7,\n",
              "       19.1, 29. , 30.1, 50. , 50. , 22. , 11.9, 37.6, 50. , 22.7, 20.8,\n",
              "       23.5, 27.9, 50. , 19.3, 23.9, 22.6, 15.2, 21.7, 19.2, 43.8, 20.3,\n",
              "       33.2, 19.9, 22.5, 32.7, 22. , 17.1, 19. , 15. , 16.1, 25.1, 23.7,\n",
              "       28.7, 37.2, 22.6, 16.4, 25. , 29.8, 22.1, 17.4, 18.1, 30.3, 17.5,\n",
              "       24.7, 12.6, 26.5, 28.7, 13.3, 10.4, 24.4, 23. , 20. , 17.8,  7. ,\n",
              "       11.8, 24.4, 13.8, 19.4, 25.2, 19.4, 19.4, 29.1])"
            ]
          },
          "execution_count": 52,
          "metadata": {},
          "output_type": "execute_result"
        }
      ],
      "source": [
        "train_targets"
      ]
    },
    {
      "cell_type": "markdown",
      "metadata": {},
      "source": [
        "the targets are median house values in thousands of dollars"
      ]
    },
    {
      "cell_type": "code",
      "execution_count": 53,
      "metadata": {},
      "outputs": [
        {
          "data": {
            "text/plain": [
              "(5.0, 50.0)"
            ]
          },
          "execution_count": 53,
          "metadata": {},
          "output_type": "execute_result"
        }
      ],
      "source": [
        "train_targets.min(), train_targets.max()"
      ]
    },
    {
      "cell_type": "markdown",
      "metadata": {},
      "source": [
        "Normalization of data - subtract from column mean and divide by column std"
      ]
    },
    {
      "cell_type": "code",
      "execution_count": 54,
      "metadata": {},
      "outputs": [],
      "source": [
        "mean = train_data.mean(axis=0)\n",
        "train_data -= mean\n",
        "std = train_data.std(axis=0)\n",
        "train_data /= std\n",
        "test_data -= mean\n",
        "test_data /= std"
      ]
    },
    {
      "cell_type": "code",
      "execution_count": 57,
      "metadata": {},
      "outputs": [],
      "source": [
        "def build_model():\n",
        "    model = keras.Sequential([\n",
        "        layers.Dense(64, activation='relu'),\n",
        "        layers.Dense(64,activation='relu'),\n",
        "        layers.Dense(1)\n",
        "    ])\n",
        "    model.compile(optimizer='rmsprop', loss='mse',metrics = ['mae'])\n",
        "    return model"
      ]
    },
    {
      "cell_type": "markdown",
      "metadata": {},
      "source": [
        "Splitting of training and validation data"
      ]
    },
    {
      "cell_type": "code",
      "execution_count": 65,
      "metadata": {},
      "outputs": [
        {
          "name": "stdout",
          "output_type": "stream",
          "text": [
            "Processing fold #0\n",
            "Processing fold #1\n",
            "Processing fold #2\n",
            "Processing fold #3\n"
          ]
        }
      ],
      "source": [
        "k = 4\n",
        "num_val_samples = len(train_data) // k\n",
        "num_epochs = 100\n",
        "all_scores = []\n",
        "for i in range(k):\n",
        "\n",
        "    print(f\"Processing fold #{i}\")\n",
        "    val_data = train_data[i * num_val_samples: (i + 1) * num_val_samples] \n",
        "    val_targets = train_targets[i * num_val_samples: (i + 1) * num_val_samples] \n",
        "    partial_train_data = np.concatenate(\n",
        "[train_data[:i * num_val_samples], train_data[(i + 1) * num_val_samples:]],\n",
        "\n",
        "axis=0)\n",
        "    partial_train_targets = np.concatenate(\n",
        "    [train_targets[:i * num_val_samples], train_targets[(i + 1) * num_val_samples:]],\n",
        "    axis=0)\n",
        "    model = build_model()\n",
        "    model.fit(partial_train_data, partial_train_targets,\n",
        "\n",
        "\n",
        "\n",
        "epochs=num_epochs, batch_size=16, verbose=0)\n",
        "    val_mse, val_mae = model.evaluate(val_data, val_targets, verbose=0)\n",
        "    all_scores.append(val_mae)\n",
        "\n"
      ]
    },
    {
      "cell_type": "code",
      "execution_count": 66,
      "metadata": {},
      "outputs": [
        {
          "data": {
            "text/plain": [
              "[4.30392599105835, 3.2276604175567627, 3.85674786567688, 5.291245937347412]"
            ]
          },
          "execution_count": 66,
          "metadata": {},
          "output_type": "execute_result"
        }
      ],
      "source": [
        "all_scores"
      ]
    },
    {
      "cell_type": "code",
      "execution_count": 67,
      "metadata": {},
      "outputs": [
        {
          "data": {
            "text/plain": [
              "4.169895052909851"
            ]
          },
          "execution_count": 67,
          "metadata": {},
          "output_type": "execute_result"
        }
      ],
      "source": [
        "np.mean(all_scores)"
      ]
    },
    {
      "cell_type": "markdown",
      "metadata": {},
      "source": [
        "4000 dollars off is quite high,hence we will train for a longer period of time -> increase the number of epochs and then also log the validation loss for every epoch"
      ]
    },
    {
      "cell_type": "code",
      "execution_count": 69,
      "metadata": {},
      "outputs": [
        {
          "name": "stdout",
          "output_type": "stream",
          "text": [
            "Processing fold # 0\n",
            "Processing fold # 1\n",
            "Processing fold # 2\n",
            "Processing fold # 3\n"
          ]
        }
      ],
      "source": [
        "num_epochs = 500\n",
        "all_mae_histories = []\n",
        "for i in range(k):\n",
        "    print(f\"Processing fold # {i}\")\n",
        "    val_data = train_data[i*(num_val_samples):(i+1)*num_val_samples]\n",
        "    val_targets = train_targets[i*(num_val_samples):(i+1)*num_val_samples]\n",
        "    partial_train_data = np.concatenate([train_data[:i*num_val_samples], train_data[(i+1)*num_val_samples:]],axis=0)\n",
        "    partial_train_targets = np.concatenate([train_targets[:i*num_val_samples], train_targets[(i+1)*num_val_samples:]],axis=0)\n",
        "    model = build_model()\n",
        "    history = model.fit(partial_train_data, partial_train_targets,validation_data = (val_data, val_targets), epochs = num_epochs, batch_size=16, verbose=0)\n",
        "    mae_history = history.history[\"val_mae\"]\n",
        "    all_mae_histories.append(mae_history)\n",
        "\n"
      ]
    },
    {
      "cell_type": "code",
      "execution_count": 70,
      "metadata": {},
      "outputs": [],
      "source": [
        "average_mae = [np.mean([x[i] for x in all_mae_histories]) for i in range(num_epochs)]"
      ]
    },
    {
      "cell_type": "code",
      "execution_count": 71,
      "metadata": {},
      "outputs": [
        {
          "data": {
            "image/png": "[encoded data removed]",
            "text/plain": [
              "<Figure size 640x480 with 1 Axes>"
            ]
          },
          "metadata": {},
          "output_type": "display_data"
        }
      ],
      "source": [
        "plt.plot(range(1, len(average_mae) + 1), average_mae)\n",
        "plt.xlabel(\"Epochs\")\n",
        "plt.ylabel(\"Validation MAE\")\n",
        "plt.show()"
      ]
    },
    {
      "cell_type": "markdown",
      "metadata": {},
      "source": [
        "the first few epochs has high mae and can be omitted for better observatiob of data"
      ]
    },
    {
      "cell_type": "code",
      "execution_count": 74,
      "metadata": {},
      "outputs": [
        {
          "data": {
            "image/png": "[encoded data removed]",
            "text/plain": [
              "<Figure size 640x480 with 1 Axes>"
            ]
          },
          "metadata": {},
          "output_type": "display_data"
        }
      ],
      "source": [
        "truncated_mae_history = average_mae[40:]\n",
        "plt.plot(range(1, len(truncated_mae_history) + 1), truncated_mae_history)\n",
        "plt.xlabel(\"Epochs\")\n",
        "plt.ylabel(\"Validation MAE\")\n",
        "plt.show()"
      ]
    },
    {
      "cell_type": "markdown",
      "metadata": {},
      "source": [
        "after around 120 epochs, validation mae is increasing implying overfitting , so it will be restricted to 130 epochs, also the irregula shape is perhaps due to mae visualization"
      ]
    },
    {
      "cell_type": "code",
      "execution_count": 75,
      "metadata": {},
      "outputs": [
        {
          "name": "stdout",
          "output_type": "stream",
          "text": [
            "4/4 [==============================] - 0s 70ms/step - loss: 18.8313 - mae: 3.3647\n"
          ]
        }
      ],
      "source": [
        "model = build_model() \n",
        "model.fit(train_data, train_targets,\n",
        "\n",
        "epochs=130, batch_size=16, verbose=0)\n",
        "test_mse_score, test_mae_score = model.evaluate(test_data, test_targets)"
      ]
    },
    {
      "cell_type": "code",
      "execution_count": 78,
      "metadata": {},
      "outputs": [
        {
          "data": {
            "text/plain": [
              "3.3646862506866455"
            ]
          },
          "execution_count": 78,
          "metadata": {},
          "output_type": "execute_result"
        }
      ],
      "source": [
        "test_mae_score"
      ]
    },
    {
      "cell_type": "markdown",
      "metadata": {},
      "source": [
        "the test mae score is around 3364 dollars which is still a bit high , more experiments with difference in number of layer and difference in number of neurons per layer can be experiments"
      ]
    },
    {
      "cell_type": "code",
      "execution_count": 79,
      "metadata": {},
      "outputs": [
        {
          "name": "stdout",
          "output_type": "stream",
          "text": [
            "4/4 [==============================] - 0s 6ms/step\n"
          ]
        },
        {
          "data": {
            "text/plain": [
              "array([7.2445655], dtype=float32)"
            ]
          },
          "execution_count": 79,
          "metadata": {},
          "output_type": "execute_result"
        }
      ],
      "source": [
        "predictions = model.predict(test_data)\n",
        "predictions[0]"
      ]
    },
    {
      "cell_type": "code",
      "execution_count": 80,
      "metadata": {},
      "outputs": [
        {
          "data": {
            "text/plain": [
              "7.2"
            ]
          },
          "execution_count": 80,
          "metadata": {},
          "output_type": "execute_result"
        }
      ],
      "source": [
        "test_targets[0]"
      ]
    },
    {
      "cell_type": "code",
      "execution_count": 81,
      "metadata": {},
      "outputs": [
        {
          "data": {
            "text/plain": [
              "(array([20.661139], dtype=float32), 18.8)"
            ]
          },
          "execution_count": 81,
          "metadata": {},
          "output_type": "execute_result"
        }
      ],
      "source": [
        "predictions[1], test_targets[1]"
      ]
    },
    {
      "cell_type": "code",
      "execution_count": null,
      "metadata": {},
      "outputs": [],
      "source": []
    }
  ],
  "metadata": {
    "colab": {
      "provenance": []
    },
    "kernelspec": {
      "display_name": "Python 3",
      "name": "python3"
    },
    "language_info": {
      "codemirror_mode": {
        "name": "ipython",
        "version": 3
      },
      "file_extension": ".py",
      "mimetype": "text/x-python",
      "name": "python",
      "nbconvert_exporter": "python",
      "pygments_lexer": "ipython3",
      "version": "3.11.5"
    }
  },
  "nbformat": 4,
  "nbformat_minor": 0
}
