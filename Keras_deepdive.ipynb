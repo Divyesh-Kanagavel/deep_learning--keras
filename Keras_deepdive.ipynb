{
 "cells": [
  {
   "cell_type": "code",
   "execution_count": 2,
   "metadata": {},
   "outputs": [],
   "source": [
    "import tensorflow as tf"
   ]
  },
  {
   "cell_type": "markdown",
   "metadata": {},
   "source": [
    "three Keras APIs - Sequential [for beginners], functional APIs [for engineers on general and niche applications] and model subclassing [researchers who write models from scratch]"
   ]
  },
  {
   "cell_type": "markdown",
   "metadata": {},
   "source": [
    "Sequential model using the add API"
   ]
  },
  {
   "cell_type": "code",
   "execution_count": 3,
   "metadata": {},
   "outputs": [],
   "source": [
    "from tensorflow import keras\n",
    "from tensorflow.keras import layers"
   ]
  },
  {
   "cell_type": "code",
   "execution_count": 4,
   "metadata": {},
   "outputs": [
    {
     "name": "stderr",
     "output_type": "stream",
     "text": [
      "2024-02-28 12:30:50.413200: I metal_plugin/src/device/metal_device.cc:1154] Metal device set to: Apple M2 Max\n",
      "2024-02-28 12:30:50.413218: I metal_plugin/src/device/metal_device.cc:296] systemMemory: 32.00 GB\n",
      "2024-02-28 12:30:50.413222: I metal_plugin/src/device/metal_device.cc:313] maxCacheSize: 10.67 GB\n",
      "2024-02-28 12:30:50.413251: I tensorflow/core/common_runtime/pluggable_device/pluggable_device_factory.cc:306] Could not identify NUMA node of platform GPU ID 0, defaulting to 0. Your kernel may not have been built with NUMA support.\n",
      "2024-02-28 12:30:50.413268: I tensorflow/core/common_runtime/pluggable_device/pluggable_device_factory.cc:272] Created TensorFlow device (/job:localhost/replica:0/task:0/device:GPU:0 with 0 MB memory) -> physical PluggableDevice (device: 0, name: METAL, pci bus id: <undefined>)\n"
     ]
    }
   ],
   "source": [
    "model = keras.Sequential()\n",
    "model.add(layers.Dense(64,activation='relu'))\n",
    "model.add(layers.Dense(10,activation='softmax'))"
   ]
  },
  {
   "cell_type": "markdown",
   "metadata": {},
   "source": [
    "not yet built as no build() method is called or the model is called on some data to determine the shape of the input data"
   ]
  },
  {
   "cell_type": "code",
   "execution_count": 5,
   "metadata": {},
   "outputs": [],
   "source": [
    "#model.weights\n",
    "#error since model weights are not yet built"
   ]
  },
  {
   "cell_type": "code",
   "execution_count": 6,
   "metadata": {},
   "outputs": [],
   "source": [
    "model.build(input_shape=(None,3)) # building the model with input shape -> None denotes batch_size and 3 is the number of input nodes"
   ]
  },
  {
   "cell_type": "code",
   "execution_count": 7,
   "metadata": {},
   "outputs": [
    {
     "data": {
      "text/plain": [
       "[<tf.Variable 'dense/kernel:0' shape=(3, 64) dtype=float32, numpy=\n",
       " array([[ 0.02912402, -0.08236583, -0.29870865, -0.02672783, -0.14385518,\n",
       "          0.09198654, -0.00393033, -0.13328063,  0.12800243, -0.23704576,\n",
       "          0.19856602,  0.29790604, -0.09988689, -0.05331922,  0.15621898,\n",
       "          0.03115842, -0.21756928,  0.00487345,  0.2749334 ,  0.12917167,\n",
       "         -0.14229189,  0.14039633,  0.27130294,  0.05528036, -0.0732365 ,\n",
       "         -0.09343645, -0.25390145, -0.11776671,  0.13745987,  0.0126178 ,\n",
       "          0.1592887 , -0.25593948, -0.04902139,  0.29651582, -0.0760946 ,\n",
       "          0.19898134,  0.07263625, -0.12151559,  0.15864822, -0.18253547,\n",
       "         -0.00975326, -0.261353  , -0.24788573,  0.1384711 , -0.20628597,\n",
       "         -0.18175365,  0.19798926, -0.20343629, -0.2563877 ,  0.1718863 ,\n",
       "         -0.03691924,  0.10954157,  0.12204108, -0.20166671, -0.23058555,\n",
       "         -0.03928575,  0.2840098 ,  0.20001274,  0.26337147, -0.13768913,\n",
       "          0.07520804,  0.13000408, -0.12359044,  0.24144077],\n",
       "        [-0.16047977,  0.17697144,  0.14208212, -0.28405595, -0.21683761,\n",
       "         -0.03096008,  0.29490733, -0.19928044, -0.08447371, -0.2681381 ,\n",
       "         -0.23012742,  0.06263191, -0.08717735,  0.23722488, -0.28373575,\n",
       "          0.0753952 ,  0.03498113, -0.2277156 ,  0.0603874 , -0.25333866,\n",
       "          0.19766998, -0.03916439, -0.0152829 ,  0.2725935 ,  0.07014224,\n",
       "          0.10351101, -0.2548817 , -0.22025843,  0.2100246 , -0.12760773,\n",
       "          0.09793204, -0.05032349,  0.09399232, -0.06593916,  0.21921581,\n",
       "         -0.06285009,  0.01339391,  0.252253  , -0.04127315, -0.06517459,\n",
       "         -0.1972762 , -0.07127687, -0.10545927,  0.13985822, -0.2813095 ,\n",
       "         -0.0823064 , -0.00252399, -0.04547998,  0.26539665,  0.20377195,\n",
       "         -0.2437886 ,  0.03958306,  0.00506195,  0.11886269,  0.15032196,\n",
       "         -0.21420804, -0.29154828,  0.15504918,  0.26554322, -0.01568973,\n",
       "         -0.2669791 , -0.03001395,  0.29795992,  0.11275113],\n",
       "        [ 0.21204162, -0.28300044, -0.22242719,  0.01634464,  0.03356868,\n",
       "         -0.24482527,  0.23904675,  0.20289725, -0.23713666,  0.02254   ,\n",
       "         -0.18200222,  0.2682101 , -0.08046414, -0.04962599, -0.13040705,\n",
       "         -0.2049163 , -0.18931255,  0.06131941, -0.14233199,  0.13349211,\n",
       "          0.06461588,  0.1610691 , -0.17405184, -0.24674873,  0.1368674 ,\n",
       "         -0.22707254,  0.1627576 , -0.28562552, -0.07526469, -0.01315224,\n",
       "         -0.11620249,  0.11054969, -0.10390304,  0.00252685, -0.23553577,\n",
       "         -0.23398232,  0.18000892,  0.18979973,  0.20987046, -0.03703359,\n",
       "          0.23350632, -0.01051688, -0.27039048,  0.09529063, -0.24470577,\n",
       "          0.15495   , -0.24006534,  0.20420122,  0.21127522,  0.29161364,\n",
       "          0.29188025, -0.12061062, -0.17332837,  0.24397731,  0.22345442,\n",
       "          0.23129219, -0.2653398 ,  0.0390929 ,  0.16511965,  0.09605268,\n",
       "          0.09185004, -0.25067747,  0.16316885, -0.29861638]],\n",
       "       dtype=float32)>,\n",
       " <tf.Variable 'dense/bias:0' shape=(64,) dtype=float32, numpy=\n",
       " array([0., 0., 0., 0., 0., 0., 0., 0., 0., 0., 0., 0., 0., 0., 0., 0., 0.,\n",
       "        0., 0., 0., 0., 0., 0., 0., 0., 0., 0., 0., 0., 0., 0., 0., 0., 0.,\n",
       "        0., 0., 0., 0., 0., 0., 0., 0., 0., 0., 0., 0., 0., 0., 0., 0., 0.,\n",
       "        0., 0., 0., 0., 0., 0., 0., 0., 0., 0., 0., 0., 0.], dtype=float32)>,\n",
       " <tf.Variable 'dense_1/kernel:0' shape=(64, 10) dtype=float32, numpy=\n",
       " array([[-2.73070127e-01,  1.93621665e-01,  1.74840689e-02,\n",
       "          1.42568320e-01, -2.11974859e-01,  2.27932066e-01,\n",
       "          5.01579940e-02,  2.22102970e-01, -2.31863841e-01,\n",
       "         -7.72815943e-02],\n",
       "        [ 6.57489896e-02, -2.31916055e-01,  1.77195072e-01,\n",
       "          2.22200722e-01,  1.76346123e-01, -7.73608834e-02,\n",
       "          7.78020918e-02,  2.65671283e-01,  1.44001126e-01,\n",
       "         -1.55410022e-01],\n",
       "        [-1.67755663e-01, -2.87207365e-02,  1.89300328e-01,\n",
       "          1.61872715e-01,  9.72919464e-02,  4.21855748e-02,\n",
       "          6.73065782e-02,  2.18961865e-01, -2.08137572e-01,\n",
       "          1.70590013e-01],\n",
       "        [ 1.55237913e-02, -1.80201352e-01, -5.67919016e-03,\n",
       "          5.59602678e-02,  1.81120783e-01,  8.50571394e-02,\n",
       "         -2.66852707e-01,  3.57408226e-02,  8.50512981e-02,\n",
       "          4.18325067e-02],\n",
       "        [ 1.30394667e-01,  2.02762783e-02,  2.04675168e-01,\n",
       "          1.70257717e-01, -1.89100116e-01, -1.88711882e-02,\n",
       "         -9.13367271e-02,  3.99005413e-03, -1.22744322e-01,\n",
       "         -4.11688834e-02],\n",
       "        [-6.88266158e-02,  1.41780674e-01, -4.20952886e-02,\n",
       "         -6.71491027e-03, -1.82657719e-01, -1.24061167e-01,\n",
       "          2.17056364e-01,  2.43812799e-02, -5.69105297e-02,\n",
       "          1.87217355e-01],\n",
       "        [ 1.28529757e-01, -2.41533890e-01,  2.13714838e-02,\n",
       "         -7.36539364e-02,  2.71908969e-01, -2.18058333e-01,\n",
       "          1.29306197e-01, -1.60284996e-01, -2.74573386e-01,\n",
       "          1.14598513e-01],\n",
       "        [-1.55001193e-01, -5.54509014e-02, -2.68380344e-01,\n",
       "          5.47954440e-03, -2.66119182e-01, -2.07569599e-01,\n",
       "         -2.02278599e-01,  2.64855891e-01,  1.91485196e-01,\n",
       "          1.20313764e-01],\n",
       "        [ 5.74268103e-02,  2.75663406e-01, -5.88478744e-02,\n",
       "          4.97873425e-02, -2.24515319e-01,  8.76474380e-03,\n",
       "          2.36428887e-01,  2.05942988e-02, -2.30084002e-01,\n",
       "          2.17244357e-01],\n",
       "        [-2.35372216e-01, -2.59029269e-02,  1.09080136e-01,\n",
       "         -1.01345778e-03, -1.02407396e-01, -1.47295251e-01,\n",
       "         -1.06497034e-01,  1.15315288e-01, -1.70013905e-01,\n",
       "         -4.21498716e-02],\n",
       "        [ 2.01051712e-01, -1.77974850e-01, -2.67228335e-01,\n",
       "          2.81932563e-01, -2.63315141e-01, -9.50400084e-02,\n",
       "          3.60170603e-02, -1.90025777e-01, -2.64837712e-01,\n",
       "         -2.02451721e-01],\n",
       "        [-5.95450401e-05,  1.66319668e-01,  1.70328796e-01,\n",
       "          1.26997441e-01, -1.30003154e-01,  4.83964980e-02,\n",
       "         -2.23846823e-01,  2.02775002e-02, -2.23433986e-01,\n",
       "          2.18695700e-02],\n",
       "        [-1.42500982e-01,  3.93080413e-02,  9.43935812e-02,\n",
       "          2.60649234e-01,  2.36054927e-01,  1.99154407e-01,\n",
       "         -2.44587615e-01, -2.54448563e-01, -2.06731111e-01,\n",
       "          1.45543098e-01],\n",
       "        [ 2.17447370e-01, -1.77595973e-01, -2.24481046e-01,\n",
       "         -4.12507504e-02,  2.20682293e-01,  2.73360580e-01,\n",
       "         -2.56426185e-01,  1.58574075e-01,  5.30644655e-02,\n",
       "          5.79939783e-02],\n",
       "        [-2.71627545e-01, -1.82951674e-01, -1.88481450e-01,\n",
       "         -1.12309843e-01,  2.41264075e-01,  2.28992313e-01,\n",
       "         -2.37634152e-01,  1.86891735e-01,  1.86784625e-01,\n",
       "         -2.72603929e-02],\n",
       "        [ 6.98018968e-02, -2.60984987e-01, -1.91925451e-01,\n",
       "         -1.94866881e-01,  3.84950638e-03, -1.86587065e-01,\n",
       "         -7.24570453e-02, -3.48953903e-02,  2.46886998e-01,\n",
       "         -1.17993370e-01],\n",
       "        [-1.43228173e-02,  1.27819151e-01,  1.71421260e-01,\n",
       "          5.68360090e-03,  1.42180890e-01, -3.91798019e-02,\n",
       "         -8.58321786e-03,  1.52815521e-01,  2.61097580e-01,\n",
       "          1.38036460e-01],\n",
       "        [-1.24690026e-01, -1.77342802e-01,  6.33415282e-02,\n",
       "          2.75040776e-01, -2.80028015e-01, -2.40979791e-02,\n",
       "         -3.37390304e-02,  1.84731722e-01,  1.13151968e-02,\n",
       "         -6.25467449e-02],\n",
       "        [ 1.96377933e-02,  2.37666935e-01, -4.93914038e-02,\n",
       "          2.35988587e-01, -1.67185068e-02, -2.55924165e-02,\n",
       "         -2.02617645e-02, -1.02647454e-01,  1.00122690e-02,\n",
       "          2.34913379e-01],\n",
       "        [ 1.78617299e-01,  7.45836794e-02,  1.02036655e-01,\n",
       "         -2.62471437e-02,  1.60337627e-01,  2.44676977e-01,\n",
       "          1.28170550e-01, -1.09013215e-01,  2.34720737e-01,\n",
       "          5.73412180e-02],\n",
       "        [-1.59829885e-01,  1.02320701e-01, -1.51745513e-01,\n",
       "          1.99602634e-01,  1.55653805e-01, -2.15235293e-01,\n",
       "         -7.49894977e-03,  1.20554894e-01, -9.83297080e-02,\n",
       "         -3.33379507e-02],\n",
       "        [-2.75658667e-01,  2.62050360e-01, -7.55047947e-02,\n",
       "          1.20306611e-01, -1.19344980e-01,  1.41652644e-01,\n",
       "         -8.81252438e-02,  2.28484064e-01,  1.58639848e-02,\n",
       "          3.57508659e-04],\n",
       "        [ 8.13330710e-02, -2.81701416e-01, -1.50425956e-01,\n",
       "          2.13023543e-01,  2.65703529e-01, -1.29584283e-01,\n",
       "         -1.74901187e-01,  2.25705057e-01,  6.21384680e-02,\n",
       "         -2.10015029e-01],\n",
       "        [-4.71554101e-02,  4.09948826e-02, -9.42449570e-02,\n",
       "          2.58276016e-01, -5.82437962e-02, -1.19450748e-01,\n",
       "         -1.61574289e-01,  1.88539267e-01,  2.21246511e-01,\n",
       "          1.72616184e-01],\n",
       "        [ 2.10880905e-01, -9.61814970e-02,  2.07712978e-01,\n",
       "         -3.53974104e-03,  3.34063172e-02,  4.60672677e-02,\n",
       "          1.51919633e-01, -1.89939559e-01, -1.59752071e-01,\n",
       "          5.25730252e-02],\n",
       "        [ 1.78559989e-01,  1.87551230e-01,  1.84838176e-01,\n",
       "         -2.77019441e-01,  1.80572093e-01, -5.74143976e-02,\n",
       "         -2.68172413e-01, -2.43439615e-01, -8.21503252e-02,\n",
       "         -1.59348339e-01],\n",
       "        [-6.82695806e-02, -2.30853796e-01, -2.07802400e-01,\n",
       "          7.80327916e-02,  1.55738056e-01, -2.67528206e-01,\n",
       "          3.25513184e-02,  1.88138872e-01, -6.39744550e-02,\n",
       "          1.17747068e-01],\n",
       "        [ 2.48764127e-01,  2.10536480e-01,  1.08946145e-01,\n",
       "         -1.42641246e-01,  7.86266029e-02,  7.10474849e-02,\n",
       "          2.07857668e-01,  2.17456788e-01,  1.75714165e-01,\n",
       "          1.52686328e-01],\n",
       "        [-1.76325232e-01,  2.43786663e-01,  1.04069859e-01,\n",
       "          1.24234408e-01,  2.18694061e-01, -2.28572190e-02,\n",
       "          2.38528937e-01, -2.62656838e-01, -2.47088969e-02,\n",
       "          1.77633524e-01],\n",
       "        [-2.67065138e-01, -1.15315154e-01,  2.42404968e-01,\n",
       "         -1.63248703e-01,  1.49499178e-02,  6.21392727e-02,\n",
       "          1.66027129e-01, -2.53393918e-01, -1.11339569e-01,\n",
       "         -1.95404559e-01],\n",
       "        [ 8.05179179e-02,  8.27941000e-02, -1.19767651e-01,\n",
       "          1.53888077e-01, -2.55445510e-01,  1.04508102e-01,\n",
       "         -6.59583658e-02,  2.62087852e-01, -1.12845555e-01,\n",
       "         -2.52884001e-01],\n",
       "        [ 7.91299939e-02,  3.59571874e-02,  1.39552087e-01,\n",
       "         -2.52526075e-01,  2.59354025e-01, -8.21688622e-02,\n",
       "          5.86505234e-02, -1.47955135e-01, -1.16385221e-01,\n",
       "         -5.03009111e-02],\n",
       "        [-3.65333408e-02,  9.05133188e-02, -1.02183700e-01,\n",
       "          2.77164847e-01,  5.11880815e-02,  1.61576122e-01,\n",
       "         -1.28710747e-01,  2.51843184e-01,  1.70883656e-01,\n",
       "          2.15671629e-01],\n",
       "        [ 1.69574410e-01,  2.78676361e-01, -1.25762463e-01,\n",
       "          1.14706665e-01, -2.02266380e-01, -4.65968847e-02,\n",
       "          2.78356105e-01,  1.95127577e-01,  2.61510164e-01,\n",
       "         -5.95101267e-02],\n",
       "        [ 1.65314913e-01, -2.56003767e-01,  4.17971909e-02,\n",
       "         -2.26310998e-01,  1.31469429e-01, -1.27961800e-01,\n",
       "          1.45017296e-01, -4.62147295e-02,  1.81789398e-01,\n",
       "         -1.09041587e-01],\n",
       "        [-1.56577229e-02, -4.48317677e-02, -3.07306051e-02,\n",
       "         -4.58514690e-02, -1.05080128e-01,  1.12590820e-01,\n",
       "         -1.00625858e-01,  1.46394819e-01,  3.06568742e-02,\n",
       "         -2.63933837e-01],\n",
       "        [-1.24468565e-01,  2.52284914e-01, -1.37479499e-01,\n",
       "          1.15767509e-01, -9.11546499e-02, -2.22293392e-01,\n",
       "          1.52827114e-01,  2.20145673e-01,  2.07200050e-02,\n",
       "         -2.30165333e-01],\n",
       "        [-9.25709605e-02, -2.04125583e-01,  7.96108544e-02,\n",
       "         -2.78896093e-01,  1.48071498e-01, -2.71043241e-01,\n",
       "          1.92017227e-01,  2.64527589e-01, -1.22906029e-01,\n",
       "          2.99159884e-02],\n",
       "        [-1.32199362e-01,  2.29974985e-02, -5.28808385e-02,\n",
       "         -2.23291010e-01,  1.51920795e-01, -2.55932212e-02,\n",
       "          2.17019618e-02, -1.79892391e-01, -1.86824203e-01,\n",
       "          1.17651492e-01],\n",
       "        [ 1.08778983e-01, -2.59584516e-01, -1.01247385e-01,\n",
       "         -3.06961238e-02, -2.29889691e-01,  2.49079794e-01,\n",
       "         -4.24456745e-02, -2.39700213e-01,  1.35891855e-01,\n",
       "         -2.36779481e-01],\n",
       "        [-6.78640157e-02, -8.00428391e-02,  1.21729583e-01,\n",
       "         -1.45582750e-01,  6.10055923e-02,  1.74029678e-01,\n",
       "          1.60518944e-01, -2.71807194e-01, -2.44020745e-01,\n",
       "          1.01658583e-01],\n",
       "        [-2.43074507e-01,  1.19149268e-01, -2.25931898e-01,\n",
       "          1.19878799e-01,  1.34072006e-02,  1.72634780e-01,\n",
       "          1.09165967e-01, -6.51627183e-02,  5.46796322e-02,\n",
       "         -7.26199150e-02],\n",
       "        [-2.75372863e-01,  2.51025110e-01, -1.78935826e-01,\n",
       "          1.76060796e-02,  2.60151774e-01, -1.90519676e-01,\n",
       "         -1.21851265e-02,  4.38077152e-02,  2.37214565e-02,\n",
       "         -5.58110625e-02],\n",
       "        [ 1.17660642e-01, -7.37105608e-02,  2.16008514e-01,\n",
       "          1.12702221e-01, -4.73234951e-02,  1.68179542e-01,\n",
       "         -1.14820912e-01,  1.11220837e-01,  2.28308231e-01,\n",
       "         -4.84767258e-02],\n",
       "        [ 8.94966722e-02, -1.89946562e-01, -7.89922476e-03,\n",
       "         -2.06774145e-01, -1.28288001e-01, -7.34074265e-02,\n",
       "         -2.64897585e-01,  1.90450847e-01,  2.64455229e-01,\n",
       "         -8.28455091e-02],\n",
       "        [ 7.19631016e-02, -2.59479344e-01, -1.74702540e-01,\n",
       "          2.83195645e-01,  1.94155872e-02, -1.34342626e-01,\n",
       "          2.53506005e-02,  8.31808150e-02, -1.34595037e-01,\n",
       "          2.02733874e-02],\n",
       "        [-2.41000295e-01, -8.24190229e-02,  1.77063644e-01,\n",
       "         -7.54308701e-03,  1.97197229e-01,  1.88017964e-01,\n",
       "         -1.58391640e-01,  8.55958164e-02, -2.23278403e-02,\n",
       "         -4.65238094e-03],\n",
       "        [ 2.68319100e-01,  5.58817983e-02, -2.66209185e-01,\n",
       "          5.75739443e-02,  5.96576631e-02,  2.42661446e-01,\n",
       "          3.19826603e-03,  1.27640754e-01, -2.44989783e-01,\n",
       "          2.78702706e-01],\n",
       "        [ 1.02477133e-01,  2.52912313e-01, -2.08630502e-01,\n",
       "         -2.05866754e-01,  1.34762317e-01, -1.49211615e-01,\n",
       "          1.07016444e-01, -1.26165316e-01, -1.98056445e-01,\n",
       "         -2.61932671e-01],\n",
       "        [-3.06229293e-02, -2.53817350e-01,  6.06823862e-02,\n",
       "         -1.66024745e-01,  2.63679594e-01, -1.45457700e-01,\n",
       "          2.37014025e-01, -1.47909239e-01,  2.12996989e-01,\n",
       "         -1.21302158e-01],\n",
       "        [-2.58381933e-01, -2.12165415e-01, -4.72215265e-02,\n",
       "          3.51076126e-02, -2.19343066e-01, -1.89303160e-01,\n",
       "         -1.36594564e-01,  1.60837203e-01,  1.22803658e-01,\n",
       "         -2.45281309e-01],\n",
       "        [ 7.99242258e-02, -4.69671488e-02,  2.26331025e-01,\n",
       "          1.51905715e-02, -3.06944847e-02, -4.95090485e-02,\n",
       "         -1.73913464e-01,  2.05522150e-01,  1.02627218e-01,\n",
       "         -1.43125653e-02],\n",
       "        [-3.91850919e-02, -2.62623221e-01,  2.49681920e-01,\n",
       "          2.13599920e-01,  2.60236293e-01, -1.50375098e-01,\n",
       "         -2.09355295e-01, -3.62207890e-02, -1.91654235e-01,\n",
       "          1.46681875e-01],\n",
       "        [-1.64423659e-01, -1.56307384e-01, -1.28757119e-01,\n",
       "         -2.04170063e-01,  2.07587540e-01, -1.28613740e-01,\n",
       "         -2.13585466e-01, -1.86029628e-01, -1.87064663e-01,\n",
       "          3.67027223e-02],\n",
       "        [-1.73855081e-01,  1.94331229e-01,  2.64480263e-01,\n",
       "          2.28372663e-01, -2.84082353e-01, -6.20714575e-02,\n",
       "         -4.00827974e-02,  6.30307794e-02,  1.99093521e-01,\n",
       "          2.56060332e-01],\n",
       "        [-1.63110480e-01,  1.64197534e-01, -1.16663158e-01,\n",
       "         -2.71341890e-01,  1.40111238e-01,  3.70243192e-02,\n",
       "         -2.21600235e-01, -2.35328078e-01, -9.13798809e-04,\n",
       "          6.10294938e-03],\n",
       "        [-2.50687659e-01,  1.51612580e-01, -2.05344409e-01,\n",
       "         -8.83797556e-02, -3.24422717e-02,  1.21315539e-01,\n",
       "         -1.55795813e-02, -1.20283335e-01, -4.51221317e-02,\n",
       "         -3.24745178e-02],\n",
       "        [ 2.66350836e-01,  5.03538549e-02, -2.62094438e-02,\n",
       "          5.51344752e-02, -1.32062167e-01,  1.60690099e-01,\n",
       "          4.01142240e-02, -1.13583237e-01, -2.08591536e-01,\n",
       "          7.82570839e-02],\n",
       "        [ 1.80208623e-01, -1.06948495e-01,  7.91512430e-02,\n",
       "         -1.79304600e-01, -2.72962928e-01,  2.46952474e-02,\n",
       "         -5.05903214e-02,  1.63956642e-01,  4.18002605e-02,\n",
       "          2.22638696e-01],\n",
       "        [-6.16466999e-03,  2.18759924e-01, -8.26555490e-02,\n",
       "         -4.43566740e-02, -9.67911482e-02,  8.60626996e-02,\n",
       "          9.53048468e-03, -9.25624073e-02, -1.42142132e-01,\n",
       "         -1.71086013e-01],\n",
       "        [-2.76009738e-02,  6.54085279e-02,  2.25182086e-01,\n",
       "          1.32135749e-01, -8.03541094e-02, -1.96166545e-01,\n",
       "         -2.57032692e-01, -1.37473941e-01,  1.42355025e-01,\n",
       "          2.46007115e-01],\n",
       "        [ 1.30983949e-01,  1.06140614e-01,  1.49167687e-01,\n",
       "         -1.02189481e-01,  2.42831796e-01, -1.92870885e-01,\n",
       "          2.00991362e-01, -1.01957425e-01, -1.18516728e-01,\n",
       "          2.58591861e-01],\n",
       "        [-4.06388044e-02,  5.35092950e-02, -2.16450930e-01,\n",
       "          8.38514268e-02,  1.46685392e-01, -5.83506525e-02,\n",
       "          2.48187780e-03, -6.24397397e-03,  1.40609801e-01,\n",
       "          1.97957456e-01],\n",
       "        [-2.65326232e-01,  2.47499436e-01, -2.33504862e-01,\n",
       "          1.78406507e-01,  6.39279485e-02, -2.35873103e-01,\n",
       "          1.13211602e-01,  2.67473131e-01,  6.07498586e-02,\n",
       "          1.53873622e-01]], dtype=float32)>,\n",
       " <tf.Variable 'dense_1/bias:0' shape=(10,) dtype=float32, numpy=array([0., 0., 0., 0., 0., 0., 0., 0., 0., 0.], dtype=float32)>]"
      ]
     },
     "execution_count": 7,
     "metadata": {},
     "output_type": "execute_result"
    }
   ],
   "source": [
    "model.weights"
   ]
  },
  {
   "cell_type": "code",
   "execution_count": 8,
   "metadata": {},
   "outputs": [
    {
     "name": "stdout",
     "output_type": "stream",
     "text": [
      "Model: \"sequential\"\n",
      "_________________________________________________________________\n",
      " Layer (type)                Output Shape              Param #   \n",
      "=================================================================\n",
      " dense (Dense)               (None, 64)                256       \n",
      "                                                                 \n",
      " dense_1 (Dense)             (None, 10)                650       \n",
      "                                                                 \n",
      "=================================================================\n",
      "Total params: 906 (3.54 KB)\n",
      "Trainable params: 906 (3.54 KB)\n",
      "Non-trainable params: 0 (0.00 Byte)\n",
      "_________________________________________________________________\n"
     ]
    }
   ],
   "source": [
    "model.summary()"
   ]
  },
  {
   "cell_type": "code",
   "execution_count": 9,
   "metadata": {},
   "outputs": [],
   "source": [
    "model = keras.Sequential(name=\"my_example_model\")\n",
    "model.add(layers.Dense(64,activation='relu',name=\"my_first_layer\"))\n",
    "model.add(layers.Dense(10,activation='softmax',name=\"my_second_layer\"))"
   ]
  },
  {
   "cell_type": "code",
   "execution_count": 10,
   "metadata": {},
   "outputs": [],
   "source": [
    "model.build(input_shape=(None,3))"
   ]
  },
  {
   "cell_type": "code",
   "execution_count": 11,
   "metadata": {},
   "outputs": [
    {
     "name": "stdout",
     "output_type": "stream",
     "text": [
      "Model: \"my_example_model\"\n",
      "_________________________________________________________________\n",
      " Layer (type)                Output Shape              Param #   \n",
      "=================================================================\n",
      " my_first_layer (Dense)      (None, 64)                256       \n",
      "                                                                 \n",
      " my_second_layer (Dense)     (None, 10)                650       \n",
      "                                                                 \n",
      "=================================================================\n",
      "Total params: 906 (3.54 KB)\n",
      "Trainable params: 906 (3.54 KB)\n",
      "Non-trainable params: 0 (0.00 Byte)\n",
      "_________________________________________________________________\n"
     ]
    }
   ],
   "source": [
    "model.summary()"
   ]
  },
  {
   "cell_type": "markdown",
   "metadata": {},
   "source": [
    "building a model on the fly giving the input shape."
   ]
  },
  {
   "cell_type": "code",
   "execution_count": 12,
   "metadata": {},
   "outputs": [],
   "source": [
    "model = keras.Sequential()\n",
    "model.add(keras.Input(shape=(3,)))\n",
    "model.add(layers.Dense(64,activation='relu'))\n",
    "\n",
    "model.add(layers.Dense(10,activation='softmax'))"
   ]
  },
  {
   "cell_type": "code",
   "execution_count": 13,
   "metadata": {},
   "outputs": [
    {
     "name": "stdout",
     "output_type": "stream",
     "text": [
      "Model: \"sequential_1\"\n",
      "_________________________________________________________________\n",
      " Layer (type)                Output Shape              Param #   \n",
      "=================================================================\n",
      " dense_2 (Dense)             (None, 64)                256       \n",
      "                                                                 \n",
      " dense_3 (Dense)             (None, 10)                650       \n",
      "                                                                 \n",
      "=================================================================\n",
      "Total params: 906 (3.54 KB)\n",
      "Trainable params: 906 (3.54 KB)\n",
      "Non-trainable params: 0 (0.00 Byte)\n",
      "_________________________________________________________________\n"
     ]
    }
   ],
   "source": [
    "model.summary()"
   ]
  },
  {
   "cell_type": "markdown",
   "metadata": {},
   "source": [
    "Functional API - more flexible than sequential API - used when there is multi input multi output, non-linear topology etc"
   ]
  },
  {
   "cell_type": "code",
   "execution_count": 14,
   "metadata": {},
   "outputs": [],
   "source": [
    "inputs = keras.Input(shape=(3,),name=\"input_layer\")\n",
    "features = layers.Dense(64, activation='relu') (inputs)\n",
    "outputs = layers.Dense(10, activation=\"softmax\") (features)\n",
    "model = keras.Model(inputs = inputs, outputs = outputs)"
   ]
  },
  {
   "cell_type": "code",
   "execution_count": 15,
   "metadata": {},
   "outputs": [
    {
     "name": "stdout",
     "output_type": "stream",
     "text": [
      "Model: \"model\"\n",
      "_________________________________________________________________\n",
      " Layer (type)                Output Shape              Param #   \n",
      "=================================================================\n",
      " input_layer (InputLayer)    [(None, 3)]               0         \n",
      "                                                                 \n",
      " dense_4 (Dense)             (None, 64)                256       \n",
      "                                                                 \n",
      " dense_5 (Dense)             (None, 10)                650       \n",
      "                                                                 \n",
      "=================================================================\n",
      "Total params: 906 (3.54 KB)\n",
      "Trainable params: 906 (3.54 KB)\n",
      "Non-trainable params: 0 (0.00 Byte)\n",
      "_________________________________________________________________\n"
     ]
    }
   ],
   "source": [
    "model.summary()"
   ]
  },
  {
   "cell_type": "markdown",
   "metadata": {},
   "source": [
    "A multi input , multi output model built using the keras functional API"
   ]
  },
  {
   "cell_type": "code",
   "execution_count": 16,
   "metadata": {},
   "outputs": [],
   "source": [
    "vocabulary_size = 10000\n",
    "num_tags = 100\n",
    "num_departments = 4\n",
    "\n",
    "title = keras.Input(shape=(vocabulary_size,),name='title')\n",
    "text_body = keras.Input(shape=(vocabulary_size,), name='text_body')\n",
    "tags = keras.Input(shape=(num_tags,), name='tags')\n",
    "\n",
    "features = layers.Concatenate() ([title,text_body,tags])\n",
    "features = layers.Dense(64, activation='relu') (features)\n",
    "\n",
    "priority = layers.Dense(1, activation='sigmoid', name='priority') (features)\n",
    "department = layers.Dense(num_departments, activation='softmax', name = 'department') (features)\n",
    "\n",
    "model = keras.Model(inputs = [title,text_body, tags], outputs = [priority, department])\n",
    "\n",
    "\n"
   ]
  },
  {
   "cell_type": "code",
   "execution_count": 17,
   "metadata": {},
   "outputs": [
    {
     "name": "stdout",
     "output_type": "stream",
     "text": [
      "Model: \"model_1\"\n",
      "__________________________________________________________________________________________________\n",
      " Layer (type)                Output Shape                 Param #   Connected to                  \n",
      "==================================================================================================\n",
      " title (InputLayer)          [(None, 10000)]              0         []                            \n",
      "                                                                                                  \n",
      " text_body (InputLayer)      [(None, 10000)]              0         []                            \n",
      "                                                                                                  \n",
      " tags (InputLayer)           [(None, 100)]                0         []                            \n",
      "                                                                                                  \n",
      " concatenate (Concatenate)   (None, 20100)                0         ['title[0][0]',               \n",
      "                                                                     'text_body[0][0]',           \n",
      "                                                                     'tags[0][0]']                \n",
      "                                                                                                  \n",
      " dense_6 (Dense)             (None, 64)                   1286464   ['concatenate[0][0]']         \n",
      "                                                                                                  \n",
      " priority (Dense)            (None, 1)                    65        ['dense_6[0][0]']             \n",
      "                                                                                                  \n",
      " department (Dense)          (None, 4)                    260       ['dense_6[0][0]']             \n",
      "                                                                                                  \n",
      "==================================================================================================\n",
      "Total params: 1286789 (4.91 MB)\n",
      "Trainable params: 1286789 (4.91 MB)\n",
      "Non-trainable params: 0 (0.00 Byte)\n",
      "__________________________________________________________________________________________________\n"
     ]
    }
   ],
   "source": [
    "model.summary()"
   ]
  },
  {
   "cell_type": "code",
   "execution_count": 18,
   "metadata": {},
   "outputs": [],
   "source": [
    "import numpy as np \n",
    "num_samples = 1280  # for illustration\n",
    "# random data for example\n",
    "title_data = np.random.randint(0,2,size=(num_samples,vocabulary_size))\n",
    "text_data = np.random.randint(0,2,size=(num_samples, vocabulary_size))\n",
    "tags_data = np.random.randint(0,2,size=(num_samples, num_tags))\n",
    "\n",
    "priority_data = np.random.random(size=(num_samples,1))\n",
    "department_data = np.random.randint(0, 2, size=(num_samples, num_departments))"
   ]
  },
  {
   "cell_type": "code",
   "execution_count": 19,
   "metadata": {},
   "outputs": [
    {
     "name": "stderr",
     "output_type": "stream",
     "text": [
      "2024-02-28 12:30:51.068328: I tensorflow/core/grappler/optimizers/custom_graph_optimizer_registry.cc:117] Plugin optimizer for device_type GPU is enabled.\n"
     ]
    },
    {
     "name": "stdout",
     "output_type": "stream",
     "text": [
      "40/40 [==============================] - 1s 14ms/step - loss: 45.1422 - priority_loss: 0.3244 - department_loss: 44.8178 - priority_mean_absolute_error: 0.4933 - priority_accuracy: 0.0000e+00 - department_mean_absolute_error: 0.4919 - department_accuracy: 0.1719\n",
      "40/40 [==============================] - 1s 11ms/step - loss: 20.7577 - priority_loss: 0.3275 - department_loss: 20.4302 - priority_mean_absolute_error: 0.4960 - priority_accuracy: 0.0000e+00 - department_mean_absolute_error: 0.4883 - department_accuracy: 0.0641\n"
     ]
    },
    {
     "data": {
      "text/plain": [
       "[20.757659912109375,\n",
       " 0.3274786174297333,\n",
       " 20.430179595947266,\n",
       " 0.49599775671958923,\n",
       " 0.0,\n",
       " 0.4882965683937073,\n",
       " 0.06406249850988388]"
      ]
     },
     "execution_count": 19,
     "metadata": {},
     "output_type": "execute_result"
    }
   ],
   "source": [
    "model.compile(optimizer='rmsprop',loss=['mean_squared_error', 'categorical_crossentropy'],metrics=['mean_absolute_error', 'accuracy'])\n",
    "model.fit([title_data, text_data, tags_data],\n",
    "[priority_data, department_data],\n",
    "epochs=1)\n",
    "model.evaluate([title_data, text_data, tags_data],\n",
    "[priority_data, department_data])\n",
    "\n"
   ]
  },
  {
   "cell_type": "code",
   "execution_count": 20,
   "metadata": {},
   "outputs": [
    {
     "name": "stdout",
     "output_type": "stream",
     "text": [
      "40/40 [==============================] - 0s 2ms/step\n"
     ]
    }
   ],
   "source": [
    "priority,department=  model.predict([title_data, text_data, tags_data])\n"
   ]
  },
  {
   "cell_type": "code",
   "execution_count": 21,
   "metadata": {},
   "outputs": [
    {
     "data": {
      "text/plain": [
       "((1280, 1), (1280, 4))"
      ]
     },
     "execution_count": 21,
     "metadata": {},
     "output_type": "execute_result"
    }
   ],
   "source": [
    "priority.shape, department.shape"
   ]
  },
  {
   "cell_type": "markdown",
   "metadata": {},
   "source": [
    "in case you do not want to mess up the order, we can also pass dictionary to the apis like model.fit({'title':title_data}) etc"
   ]
  },
  {
   "cell_type": "markdown",
   "metadata": {},
   "source": [
    "functional api also provides tools to visualizet the topology of the model in a graph-like structure"
   ]
  },
  {
   "cell_type": "code",
   "execution_count": 22,
   "metadata": {},
   "outputs": [
    {
     "data": {
      "image/png": "[encoded data removed]",
      "text/plain": [
       "<IPython.core.display.Image object>"
      ]
     },
     "execution_count": 22,
     "metadata": {},
     "output_type": "execute_result"
    }
   ],
   "source": [
    "keras.utils.plot_model(model, \"ticket_classifier.png\")"
   ]
  },
  {
   "cell_type": "code",
   "execution_count": 23,
   "metadata": {},
   "outputs": [
    {
     "data": {
      "image/png": "[encoded data removed]",
      "text/plain": [
       "<IPython.core.display.Image object>"
      ]
     },
     "execution_count": 23,
     "metadata": {},
     "output_type": "execute_result"
    }
   ],
   "source": [
    "keras.utils.plot_model(model, \"ticket_classifier_withshape.png\",show_shapes=True)"
   ]
  },
  {
   "cell_type": "code",
   "execution_count": 24,
   "metadata": {},
   "outputs": [
    {
     "data": {
      "text/plain": [
       "[<keras.src.engine.input_layer.InputLayer at 0x2f041b250>,\n",
       " <keras.src.engine.input_layer.InputLayer at 0x2f0418e90>,\n",
       " <keras.src.engine.input_layer.InputLayer at 0x2f0419e10>,\n",
       " <keras.src.layers.merging.concatenate.Concatenate at 0x2eb8fab90>,\n",
       " <keras.src.layers.core.dense.Dense at 0x2edd33f50>,\n",
       " <keras.src.layers.core.dense.Dense at 0x2eddf2f10>,\n",
       " <keras.src.layers.core.dense.Dense at 0x2f043e990>]"
      ]
     },
     "execution_count": 24,
     "metadata": {},
     "output_type": "execute_result"
    }
   ],
   "source": [
    "model.layers"
   ]
  },
  {
   "cell_type": "code",
   "execution_count": 25,
   "metadata": {},
   "outputs": [
    {
     "data": {
      "text/plain": [
       "<KerasTensor: shape=(None, 1) dtype=float32 (created by layer 'priority')>"
      ]
     },
     "execution_count": 25,
     "metadata": {},
     "output_type": "execute_result"
    }
   ],
   "source": [
    "model.layers[5\n",
    "             ].output"
   ]
  },
  {
   "cell_type": "code",
   "execution_count": 26,
   "metadata": {},
   "outputs": [
    {
     "data": {
      "text/plain": [
       "<KerasTensor: shape=(None, 64) dtype=float32 (created by layer 'dense_6')>"
      ]
     },
     "execution_count": 26,
     "metadata": {},
     "output_type": "execute_result"
    }
   ],
   "source": [
    "model.layers[4].output\n"
   ]
  },
  {
   "cell_type": "markdown",
   "metadata": {},
   "source": [
    "since the layers can be viewed and used piecewise, if an output difficulty is to be added, the intermediate layer before output with its weights can be used to \n",
    "construct another output node and there is no need to retrain from scratch."
   ]
  },
  {
   "cell_type": "code",
   "execution_count": 27,
   "metadata": {},
   "outputs": [
    {
     "name": "stdout",
     "output_type": "stream",
     "text": [
      "Model: \"model_1\"\n",
      "__________________________________________________________________________________________________\n",
      " Layer (type)                Output Shape                 Param #   Connected to                  \n",
      "==================================================================================================\n",
      " title (InputLayer)          [(None, 10000)]              0         []                            \n",
      "                                                                                                  \n",
      " text_body (InputLayer)      [(None, 10000)]              0         []                            \n",
      "                                                                                                  \n",
      " tags (InputLayer)           [(None, 100)]                0         []                            \n",
      "                                                                                                  \n",
      " concatenate (Concatenate)   (None, 20100)                0         ['title[0][0]',               \n",
      "                                                                     'text_body[0][0]',           \n",
      "                                                                     'tags[0][0]']                \n",
      "                                                                                                  \n",
      " dense_6 (Dense)             (None, 64)                   1286464   ['concatenate[0][0]']         \n",
      "                                                                                                  \n",
      " priority (Dense)            (None, 1)                    65        ['dense_6[0][0]']             \n",
      "                                                                                                  \n",
      " department (Dense)          (None, 4)                    260       ['dense_6[0][0]']             \n",
      "                                                                                                  \n",
      "==================================================================================================\n",
      "Total params: 1286789 (4.91 MB)\n",
      "Trainable params: 1286789 (4.91 MB)\n",
      "Non-trainable params: 0 (0.00 Byte)\n",
      "__________________________________________________________________________________________________\n"
     ]
    }
   ],
   "source": [
    "model.summary()"
   ]
  },
  {
   "cell_type": "code",
   "execution_count": 28,
   "metadata": {},
   "outputs": [
    {
     "data": {
      "text/plain": [
       "<KerasTensor: shape=(None, 64) dtype=float32 (created by layer 'dense_6')>"
      ]
     },
     "execution_count": 28,
     "metadata": {},
     "output_type": "execute_result"
    }
   ],
   "source": [
    "model.layers[4].output"
   ]
  },
  {
   "cell_type": "code",
   "execution_count": 29,
   "metadata": {},
   "outputs": [
    {
     "data": {
      "text/plain": [
       "<KerasTensor: shape=(None, 64) dtype=float32 (created by layer 'dense_6')>"
      ]
     },
     "execution_count": 29,
     "metadata": {},
     "output_type": "execute_result"
    }
   ],
   "source": [
    "features"
   ]
  },
  {
   "cell_type": "code",
   "execution_count": 30,
   "metadata": {},
   "outputs": [
    {
     "data": {
      "text/plain": [
       "<KerasTensor: shape=(None, 1) dtype=float32 (created by layer 'priority')>"
      ]
     },
     "execution_count": 30,
     "metadata": {},
     "output_type": "execute_result"
    }
   ],
   "source": [
    "model.layers[5].output"
   ]
  },
  {
   "cell_type": "code",
   "execution_count": 31,
   "metadata": {},
   "outputs": [
    {
     "data": {
      "text/plain": [
       "<KerasTensor: shape=(None, 64) dtype=float32 (created by layer 'dense_6')>"
      ]
     },
     "execution_count": 31,
     "metadata": {},
     "output_type": "execute_result"
    }
   ],
   "source": [
    "model.layers[4].output"
   ]
  },
  {
   "cell_type": "code",
   "execution_count": 32,
   "metadata": {},
   "outputs": [
    {
     "ename": "ValueError",
     "evalue": "Output tensors of a Functional model must be the output of a TensorFlow `Layer` (thus holding past layer metadata). Found: [[0.]\n [0.]\n [0.]\n ...\n [0.]\n [0.]\n [0.]]",
     "output_type": "error",
     "traceback": [
      "\u001b[0;31m---------------------------------------------------------------------------\u001b[0m",
      "\u001b[0;31mValueError\u001b[0m                                Traceback (most recent call last)",
      "Cell \u001b[0;32mIn[32], line 5\u001b[0m\n\u001b[1;32m      3\u001b[0m \u001b[38;5;66;03m#difficulty = layers.Dense(3,activation='softmax',name='difficulty') (features)\u001b[39;00m\n\u001b[1;32m      4\u001b[0m difficulty \u001b[38;5;241m=\u001b[39m layers\u001b[38;5;241m.\u001b[39mDense(\u001b[38;5;241m3\u001b[39m, activation\u001b[38;5;241m=\u001b[39m\u001b[38;5;124m'\u001b[39m\u001b[38;5;124msoftmax\u001b[39m\u001b[38;5;124m'\u001b[39m,name\u001b[38;5;241m=\u001b[39m\u001b[38;5;124m'\u001b[39m\u001b[38;5;124mdifficulty\u001b[39m\u001b[38;5;124m'\u001b[39m) (features)\n\u001b[0;32m----> 5\u001b[0m new_model \u001b[38;5;241m=\u001b[39m keras\u001b[38;5;241m.\u001b[39mModel(inputs\u001b[38;5;241m=\u001b[39m[title,text_body,tags], outputs \u001b[38;5;241m=\u001b[39m [priority,department,difficulty])\n\u001b[1;32m      6\u001b[0m new_model\u001b[38;5;241m.\u001b[39msummary()\n",
      "File \u001b[0;32m~/anaconda3/lib/python3.11/site-packages/tensorflow/python/trackable/base.py:204\u001b[0m, in \u001b[0;36mno_automatic_dependency_tracking.<locals>._method_wrapper\u001b[0;34m(self, *args, **kwargs)\u001b[0m\n\u001b[1;32m    202\u001b[0m \u001b[38;5;28mself\u001b[39m\u001b[38;5;241m.\u001b[39m_self_setattr_tracking \u001b[38;5;241m=\u001b[39m \u001b[38;5;28;01mFalse\u001b[39;00m  \u001b[38;5;66;03m# pylint: disable=protected-access\u001b[39;00m\n\u001b[1;32m    203\u001b[0m \u001b[38;5;28;01mtry\u001b[39;00m:\n\u001b[0;32m--> 204\u001b[0m   result \u001b[38;5;241m=\u001b[39m method(\u001b[38;5;28mself\u001b[39m, \u001b[38;5;241m*\u001b[39margs, \u001b[38;5;241m*\u001b[39m\u001b[38;5;241m*\u001b[39mkwargs)\n\u001b[1;32m    205\u001b[0m \u001b[38;5;28;01mfinally\u001b[39;00m:\n\u001b[1;32m    206\u001b[0m   \u001b[38;5;28mself\u001b[39m\u001b[38;5;241m.\u001b[39m_self_setattr_tracking \u001b[38;5;241m=\u001b[39m previous_value  \u001b[38;5;66;03m# pylint: disable=protected-access\u001b[39;00m\n",
      "File \u001b[0;32m~/anaconda3/lib/python3.11/site-packages/keras/src/engine/functional.py:166\u001b[0m, in \u001b[0;36mFunctional.__init__\u001b[0;34m(self, inputs, outputs, name, trainable, **kwargs)\u001b[0m\n\u001b[1;32m    157\u001b[0m     \u001b[38;5;28;01mif\u001b[39;00m \u001b[38;5;129;01mnot\u001b[39;00m \u001b[38;5;28mall\u001b[39m(\n\u001b[1;32m    158\u001b[0m         [\n\u001b[1;32m    159\u001b[0m             functional_utils\u001b[38;5;241m.\u001b[39mis_input_keras_tensor(t)\n\u001b[1;32m    160\u001b[0m             \u001b[38;5;28;01mfor\u001b[39;00m t \u001b[38;5;129;01min\u001b[39;00m tf\u001b[38;5;241m.\u001b[39mnest\u001b[38;5;241m.\u001b[39mflatten(inputs)\n\u001b[1;32m    161\u001b[0m         ]\n\u001b[1;32m    162\u001b[0m     ):\n\u001b[1;32m    163\u001b[0m         inputs, outputs \u001b[38;5;241m=\u001b[39m functional_utils\u001b[38;5;241m.\u001b[39mclone_graph_nodes(\n\u001b[1;32m    164\u001b[0m             inputs, outputs\n\u001b[1;32m    165\u001b[0m         )\n\u001b[0;32m--> 166\u001b[0m \u001b[38;5;28mself\u001b[39m\u001b[38;5;241m.\u001b[39m_init_graph_network(inputs, outputs)\n",
      "File \u001b[0;32m~/anaconda3/lib/python3.11/site-packages/tensorflow/python/trackable/base.py:204\u001b[0m, in \u001b[0;36mno_automatic_dependency_tracking.<locals>._method_wrapper\u001b[0;34m(self, *args, **kwargs)\u001b[0m\n\u001b[1;32m    202\u001b[0m \u001b[38;5;28mself\u001b[39m\u001b[38;5;241m.\u001b[39m_self_setattr_tracking \u001b[38;5;241m=\u001b[39m \u001b[38;5;28;01mFalse\u001b[39;00m  \u001b[38;5;66;03m# pylint: disable=protected-access\u001b[39;00m\n\u001b[1;32m    203\u001b[0m \u001b[38;5;28;01mtry\u001b[39;00m:\n\u001b[0;32m--> 204\u001b[0m   result \u001b[38;5;241m=\u001b[39m method(\u001b[38;5;28mself\u001b[39m, \u001b[38;5;241m*\u001b[39margs, \u001b[38;5;241m*\u001b[39m\u001b[38;5;241m*\u001b[39mkwargs)\n\u001b[1;32m    205\u001b[0m \u001b[38;5;28;01mfinally\u001b[39;00m:\n\u001b[1;32m    206\u001b[0m   \u001b[38;5;28mself\u001b[39m\u001b[38;5;241m.\u001b[39m_self_setattr_tracking \u001b[38;5;241m=\u001b[39m previous_value  \u001b[38;5;66;03m# pylint: disable=protected-access\u001b[39;00m\n",
      "File \u001b[0;32m~/anaconda3/lib/python3.11/site-packages/keras/src/engine/functional.py:208\u001b[0m, in \u001b[0;36mFunctional._init_graph_network\u001b[0;34m(self, inputs, outputs)\u001b[0m\n\u001b[1;32m    203\u001b[0m     \u001b[38;5;28;01mif\u001b[39;00m \u001b[38;5;28many\u001b[39m(\n\u001b[1;32m    204\u001b[0m         \u001b[38;5;129;01mnot\u001b[39;00m \u001b[38;5;28mhasattr\u001b[39m(tensor, \u001b[38;5;124m\"\u001b[39m\u001b[38;5;124m_keras_history\u001b[39m\u001b[38;5;124m\"\u001b[39m) \u001b[38;5;28;01mfor\u001b[39;00m tensor \u001b[38;5;129;01min\u001b[39;00m \u001b[38;5;28mself\u001b[39m\u001b[38;5;241m.\u001b[39moutputs\n\u001b[1;32m    205\u001b[0m     ):\n\u001b[1;32m    206\u001b[0m         base_layer_utils\u001b[38;5;241m.\u001b[39mcreate_keras_history(\u001b[38;5;28mself\u001b[39m\u001b[38;5;241m.\u001b[39m_nested_outputs)\n\u001b[0;32m--> 208\u001b[0m \u001b[38;5;28mself\u001b[39m\u001b[38;5;241m.\u001b[39m_validate_graph_inputs_and_outputs()\n\u001b[1;32m    210\u001b[0m \u001b[38;5;66;03m# A Network does not create weights of its own, thus it is already\u001b[39;00m\n\u001b[1;32m    211\u001b[0m \u001b[38;5;66;03m# built.\u001b[39;00m\n\u001b[1;32m    212\u001b[0m \u001b[38;5;28mself\u001b[39m\u001b[38;5;241m.\u001b[39mbuilt \u001b[38;5;241m=\u001b[39m \u001b[38;5;28;01mTrue\u001b[39;00m\n",
      "File \u001b[0;32m~/anaconda3/lib/python3.11/site-packages/keras/src/engine/functional.py:875\u001b[0m, in \u001b[0;36mFunctional._validate_graph_inputs_and_outputs\u001b[0;34m(self)\u001b[0m\n\u001b[1;32m    873\u001b[0m \u001b[38;5;28;01mif\u001b[39;00m \u001b[38;5;129;01mnot\u001b[39;00m \u001b[38;5;28mhasattr\u001b[39m(x, \u001b[38;5;124m\"\u001b[39m\u001b[38;5;124m_keras_history\u001b[39m\u001b[38;5;124m\"\u001b[39m):\n\u001b[1;32m    874\u001b[0m     cls_name \u001b[38;5;241m=\u001b[39m \u001b[38;5;28mself\u001b[39m\u001b[38;5;241m.\u001b[39m\u001b[38;5;18m__class__\u001b[39m\u001b[38;5;241m.\u001b[39m\u001b[38;5;18m__name__\u001b[39m\n\u001b[0;32m--> 875\u001b[0m     \u001b[38;5;28;01mraise\u001b[39;00m \u001b[38;5;167;01mValueError\u001b[39;00m(\n\u001b[1;32m    876\u001b[0m         \u001b[38;5;124mf\u001b[39m\u001b[38;5;124m\"\u001b[39m\u001b[38;5;124mOutput tensors of a \u001b[39m\u001b[38;5;132;01m{\u001b[39;00mcls_name\u001b[38;5;132;01m}\u001b[39;00m\u001b[38;5;124m model must be \u001b[39m\u001b[38;5;124m\"\u001b[39m\n\u001b[1;32m    877\u001b[0m         \u001b[38;5;124m\"\u001b[39m\u001b[38;5;124mthe output of a TensorFlow `Layer` \u001b[39m\u001b[38;5;124m\"\u001b[39m\n\u001b[1;32m    878\u001b[0m         \u001b[38;5;124mf\u001b[39m\u001b[38;5;124m\"\u001b[39m\u001b[38;5;124m(thus holding past layer metadata). Found: \u001b[39m\u001b[38;5;132;01m{\u001b[39;00mx\u001b[38;5;132;01m}\u001b[39;00m\u001b[38;5;124m\"\u001b[39m\n\u001b[1;32m    879\u001b[0m     )\n",
      "\u001b[0;31mValueError\u001b[0m: Output tensors of a Functional model must be the output of a TensorFlow `Layer` (thus holding past layer metadata). Found: [[0.]\n [0.]\n [0.]\n ...\n [0.]\n [0.]\n [0.]]"
     ]
    }
   ],
   "source": [
    "#features = model.layers[4].output\n",
    "features = model.layers[4].output\n",
    "#difficulty = layers.Dense(3,activation='softmax',name='difficulty') (features)\n",
    "difficulty = layers.Dense(3, activation='softmax',name='difficulty') (features)\n",
    "new_model = keras.Model(inputs=[title,text_body,tags], outputs = [priority,department,difficulty])\n",
    "new_model.summary()"
   ]
  },
  {
   "cell_type": "code",
   "execution_count": null,
   "metadata": {},
   "outputs": [
    {
     "data": {
      "image/png": "[encoded data removed]",
      "text/plain": [
       "<IPython.core.display.Image object>"
      ]
     },
     "execution_count": 69,
     "metadata": {},
     "output_type": "execute_result"
    }
   ],
   "source": [
    "keras.utils.plot_model(new_model,'updated_ticket_classifier.png',show_shapes=True)\n"
   ]
  },
  {
   "cell_type": "markdown",
   "metadata": {},
   "source": [
    "subclassing : in the init method, create the layers required, in the call the method, implement the forward pass of the model and then instantiate the subclass on the input data to create weights."
   ]
  },
  {
   "cell_type": "code",
   "execution_count": 33,
   "metadata": {},
   "outputs": [],
   "source": [
    "class CustomerTicketModel(keras.Model):\n",
    "    def __init__(self,num_departments):\n",
    "        super().__init__()\n",
    "        self.concat_layer = layers.Concatenate()\n",
    "        self.mixing_layer = layers.Dense(64, activation='relu')\n",
    "        self.priority_layer = layers.Dense(1, activation='sigmoid')\n",
    "        self.department_layer = layers.Dense(num_departments, activation='softmax')\n",
    "    \n",
    "    def call(self,inputs):\n",
    "        title = inputs['title']\n",
    "        text_body = inputs['text_body']\n",
    "        tags = inputs['tags']\n",
    "        features = self.concat_layer([title,text_body, tags])\n",
    "        features = self.mixing_layer(features)\n",
    "        priority = self.priority_layer(features)\n",
    "        department = self.department_layer(features)\n",
    "        return priority, department\n"
   ]
  },
  {
   "cell_type": "code",
   "execution_count": 34,
   "metadata": {},
   "outputs": [],
   "source": [
    "model = CustomerTicketModel(num_departments=4)\n",
    "priority, department = model({\"title\":title_data, \"text_body\":text_data, \"tags\":tags_data})\n"
   ]
  },
  {
   "cell_type": "code",
   "execution_count": 35,
   "metadata": {},
   "outputs": [
    {
     "data": {
      "text/plain": [
       "(TensorShape([1280, 1]), TensorShape([1280, 4]))"
      ]
     },
     "execution_count": 35,
     "metadata": {},
     "output_type": "execute_result"
    }
   ],
   "source": [
    "priority.shape, department.shape"
   ]
  },
  {
   "cell_type": "markdown",
   "metadata": {},
   "source": [
    "Layer is a class which acts as a building block which is used to create a model. Model is a top-level object which has all the useful APIs like train, evaluate, export etc"
   ]
  },
  {
   "cell_type": "markdown",
   "metadata": {},
   "source": [
    "once this subclass model is instantiated, we can call the compile method, fit method and other methods available like for sequential APIs , functional APIs"
   ]
  },
  {
   "cell_type": "code",
   "execution_count": 36,
   "metadata": {},
   "outputs": [
    {
     "name": "stdout",
     "output_type": "stream",
     "text": [
      "40/40 [==============================] - 1s 15ms/step - loss: 25.3273 - output_1_loss: 0.3261 - output_2_loss: 25.0011 - output_1_mean_absolute_error: 0.4952 - output_2_accuracy: 0.2094\n",
      "40/40 [==============================] - 1s 10ms/step - loss: 16.3538 - output_1_loss: 0.3355 - output_2_loss: 16.0183 - output_1_mean_absolute_error: 0.5040 - output_2_accuracy: 0.0680\n"
     ]
    },
    {
     "data": {
      "text/plain": [
       "[16.353801727294922,\n",
       " 0.33548301458358765,\n",
       " 16.018321990966797,\n",
       " 0.5040022134780884,\n",
       " 0.06796874850988388]"
      ]
     },
     "execution_count": 36,
     "metadata": {},
     "output_type": "execute_result"
    }
   ],
   "source": [
    "model.compile(optimizer='rmsprop',loss=['mean_squared_error','categorical_crossentropy'], metrics=[['mean_absolute_error'],['accuracy']])\n",
    "model.fit({\"title\": title_data,\n",
    "\"text_body\": text_data,\n",
    "\"tags\": tags_data}, [priority_data, department_data], epochs=1)\n",
    "#order should be the same order in which the call method accepts the arguments and returns the outputs [or dict]\n",
    "\n",
    "model.evaluate({\"title\": title_data, \"text_body\": text_data,\n",
    "\"tags\": tags_data}, [priority_data, department_data])\n"
   ]
  },
  {
   "cell_type": "markdown",
   "metadata": {},
   "source": [
    "sequential , functional and model subclassing in keras can be used together without any problems\n",
    "Below is an example"
   ]
  },
  {
   "cell_type": "code",
   "execution_count": 37,
   "metadata": {},
   "outputs": [],
   "source": [
    "class Classifier(keras.Model):\n",
    "    def __init__(self, num_classes=2): \n",
    "        super().__init__()\n",
    "        if num_classes == 2:\n",
    "            num_units = 1\n",
    "            activation = \"sigmoid\" \n",
    "        else:\n",
    "            num_units = num_classes\n",
    "            activation = \"softmax\"\n",
    "        self.dense = layers.Dense(num_units, activation=activation)\n",
    "    def call(self, inputs): \n",
    "        return self.dense(inputs)\n",
    "inputs = keras.Input(shape=(3,))\n",
    "features = layers.Dense(64, activation=\"relu\")(inputs) \n",
    "outputs = Classifier(num_classes=10)(features)\n",
    "model = keras.Model(inputs=inputs, outputs=outputs)\n",
    "\n"
   ]
  },
  {
   "cell_type": "markdown",
   "metadata": {},
   "source": [
    "keras.Input is a symbolic tensor like object which does not have values but helps in building the model with weights. else the model will not know of the input \n",
    "shape and hence cannot build weigths for each of the layers"
   ]
  },
  {
   "cell_type": "markdown",
   "metadata": {},
   "source": [
    "we can also create a subclassed model which includes a functional model -> note that previous model had a subclassed model included in the functional model calls"
   ]
  },
  {
   "cell_type": "code",
   "execution_count": 38,
   "metadata": {},
   "outputs": [],
   "source": [
    "#functional model API \n",
    "input = keras.Input(shape=(64,))\n",
    "outputs = layers.Dense(1,activation='sigmoid')(inputs)\n",
    "binary_classifier = keras.Model(inputs = inputs, outputs = outputs)"
   ]
  },
  {
   "cell_type": "code",
   "execution_count": 39,
   "metadata": {},
   "outputs": [],
   "source": [
    "class Model2(keras.Model):\n",
    "    def __init__(self,num_classes=2):\n",
    "        super.__init__()\n",
    "        self.dense = layers.Dense(64, activation='relu')\n",
    "        self.classifier = binary_classifier\n",
    "    \n",
    "    def call(self,inputs):\n",
    "        features = self.dense(inputs)\n",
    "        return self.classifier(features)\n",
    "\n"
   ]
  },
  {
   "cell_type": "markdown",
   "metadata": {},
   "source": [
    "writing custom metric -> make use of keras.metrics.Metric class and having this as base class , it is easier to develop own custom metric class. add_weights() API is available if this \n",
    "class is used as base class"
   ]
  },
  {
   "cell_type": "code",
   "execution_count": 40,
   "metadata": {},
   "outputs": [],
   "source": [
    "class RootMeanSquaredError(keras.metrics.Metric):\n",
    "    #constructor\n",
    "    def __init__(self,name='rmse', **kwargs):\n",
    "        super().__init__(name=name,**kwargs)\n",
    "        self.mse_sum = self.add_weight('mse_sum',initializer='zeros')\n",
    "        self.num_samples = self.add_weight('num_samples',dtype='int32', initializer='zeros')\n",
    "    # API to update the metric states\n",
    "    def update_state(self,y_true,y_pred, sample_weight=None):\n",
    "        y_true=tf.one_hot(y_true, depth=tf.shape(y_pred)[1]) # y_true is an integer label and y_pred is one hot encoded -> so, y_true is also one-hot encoded\n",
    "        mse_sum = tf.reduce_sum(tf.square(y_true - y_pred))\n",
    "        self.mse_sum.assign_add(mse_sum)\n",
    "        num_samples = tf.shape(y_pred)[0]\n",
    "        self.num_samples.assign_add(num_samples)\n",
    "    \n",
    "    # API to return the results\n",
    "    def result(self):\n",
    "        return tf.sqrt(self.mse_sum / tf.cast(self.num_samples, dtype=tf.float32))\n",
    "    \n",
    "    # API to reset the state\n",
    "    def reset_state(self):\n",
    "        self.mse_sum.assign(0.)\n",
    "        self.num_samples.assign(0)\n",
    "    \n",
    "\n"
   ]
  },
  {
   "cell_type": "code",
   "execution_count": 41,
   "metadata": {},
   "outputs": [],
   "source": [
    "def get_mnist_model():\n",
    "    inputs = keras.Input(shape=(28 * 28,))\n",
    "    features = layers.Dense(512, activation=\"relu\")(inputs) \n",
    "    features = layers.Dropout(0.5)(features)\n",
    "    outputs = layers.Dense(10, activation=\"softmax\")(features)\n",
    "    model = keras.Model(inputs, outputs) \n",
    "    return model"
   ]
  },
  {
   "cell_type": "code",
   "execution_count": 42,
   "metadata": {},
   "outputs": [],
   "source": [
    "model = get_mnist_model()\n",
    "model.compile('rmsprop',loss='sparse_categorical_crossentropy', metrics=['accuracy',RootMeanSquaredError()]) # custom metric is also added\n"
   ]
  },
  {
   "cell_type": "code",
   "execution_count": 43,
   "metadata": {},
   "outputs": [],
   "source": [
    "from tensorflow.keras.datasets import mnist\n",
    "(images, labels), (test_images, test_labels) = mnist.load_data()\n",
    "images = images.reshape((60000, 28 * 28)).astype(\"float32\") / 255 \n",
    "test_images = test_images.reshape((10000, 28 * 28)).astype(\"float32\") / 255 \n",
    "train_images, val_images = images[10000:], images[:10000]\n",
    "train_labels, val_labels = labels[10000:], labels[:10000]"
   ]
  },
  {
   "cell_type": "code",
   "execution_count": 44,
   "metadata": {},
   "outputs": [
    {
     "data": {
      "text/plain": [
       "(50000, 784)"
      ]
     },
     "execution_count": 44,
     "metadata": {},
     "output_type": "execute_result"
    }
   ],
   "source": [
    "train_images.shape"
   ]
  },
  {
   "cell_type": "code",
   "execution_count": 45,
   "metadata": {},
   "outputs": [
    {
     "name": "stdout",
     "output_type": "stream",
     "text": [
      "Epoch 1/3\n",
      "1563/1563 [==============================] - 13s 8ms/step - loss: 0.4478 - accuracy: 0.8743 - rmse: 7.1517 - val_loss: 0.3738 - val_accuracy: 0.9058 - val_rmse: 7.2728\n",
      "Epoch 2/3\n",
      "1563/1563 [==============================] - 12s 8ms/step - loss: 0.4310 - accuracy: 0.8911 - rmse: 7.2571 - val_loss: 0.3702 - val_accuracy: 0.9113 - val_rmse: 7.3198\n",
      "Epoch 3/3\n",
      "1563/1563 [==============================] - 13s 8ms/step - loss: 0.4732 - accuracy: 0.8886 - rmse: 7.2882 - val_loss: 0.4821 - val_accuracy: 0.8920 - val_rmse: 7.3229\n",
      "313/313 [==============================] - 1s 5ms/step - loss: 0.4452 - accuracy: 0.8998 - rmse: 7.3309\n"
     ]
    }
   ],
   "source": [
    "model.fit(train_images,train_labels,epochs=3,validation_data=(val_images,val_labels))\n",
    "test_metrics=model.evaluate(test_images,test_labels)"
   ]
  },
  {
   "cell_type": "markdown",
   "metadata": {},
   "source": [
    "keras callbacks : there are many - the important ones are Early stopping, modelCheckpoints [to save model given conditions], learning rate adjuster etc \n",
    "callback object is passed as a list to model.fit() interrupting in the training based on conditions we give. \n",
    "Model can also be saved after training with model.save('filename') and model is loaded with the API : keras.models.load_model('filename')"
   ]
  },
  {
   "cell_type": "code",
   "execution_count": 46,
   "metadata": {},
   "outputs": [],
   "source": [
    "callbacks_list = [keras.callbacks.EarlyStopping(monitor='val_accuracy',patience=2,), keras.callbacks.ModelCheckpoint(filepath='mnist_model.keras',monitor='val_loss', save_best_only=True,)]\n"
   ]
  },
  {
   "cell_type": "code",
   "execution_count": 47,
   "metadata": {},
   "outputs": [
    {
     "name": "stdout",
     "output_type": "stream",
     "text": [
      "Epoch 1/10\n",
      "1563/1563 [==============================] - 12s 8ms/step - loss: 0.4457 - accuracy: 0.8747 - val_loss: 0.3246 - val_accuracy: 0.9156\n",
      "Epoch 2/10\n",
      "1563/1563 [==============================] - 11s 7ms/step - loss: 0.4246 - accuracy: 0.8932 - val_loss: 0.3801 - val_accuracy: 0.9070\n",
      "Epoch 3/10\n",
      "1563/1563 [==============================] - 12s 7ms/step - loss: 0.4659 - accuracy: 0.8888 - val_loss: 0.3935 - val_accuracy: 0.9083\n"
     ]
    },
    {
     "data": {
      "text/plain": [
       "<keras.src.callbacks.History at 0x2f0414290>"
      ]
     },
     "execution_count": 47,
     "metadata": {},
     "output_type": "execute_result"
    }
   ],
   "source": [
    "model = get_mnist_model()\n",
    "model.compile(optimizer='rmsprop', loss='sparse_categorical_crossentropy',metrics=['accuracy'])\n",
    "model.fit(train_images,train_labels,epochs=10,callbacks=callbacks_list,validation_data=(val_images, val_labels))"
   ]
  },
  {
   "cell_type": "markdown",
   "metadata": {},
   "source": [
    "Creating a custom callback can be done by subclassing keras.callbacks.Callback"
   ]
  },
  {
   "cell_type": "code",
   "execution_count": 50,
   "metadata": {},
   "outputs": [],
   "source": [
    "import matplotlib.pyplot as plt\n",
    "class BatchLossHistory(keras.callbacks.Callback):\n",
    "    def on_train_begin(self,logs):\n",
    "        self.per_batch_losses = []\n",
    "    \n",
    "    def on_batch_end(self,batch,logs):\n",
    "        self.per_batch_losses.append(logs.get(\"loss\"))\n",
    "\n",
    "    def on_epoch_end(self,epoch,logs):\n",
    "        plt.clf()\n",
    "        plt.plot(range(len(self.per_batch_losses)), self.per_batch_losses, label=\"Training loss per batch\")\n",
    "        plt.xlabel(f\"Batch (epoch) {epoch}\")\n",
    "        plt.ylabel(\"loss\")\n",
    "        plt.legend()\n",
    "        self.per_batch_losses = []"
   ]
  },
  {
   "cell_type": "code",
   "execution_count": 53,
   "metadata": {},
   "outputs": [
    {
     "name": "stdout",
     "output_type": "stream",
     "text": [
      "Epoch 1/3\n",
      "1563/1563 [==============================] - 12s 7ms/step - loss: 0.4442 - accuracy: 0.8745 - val_loss: 0.3803 - val_accuracy: 0.9013\n",
      "Epoch 2/3\n",
      "1563/1563 [==============================] - 11s 7ms/step - loss: 0.4273 - accuracy: 0.8927 - val_loss: 0.3684 - val_accuracy: 0.9095\n",
      "Epoch 3/3\n",
      "1563/1563 [==============================] - 11s 7ms/step - loss: 0.4676 - accuracy: 0.8892 - val_loss: 0.4160 - val_accuracy: 0.9047\n"
     ]
    },
    {
     "data": {
      "text/plain": [
       "<keras.src.callbacks.History at 0x32c5fa910>"
      ]
     },
     "execution_count": 53,
     "metadata": {},
     "output_type": "execute_result"
    },
    {
     "data": {
      "image/png": "[encoded data removed]",
      "text/plain": [
       "<Figure size 640x480 with 1 Axes>"
      ]
     },
     "metadata": {},
     "output_type": "display_data"
    }
   ],
   "source": [
    "model = get_mnist_model()\n",
    "model.compile(optimizer=\"rmsprop\",\n",
    "              loss=\"sparse_categorical_crossentropy\",\n",
    "              metrics=[\"accuracy\"])\n",
    "model.fit(train_images, train_labels,\n",
    "          epochs=3,\n",
    "          callbacks=[BatchLossHistory()],\n",
    "          validation_data=(val_images, val_labels))"
   ]
  },
  {
   "cell_type": "markdown",
   "metadata": {},
   "source": [
    "Tensorboard : a tool to visualize results to collect feedback , monitor important parameters and gain insights into the model."
   ]
  },
  {
   "cell_type": "code",
   "execution_count": 56,
   "metadata": {},
   "outputs": [
    {
     "name": "stdout",
     "output_type": "stream",
     "text": [
      "Epoch 1/2\n",
      "1563/1563 [==============================] - 11s 7ms/step - loss: 0.4486 - accuracy: 0.8743 - val_loss: 0.3496 - val_accuracy: 0.9078\n",
      "Epoch 2/2\n",
      "1563/1563 [==============================] - 11s 7ms/step - loss: 0.4277 - accuracy: 0.8926 - val_loss: 0.3502 - val_accuracy: 0.9158\n"
     ]
    },
    {
     "data": {
      "text/plain": [
       "<keras.src.callbacks.History at 0x3ff636f10>"
      ]
     },
     "execution_count": 56,
     "metadata": {},
     "output_type": "execute_result"
    }
   ],
   "source": [
    "model = get_mnist_model()\n",
    "model.compile(optimizer='rmsprop',loss='sparse_categorical_crossentropy',metrics=[\"accuracy\"])\n",
    "tensorboard = keras.callbacks.TensorBoard(log_dir='/Users/divyeshkanagavel/Desktop/DeepLearning/DL_nbs')\n",
    "model.fit(train_images,train_labels,epochs=2, callbacks=[tensorboard], validation_data=(val_images,val_labels))\n"
   ]
  },
  {
   "cell_type": "markdown",
   "metadata": {},
   "source": [
    "built in fit method is extremely useful for supervised learning,but if we want to dig deeper for other applications like reinforcement learning, \n",
    "semi-supervised learning, generative learning, custom training loop may have to be written. \n",
    "so, in these cases, we will implement a custom training method :\n",
    "forward pass\n",
    "computation of loss\n",
    "backward pass of gradients\n",
    "updation of weights"
   ]
  },
  {
   "cell_type": "markdown",
   "metadata": {},
   "source": [
    "the behaviour of neural network is different during training and inference -> for example layers like dropout will be different during training and inference."
   ]
  },
  {
   "cell_type": "markdown",
   "metadata": {},
   "source": [
    "tape.gradient(loss, model.weights) -> during training we need to call tape.gradient(loss, model.trainable_weights) so that the gradients flow backward only to trainable weights. Among keras built-in layers, batchnorm is the only non-trainable weight layer\n"
   ]
  },
  {
   "cell_type": "markdown",
   "metadata": {},
   "source": [
    "Complete custom training and inference code"
   ]
  },
  {
   "cell_type": "code",
   "execution_count": 58,
   "metadata": {},
   "outputs": [],
   "source": [
    "model = get_mnist_model()\n",
    "loss_fn = keras.losses.SparseCategoricalCrossentropy()\n",
    "optimizer = tf.keras.optimizers.legacy.RMSprop()\n",
    "metrics = [keras.metrics.SparseCategoricalAccuracy()]\n",
    "loss_tracking_metric = keras.metrics.Mean()"
   ]
  },
  {
   "cell_type": "code",
   "execution_count": 63,
   "metadata": {},
   "outputs": [],
   "source": [
    "def train_step(inputs,targets):\n",
    "    with tf.GradientTape() as tape:\n",
    "        predictions = model(inputs, training=True)\n",
    "        loss = loss_fn(targets,predictions)\n",
    "    gradients = tape.gradient(loss, model.trainable_weights)\n",
    "    optimizer.apply_gradients(zip(gradients, model.trainable_weights))\n",
    "    logs = {}\n",
    "    for metric in metrics:\n",
    "        metric.update_state(targets, predictions)\n",
    "        logs[metric.name] = metric.result()\n",
    "    loss_tracking_metric.update_state(loss)\n",
    "    logs[\"loss\"] = loss_tracking_metric.result()\n",
    "    return logs\n"
   ]
  },
  {
   "cell_type": "code",
   "execution_count": 60,
   "metadata": {},
   "outputs": [],
   "source": [
    "def reset_metrics():\n",
    "    for metric in metrics:\n",
    "        metric.reset_state()\n",
    "    loss_tracking_metric.reset_state()"
   ]
  },
  {
   "cell_type": "markdown",
   "metadata": {},
   "source": [
    "writing a custom training loop"
   ]
  },
  {
   "cell_type": "code",
   "execution_count": 61,
   "metadata": {},
   "outputs": [],
   "source": [
    "batch_size = 32"
   ]
  },
  {
   "cell_type": "code",
   "execution_count": 65,
   "metadata": {},
   "outputs": [
    {
     "name": "stdout",
     "output_type": "stream",
     "text": [
      "Results at the end of epoch 0\n",
      "...sparse_categorical_accuracy : 0.9869\n",
      "...loss : 0.0520\n",
      "Results at the end of epoch 1\n",
      "...sparse_categorical_accuracy : 0.9911\n",
      "...loss : 0.0362\n",
      "Results at the end of epoch 2\n",
      "...sparse_categorical_accuracy : 0.9935\n",
      "...loss : 0.0265\n"
     ]
    }
   ],
   "source": [
    "training_dataset = tf.data.Dataset.from_tensor_slices((train_images, train_labels))\n",
    "training_dataset = training_dataset.batch(batch_size)\n",
    "epochs = 3\n",
    "for epoch in range(epochs):\n",
    "    reset_metrics()\n",
    "    for inputs_batch, targets_batch in training_dataset:\n",
    "        logs = train_step(inputs_batch, targets_batch)\n",
    "    print(f\"Results at the end of epoch {epoch}\")\n",
    "    for key, value in logs.items():\n",
    "        print(f\"...{key} : {value:.4f}\")\n"
   ]
  },
  {
   "cell_type": "markdown",
   "metadata": {},
   "source": [
    "Evaluation loop "
   ]
  },
  {
   "cell_type": "code",
   "execution_count": 66,
   "metadata": {},
   "outputs": [],
   "source": [
    "def test_step(inputs,targets):\n",
    "    predictions = model(inputs, training=False)\n",
    "    loss = loss_fn(targets,predictions)\n",
    "    logs = {}\n",
    "    for metric in metrics:\n",
    "        metric.update_state(targets, predictions)\n",
    "        logs[\"val_\"+metric.name] = metric.result()\n",
    "    loss_tracking_metric.update_state(loss)\n",
    "    logs[\"val_loss\"] = loss_tracking_metric.result()\n",
    "    return logs\n"
   ]
  },
  {
   "cell_type": "code",
   "execution_count": 68,
   "metadata": {},
   "outputs": [
    {
     "name": "stdout",
     "output_type": "stream",
     "text": [
      "Evaluation results\n",
      "...val_sparse_categorical_accuracy : 0.9657\n",
      "...val_loss : 0.2082\n"
     ]
    }
   ],
   "source": [
    "val_dataset = tf.data.Dataset.from_tensor_slices((val_images,val_labels))\n",
    "val_dataset = val_dataset.batch(batch_size)\n",
    "reset_metrics()\n",
    "for inputs_batch, targets_batch in val_dataset:\n",
    "    logs = test_step(inputs_batch, targets_batch)\n",
    "print(\"Evaluation results\")\n",
    "for key,value in logs.items():\n",
    "    print(f\"...{key} : {value:.4f}\")\n"
   ]
  },
  {
   "cell_type": "markdown",
   "metadata": {},
   "source": [
    "the above train_step and test_step are very close to fit() and evaluate keras APIs, but keras API has some performance optimizations, has capabilities of distributed training among GPU clusters etc\n"
   ]
  },
  {
   "cell_type": "markdown",
   "metadata": {},
   "source": [
    "One of the performance optimization is the addition of tf.function decorator [Tensorflow function compilation]\n",
    "By default tf code executes eager execution which has support for debugging [line by line] but performance wise it is not great\n",
    "Instead , if the model is compiled into a graph, it can be optimized to run on hardware."
   ]
  },
  {
   "cell_type": "code",
   "execution_count": 69,
   "metadata": {},
   "outputs": [],
   "source": [
    "@tf.function\n",
    "def test_step(inputs, targets):\n",
    "    predictions = model(inputs, training=False) \n",
    "    loss = loss_fn(targets, predictions)\n",
    "    logs = {}\n",
    "    for metric in metrics:\n",
    "        metric.update_state(targets, predictions)\n",
    "        logs[\"val_\" + metric.name] = metric.result()\n",
    "    loss_tracking_metric.update_state(loss) \n",
    "    logs[\"val_loss\"] = loss_tracking_metric.result() \n",
    "    return logs"
   ]
  },
  {
   "cell_type": "code",
   "execution_count": 70,
   "metadata": {},
   "outputs": [
    {
     "name": "stdout",
     "output_type": "stream",
     "text": [
      "Evaluation results\n",
      "...val_sparse_categorical_accuracy : 0.7971\n",
      "...val_loss : 3.8166\n"
     ]
    }
   ],
   "source": [
    "val_dataset = tf.data.Dataset.from_tensor_slices((val_images,val_labels))\n",
    "val_dataset = val_dataset.batch(batch_size)\n",
    "reset_metrics()\n",
    "for inputs_batch, targets_batch in val_dataset:\n",
    "    logs = test_step(inputs_batch, targets_batch)\n",
    "print(\"Evaluation results\")\n",
    "for key,value in logs.items():\n",
    "    print(f\"...{key} : {value:.4f}\")"
   ]
  },
  {
   "cell_type": "markdown",
   "metadata": {},
   "source": [
    "the eager execution above took 1.8 seconds to run, whereas with tf.function decorator , it has reduced to 0.8 seconds\n",
    "While debugging and during development, it is better to run in eager execution, once the model is finalized, set it to tf.function mode and run faster"
   ]
  },
  {
   "cell_type": "markdown",
   "metadata": {},
   "source": [
    "keras fit has many features like callbacks, distributed training.In order to leverage keras.fit() functionalities in our custom training loop, our code can be subclassed from the keras.Model class and the train_step function can be overridden by us which is called by keras.fit() to process the batch"
   ]
  },
  {
   "cell_type": "code",
   "execution_count": 71,
   "metadata": {},
   "outputs": [],
   "source": [
    "loss_fn = keras.losses.SparseCategoricalCrossentropy()\n",
    "loss_tracker = keras.metrics.Mean(name=\"loss\")"
   ]
  },
  {
   "cell_type": "code",
   "execution_count": 80,
   "metadata": {},
   "outputs": [],
   "source": [
    "class CustomModel(keras.Model):\n",
    "    def train_step(self,data):\n",
    "        inputs,targets = data\n",
    "        with tf.GradientTape() as tape:\n",
    "            prediction = self(inputs, training=True)\n",
    "            loss = loss_fn(targets, prediction)\n",
    "        gradients = tape.gradient(loss, self.trainable_weights)\n",
    "        optimizer.apply_gradients(zip(gradients, self.trainable_weights))\n",
    "        loss_tracker.update_state(loss)\n",
    "        return {\"loss\":loss_tracker.result()}\n",
    "    @property\n",
    "    def metric(self):\n",
    "        return [loss_tracker]\n",
    "\n",
    "\n"
   ]
  },
  {
   "cell_type": "code",
   "execution_count": 81,
   "metadata": {},
   "outputs": [],
   "source": [
    "inputs = keras.Input(shape=(28 * 28,))\n",
    "features = layers.Dense(512, activation=\"relu\")(inputs)\n",
    "features = layers.Dropout(0.5)(features)\n",
    "outputs = layers.Dense(10, activation=\"softmax\")(features)\n",
    "model = CustomModel(inputs, outputs)"
   ]
  },
  {
   "cell_type": "code",
   "execution_count": 83,
   "metadata": {},
   "outputs": [
    {
     "name": "stdout",
     "output_type": "stream",
     "text": [
      "Epoch 1/3\n",
      "1563/1563 [==============================] - 8s 5ms/step - loss: 0.4464\n",
      "Epoch 2/3\n",
      "1563/1563 [==============================] - 8s 5ms/step - loss: 0.4414\n",
      "Epoch 3/3\n",
      "1563/1563 [==============================] - 8s 5ms/step - loss: 0.4446\n"
     ]
    },
    {
     "data": {
      "text/plain": [
       "<keras.src.callbacks.History at 0x4535a29d0>"
      ]
     },
     "execution_count": 83,
     "metadata": {},
     "output_type": "execute_result"
    }
   ],
   "source": [
    "model.compile(optimizer=tf.keras.optimizers.legacy.RMSprop()) \n",
    "model.fit(train_images, train_labels, epochs=3)\n"
   ]
  },
  {
   "cell_type": "markdown",
   "metadata": {},
   "source": [
    "So, a custom training loop can be written for sequantial,subclassed functional APIs\n",
    "There is no need to use @tf.function for faster execution. when train_step is overridden, it is called automatically\n",
    "\n",
    "self.compiled_loss(), self.compiled_metrics(), self.metrics() [includes the losstracking metric] allows us to call update_state for all metrics at once\n",
    "\n"
   ]
  },
  {
   "cell_type": "code",
   "execution_count": 84,
   "metadata": {},
   "outputs": [],
   "source": [
    "class CustomModel(keras.Model):\n",
    "    def train_step(self,data):\n",
    "        inputs, targets = data\n",
    "        with tf.GradientTape() as tape:\n",
    "            predictions = self(inputs, training=True)\n",
    "            loss = self.compiled_loss(targets,predictions)\n",
    "        gradients = tape.gradient(loss, self.trainable_weights)\n",
    "        optimizer.apply_gradients(zip(gradients, self.trainable_weights))\n",
    "        self.compiled_metrics.update_state(targets, predictions)\n",
    "        #return log\n",
    "        return {m.name : m.result() for m in self.metrics}\n",
    "    \n"
   ]
  },
  {
   "cell_type": "code",
   "execution_count": 85,
   "metadata": {},
   "outputs": [
    {
     "name": "stdout",
     "output_type": "stream",
     "text": [
      "Epoch 1/3\n",
      "1563/1563 [==============================] - 10s 6ms/step - loss: 0.4478 - sparse_categorical_accuracy: 0.8755\n",
      "Epoch 2/3\n",
      "1563/1563 [==============================] - 10s 6ms/step - loss: 0.4282 - sparse_categorical_accuracy: 0.8915\n",
      "Epoch 3/3\n",
      "1563/1563 [==============================] - 10s 7ms/step - loss: 0.4657 - sparse_categorical_accuracy: 0.8891\n"
     ]
    },
    {
     "data": {
      "text/plain": [
       "<keras.src.callbacks.History at 0x48c9e29d0>"
      ]
     },
     "execution_count": 85,
     "metadata": {},
     "output_type": "execute_result"
    }
   ],
   "source": [
    "inputs = keras.Input(shape=(28 * 28,))\n",
    "features = layers.Dense(512, activation=\"relu\")(inputs)\n",
    "features = layers.Dropout(0.5)(features)\n",
    "outputs = layers.Dense(10, activation=\"softmax\")(features)\n",
    "model = CustomModel(inputs, outputs)\n",
    "model.compile(optimizer=tf.keras.optimizers.legacy.RMSprop(), loss=keras.losses.SparseCategoricalCrossentropy(),\n",
    "metrics=[keras.metrics.SparseCategoricalAccuracy()]) \n",
    "model.fit(train_images, train_labels, epochs=3)"
   ]
  }
 ],
 "metadata": {
  "kernelspec": {
   "display_name": "base",
   "language": "python",
   "name": "python3"
  },
  "language_info": {
   "codemirror_mode": {
    "name": "ipython",
    "version": 3
   },
   "file_extension": ".py",
   "mimetype": "text/x-python",
   "name": "python",
   "nbconvert_exporter": "python",
   "pygments_lexer": "ipython3",
   "version": "3.11.5"
  }
 },
 "nbformat": 4,
 "nbformat_minor": 2
}
