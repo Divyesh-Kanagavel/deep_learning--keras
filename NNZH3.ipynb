{
  "nbformat": 4,
  "nbformat_minor": 0,
  "metadata": {
    "colab": {
      "provenance": [],
      "gpuType": "T4",
      "authorship_tag": "ABX9TyPp0H6S4V2hK4xUw1h8kZuc",
      "include_colab_link": true
    },
    "kernelspec": {
      "name": "python3",
      "display_name": "Python 3"
    },
    "language_info": {
      "name": "python"
    },
    "accelerator": "GPU"
  },
  "cells": [
    {
      "cell_type": "markdown",
      "metadata": {
        "id": "view-in-github",
        "colab_type": "text"
      },
      "source": [
        "<a href=\"https://colab.research.google.com/github/Divyesh-Kanagavel/deep_learning--keras/blob/master/NNZH3.ipynb\" target=\"_parent\"><img src=\"https://colab.research.google.com/assets/colab-badge.svg\" alt=\"Open In Colab\"/></a>"
      ]
    },
    {
      "cell_type": "code",
      "execution_count": null,
      "metadata": {
        "id": "1wr_0RJKU2O3"
      },
      "outputs": [],
      "source": [
        "import torch\n",
        "import torch.nn.functional as F\n",
        "import matplotlib.pyplot as plt # for making figures\n",
        "%matplotlib inline"
      ]
    },
    {
      "cell_type": "code",
      "source": [
        "# read in all the words\n",
        "words = open('/content/names.txt.txt', 'r').read().splitlines()\n",
        "words[:8]"
      ],
      "metadata": {
        "colab": {
          "base_uri": "https://localhost:8080/"
        },
        "id": "zM4L2JwAvz76",
        "outputId": "bd43567b-5f80-446f-9bfe-7071a311aea6"
      },
      "execution_count": null,
      "outputs": [
        {
          "output_type": "execute_result",
          "data": {
            "text/plain": [
              "['emma', 'olivia', 'ava', 'isabella', 'sophia', 'charlotte', 'mia', 'amelia']"
            ]
          },
          "metadata": {},
          "execution_count": 2
        }
      ]
    },
    {
      "cell_type": "code",
      "source": [
        "# build the vocabulary of characters and mappings to/from integers\n",
        "chars = sorted(list(set(''.join(words))))\n",
        "stoi = {s:i+1 for i,s in enumerate(chars)}\n",
        "stoi['.'] = 0\n",
        "itos = {i:s for s,i in stoi.items()}\n",
        "print(itos)"
      ],
      "metadata": {
        "colab": {
          "base_uri": "https://localhost:8080/"
        },
        "id": "sf0MzHdiv21I",
        "outputId": "edc8f173-1e56-41b0-e581-ecb7cd3bc1ef"
      },
      "execution_count": null,
      "outputs": [
        {
          "output_type": "stream",
          "name": "stdout",
          "text": [
            "{1: 'a', 2: 'b', 3: 'c', 4: 'd', 5: 'e', 6: 'f', 7: 'g', 8: 'h', 9: 'i', 10: 'j', 11: 'k', 12: 'l', 13: 'm', 14: 'n', 15: 'o', 16: 'p', 17: 'q', 18: 'r', 19: 's', 20: 't', 21: 'u', 22: 'v', 23: 'w', 24: 'x', 25: 'y', 26: 'z', 0: '.'}\n"
          ]
        }
      ]
    },
    {
      "cell_type": "code",
      "source": [
        "# build the dataset\n",
        "\n",
        "block_size = 3 # context length: how many characters do we take to predict the next one?\n",
        "X, Y = [], []\n",
        "for w in words:\n",
        "\n",
        "  #print(w)\n",
        "  context = [0] * block_size\n",
        "  for ch in w + '.':\n",
        "    ix = stoi[ch]\n",
        "    X.append(context)\n",
        "    Y.append(ix)\n",
        "    #print(''.join(itos[i] for i in context), '--->', itos[ix])\n",
        "    context = context[1:] + [ix] # crop and append\n",
        "\n",
        "X = torch.tensor(X)\n",
        "Y = torch.tensor(Y)"
      ],
      "metadata": {
        "id": "O2EbFVy5v6nM"
      },
      "execution_count": null,
      "outputs": []
    },
    {
      "cell_type": "code",
      "source": [
        "X.shape, X.dtype, Y.shape, Y.dtype"
      ],
      "metadata": {
        "colab": {
          "base_uri": "https://localhost:8080/"
        },
        "id": "45gFmPuEwGxV",
        "outputId": "ad73989d-062b-475e-d8b3-491c35307e60"
      },
      "execution_count": null,
      "outputs": [
        {
          "output_type": "execute_result",
          "data": {
            "text/plain": [
              "(torch.Size([228146, 3]), torch.int64, torch.Size([228146]), torch.int64)"
            ]
          },
          "metadata": {},
          "execution_count": 6
        }
      ]
    },
    {
      "cell_type": "code",
      "source": [
        "C = torch.randn((27,2))\n"
      ],
      "metadata": {
        "id": "PWDcnyQv79EQ"
      },
      "execution_count": null,
      "outputs": []
    },
    {
      "cell_type": "code",
      "source": [
        "emb = C[X] # embedding vector to embed the characters"
      ],
      "metadata": {
        "id": "_6-tJLCH8G95"
      },
      "execution_count": null,
      "outputs": []
    },
    {
      "cell_type": "code",
      "source": [
        "emb.shape"
      ],
      "metadata": {
        "colab": {
          "base_uri": "https://localhost:8080/"
        },
        "id": "PFic-EEj8JR2",
        "outputId": "39172cc3-1bbc-44e0-8797-37eae3472995"
      },
      "execution_count": null,
      "outputs": [
        {
          "output_type": "execute_result",
          "data": {
            "text/plain": [
              "torch.Size([32, 3, 2])"
            ]
          },
          "metadata": {},
          "execution_count": 11
        }
      ]
    },
    {
      "cell_type": "code",
      "source": [
        "# the first hidden layer which takes embedding vector as input\n",
        "W1 = torch.randn((6,100))\n",
        "b1 = torch.randn(100)\n"
      ],
      "metadata": {
        "id": "HgpIg6GXGKZU"
      },
      "execution_count": null,
      "outputs": []
    },
    {
      "cell_type": "code",
      "source": [
        "# torch.cat(torch.unbind(a)) can be used to to the same, but inefficient (additional memory)\n",
        "# view is much better, plays around with the same memory\n",
        "h = emb.view(-1,6) @ W1 + b1"
      ],
      "metadata": {
        "id": "oQ7-_b1qGYOW"
      },
      "execution_count": null,
      "outputs": []
    },
    {
      "cell_type": "code",
      "source": [
        "h.shape"
      ],
      "metadata": {
        "colab": {
          "base_uri": "https://localhost:8080/"
        },
        "id": "dnfBaALBH-Nv",
        "outputId": "553e5f1d-ab28-4985-ccb3-33f6244bb342"
      },
      "execution_count": null,
      "outputs": [
        {
          "output_type": "execute_result",
          "data": {
            "text/plain": [
              "torch.Size([32, 100])"
            ]
          },
          "metadata": {},
          "execution_count": 14
        }
      ]
    },
    {
      "cell_type": "code",
      "source": [
        "W2 = torch.randn((100,27))\n",
        "b2 = torch.randn(27)"
      ],
      "metadata": {
        "id": "9aMRXRc1H-6k"
      },
      "execution_count": null,
      "outputs": []
    },
    {
      "cell_type": "code",
      "source": [
        "logits = h @ W2 + b2"
      ],
      "metadata": {
        "id": "YTVqWFh6Is_5"
      },
      "execution_count": null,
      "outputs": []
    },
    {
      "cell_type": "code",
      "source": [
        "logits.shape"
      ],
      "metadata": {
        "colab": {
          "base_uri": "https://localhost:8080/"
        },
        "id": "HGZrwdZRIy7q",
        "outputId": "2c1f1e4a-0be6-4e6f-9216-5d0e09af7247"
      },
      "execution_count": null,
      "outputs": [
        {
          "output_type": "execute_result",
          "data": {
            "text/plain": [
              "torch.Size([32, 27])"
            ]
          },
          "metadata": {},
          "execution_count": 17
        }
      ]
    },
    {
      "cell_type": "code",
      "source": [
        "counts = logits.exp()"
      ],
      "metadata": {
        "id": "L88Y4RsAI09c"
      },
      "execution_count": null,
      "outputs": []
    },
    {
      "cell_type": "code",
      "source": [
        "probs = counts / counts.sum(1, keepdim=True)"
      ],
      "metadata": {
        "id": "fAB1GUnKJCdY"
      },
      "execution_count": null,
      "outputs": []
    },
    {
      "cell_type": "code",
      "source": [
        "probs.shape"
      ],
      "metadata": {
        "colab": {
          "base_uri": "https://localhost:8080/"
        },
        "id": "bzJKBmWoJTnb",
        "outputId": "57160270-1606-428f-89cf-16d4155959be"
      },
      "execution_count": null,
      "outputs": [
        {
          "output_type": "execute_result",
          "data": {
            "text/plain": [
              "torch.Size([32, 27])"
            ]
          },
          "metadata": {},
          "execution_count": 20
        }
      ]
    },
    {
      "cell_type": "code",
      "source": [
        "probs[torch.arange(32), Y] # for a correctly trained neural net, these are all supposed to be ones and others zeros"
      ],
      "metadata": {
        "colab": {
          "base_uri": "https://localhost:8080/"
        },
        "id": "07yz0m-bJUes",
        "outputId": "701707ac-662b-49e8-f58f-b70103e19229"
      },
      "execution_count": null,
      "outputs": [
        {
          "output_type": "execute_result",
          "data": {
            "text/plain": [
              "tensor([9.8233e-15, 1.2516e-10, 0.0000e+00, 9.6716e-18, 9.9998e-01, 4.9466e-09,\n",
              "        6.8917e-08, 1.3945e-17, 2.7025e-24, 1.2136e-20, 9.0885e-06, 3.9225e-17,\n",
              "        1.0174e-05, 2.2299e-17, 7.3461e-11, 8.2595e-01, 6.6019e-16, 9.3781e-05,\n",
              "        5.4872e-10, 1.2913e-20, 1.1018e-14, 9.9983e-01, 7.3277e-24, 2.6594e-24,\n",
              "        7.7798e-34, 5.1640e-07, 1.3614e-11, 3.8690e-11, 6.1188e-19, 0.0000e+00,\n",
              "        8.9732e-13, 2.5533e-20])"
            ]
          },
          "metadata": {},
          "execution_count": 25
        }
      ]
    },
    {
      "cell_type": "code",
      "source": [
        "#negative log likelihood function :\n",
        "-(probs[torch.arange(32),Y]+0.0001).log().mean()"
      ],
      "metadata": {
        "colab": {
          "base_uri": "https://localhost:8080/"
        },
        "id": "hvY_CuBuJZ_e",
        "outputId": "ffa1059c-e552-4cfe-f670-74c692aa50c0"
      },
      "execution_count": null,
      "outputs": [
        {
          "output_type": "execute_result",
          "data": {
            "text/plain": [
              "tensor(8.3262)"
            ]
          },
          "metadata": {},
          "execution_count": 29
        }
      ]
    },
    {
      "cell_type": "markdown",
      "source": [
        "putting all the pieces together"
      ],
      "metadata": {
        "id": "UKOrkfpmXPUb"
      }
    },
    {
      "cell_type": "code",
      "source": [
        "X.shape,Y.shape"
      ],
      "metadata": {
        "colab": {
          "base_uri": "https://localhost:8080/",
          "height": 165
        },
        "id": "94Vfcd50UDKZ",
        "outputId": "b45fee32-03d8-4aba-e6c5-153379dfab7c"
      },
      "execution_count": null,
      "outputs": [
        {
          "output_type": "error",
          "ename": "NameError",
          "evalue": "ignored",
          "traceback": [
            "\u001b[0;31m---------------------------------------------------------------------------\u001b[0m",
            "\u001b[0;31mNameError\u001b[0m                                 Traceback (most recent call last)",
            "\u001b[0;32m<ipython-input-4-08789ee07853>\u001b[0m in \u001b[0;36m<cell line: 1>\u001b[0;34m()\u001b[0m\n\u001b[0;32m----> 1\u001b[0;31m \u001b[0mX\u001b[0m\u001b[0;34m.\u001b[0m\u001b[0mshape\u001b[0m\u001b[0;34m,\u001b[0m\u001b[0mY\u001b[0m\u001b[0;34m.\u001b[0m\u001b[0mshape\u001b[0m\u001b[0;34m\u001b[0m\u001b[0;34m\u001b[0m\u001b[0m\n\u001b[0m",
            "\u001b[0;31mNameError\u001b[0m: name 'X' is not defined"
          ]
        }
      ]
    },
    {
      "cell_type": "code",
      "source": [
        "g = torch.Generator().manual_seed(2147483647)\n",
        "C = torch.randn((27,10),generator=g)\n",
        "W1 = torch.randn((30,300),generator=g)\n",
        "b1 = torch.randn(300,generator=g)\n",
        "W2 = torch.randn((300,27),generator=g)\n",
        "b2 = torch.randn(27,generator=g)\n",
        "parameters = [C,W1,b1,W2,b2]\n"
      ],
      "metadata": {
        "id": "lG_iGwbDXXXF"
      },
      "execution_count": null,
      "outputs": []
    },
    {
      "cell_type": "code",
      "source": [
        "sum(p.numel() for p in parameters)"
      ],
      "metadata": {
        "colab": {
          "base_uri": "https://localhost:8080/"
        },
        "id": "QoTMqAGgYFxj",
        "outputId": "f4c5cadb-6554-4fb9-beaa-ec2b660e25be"
      },
      "execution_count": null,
      "outputs": [
        {
          "output_type": "execute_result",
          "data": {
            "text/plain": [
              "17697"
            ]
          },
          "metadata": {},
          "execution_count": 23
        }
      ]
    },
    {
      "cell_type": "code",
      "source": [
        "epsilon = 1e-10\n",
        "emb = C[X]\n",
        "h = torch.tanh(emb.view(-1,6) @ W1 + b1) #tanh is used in original MLP paper\n",
        "logits = h @ W2 + b2\n",
        "counts = logits.exp()\n",
        "probs = counts / counts.sum(1,keepdim=True)\n",
        "loss = -(probs[torch.arange(32),Y]+epsilon).log().mean()\n",
        "loss"
      ],
      "metadata": {
        "colab": {
          "base_uri": "https://localhost:8080/"
        },
        "id": "FNwmm6P8YMiS",
        "outputId": "af2a392f-99ae-420e-e6de-d3ee3181a659"
      },
      "execution_count": null,
      "outputs": [
        {
          "output_type": "execute_result",
          "data": {
            "text/plain": [
              "tensor(16.3652)"
            ]
          },
          "metadata": {},
          "execution_count": 45
        }
      ]
    },
    {
      "cell_type": "code",
      "source": [
        "F.cross_entropy(logits,Y) # this can be used to replace the own implementation\n"
      ],
      "metadata": {
        "colab": {
          "base_uri": "https://localhost:8080/"
        },
        "id": "tDAVnrAsdJLB",
        "outputId": "0a29b350-2e25-4815-f2a6-b337a2092f5b"
      },
      "execution_count": null,
      "outputs": [
        {
          "output_type": "execute_result",
          "data": {
            "text/plain": [
              "tensor(17.7697)"
            ]
          },
          "metadata": {},
          "execution_count": 46
        }
      ]
    },
    {
      "cell_type": "code",
      "source": [
        "epsilon = 1e-10\n",
        "emb = C[X]\n",
        "h = torch.tanh(emb.view(-1,6) @ W1 + b1) #tanh is used in original MLP paper\n",
        "logits = h @ W2 + b2\n",
        "# F.cross_entropy is better because it does the same thing consuming less memory, and also backprop pass is efficient because derviatives\n",
        "#are analytically found and made easier\n",
        "loss = F.cross_entropy(logits, Y)\n"
      ],
      "metadata": {
        "colab": {
          "base_uri": "https://localhost:8080/"
        },
        "id": "BXExONDTdcuy",
        "outputId": "ea2b0a64-ea5b-4279-c1f3-67e68d3be130"
      },
      "execution_count": null,
      "outputs": [
        {
          "output_type": "execute_result",
          "data": {
            "text/plain": [
              "tensor(17.7697)"
            ]
          },
          "metadata": {},
          "execution_count": 47
        }
      ]
    },
    {
      "cell_type": "code",
      "source": [
        "for p in parameters:\n",
        "  p.requires_grad = True"
      ],
      "metadata": {
        "id": "vaRke1_KhnkA"
      },
      "execution_count": null,
      "outputs": []
    },
    {
      "cell_type": "code",
      "source": [
        "for _ in range(10):\n",
        "  epsilon = 1e-10\n",
        "  emb = C[X]\n",
        "  h = torch.tanh(emb.view(-1,30) @ W1 + b1) #tanh is used in original MLP paper\n",
        "  logits = h @ W2 + b2\n",
        "  # F.cross_entropy is better because it does the same thing consuming less memory, and also backprop pass is efficient because derviatives\n",
        "  #are analytically found and made easier\n",
        "  loss = F.cross_entropy(logits, Y)\n",
        "  print(loss.item())\n",
        "\n",
        "\n",
        "  #backward pass\n",
        "  for p in parameters:\n",
        "    p.grad = None\n",
        "\n",
        "  loss.backward()\n",
        "  for p in parameters:\n",
        "    p.data += -0.1*p.grad\n",
        "\n"
      ],
      "metadata": {
        "colab": {
          "base_uri": "https://localhost:8080/"
        },
        "id": "jM4qr6t9dpSo",
        "outputId": "6aadb48c-dcce-4f30-8bb0-22afd3d7a5a5"
      },
      "execution_count": null,
      "outputs": [
        {
          "output_type": "stream",
          "name": "stdout",
          "text": [
            "10.709586143493652\n",
            "10.407632827758789\n",
            "10.127808570861816\n",
            "9.864365577697754\n",
            "9.61450481414795\n",
            "9.376440048217773\n",
            "9.148944854736328\n",
            "8.931111335754395\n",
            "8.722230911254883\n",
            "8.521749496459961\n"
          ]
        }
      ]
    },
    {
      "cell_type": "markdown",
      "source": [
        "loss function reduces at a slower pace. because it scans through the entire dataset to calculate gradients. instead, mini batches are used to group the dataset into smaller pieces and then parameters are learned."
      ],
      "metadata": {
        "id": "4zuVa0ZcvJd6"
      }
    },
    {
      "cell_type": "code",
      "source": [
        "for _ in range(10):\n",
        "  epsilon = 1e-10\n",
        "  ix = torch.randint(0,X.shape[0],(32,))\n",
        "  emb = C[X[ix]]\n",
        "  h = torch.tanh(emb.view(-1,30) @ W1 + b1) #tanh is used in original MLP paper\n",
        "  logits = h @ W2 + b2\n",
        "  # F.cross_entropy is better because it does the same thing consuming less memory, and also backprop pass is efficient because derviatives\n",
        "  #are analytically found and made easier\n",
        "  loss = F.cross_entropy(logits, Y[ix])\n",
        "\n",
        "\n",
        "  #backward pass\n",
        "  for p in parameters:\n",
        "    p.grad = None\n",
        "\n",
        "  loss.backward()\n",
        "  for p in parameters:\n",
        "    p.data += -0.1*p.grad\n",
        "\n",
        "print(loss.item())\n"
      ],
      "metadata": {
        "id": "g46dV-LPiR8L",
        "colab": {
          "base_uri": "https://localhost:8080/"
        },
        "outputId": "d6882ea1-8c8e-473b-d5b0-4066b19e08cf"
      },
      "execution_count": null,
      "outputs": [
        {
          "output_type": "stream",
          "name": "stdout",
          "text": [
            "2.5115718841552734\n"
          ]
        }
      ]
    },
    {
      "cell_type": "code",
      "source": [
        "def build_dataset(words):\n",
        "  block_size=3\n",
        "  X,Y = [],[]\n",
        "  for w in words:\n",
        "    context = [0]*block_size\n",
        "    for ch in w+'.':\n",
        "      ix = stoi[ch]\n",
        "      X.append(context)\n",
        "      Y.append(ix)\n",
        "      context = context[1:] + [ix]\n",
        "  X = torch.tensor(X)\n",
        "  Y = torch.tensor(Y)\n",
        "  print(X.shape,Y.shape)\n",
        "  return X,Y\n",
        "\n",
        "import random\n",
        "random.seed(42)\n",
        "random.shuffle(words)\n",
        "n1 = int(0.8*len(words))\n",
        "n2 = int(0.9*len(words))\n",
        "\n",
        "Xtr,Ytr = build_dataset(words[:n1])\n",
        "Xdev,Ydev = build_dataset(words[n1:n2])\n",
        "Xtest,Ytest = build_dataset(words[n2:])\n",
        "\n"
      ],
      "metadata": {
        "colab": {
          "base_uri": "https://localhost:8080/"
        },
        "id": "QWyf_BfVctnn",
        "outputId": "1344073f-6ea7-48a9-eb99-85a9f36190d9"
      },
      "execution_count": null,
      "outputs": [
        {
          "output_type": "stream",
          "name": "stdout",
          "text": [
            "torch.Size([182580, 3]) torch.Size([182580])\n",
            "torch.Size([22767, 3]) torch.Size([22767])\n",
            "torch.Size([22799, 3]) torch.Size([22799])\n"
          ]
        }
      ]
    },
    {
      "cell_type": "code",
      "source": [
        "for _ in range(30000):\n",
        "  #mini batch - batch size = 64\n",
        "  batch_size = 64\n",
        "  lr = 0.0001\n",
        "  ix = torch.randint(0,Xtr.shape[0],(batch_size,))\n",
        "  emb = C[Xtr[ix]]\n",
        "  h = torch.tanh(emb.view(-1,30) @ W1 + b1) #tanh is used in original MLP paper\n",
        "  logits = h @ W2 + b2\n",
        "  # F.cross_entropy is better because it does the same thing consuming less memory, and also backprop pass is efficient because derviatives\n",
        "  #are analytically found and made easier\n",
        "  loss = F.cross_entropy(logits, Ytr[ix])\n",
        "\n",
        "\n",
        "  #backward pass\n",
        "  for p in parameters:\n",
        "    p.grad = None\n",
        "\n",
        "  loss.backward()\n",
        "  for p in parameters:\n",
        "    p.data += -lr*p.grad\n",
        "\n",
        "#print(loss.item())"
      ],
      "metadata": {
        "id": "U_OWTSO_fDcd"
      },
      "execution_count": null,
      "outputs": []
    },
    {
      "cell_type": "markdown",
      "source": [
        "the learning rate is modified as the the model is trained for more and more epochs. initially, the learning rate is high for the model parameters to learn the patterns quickly and then slowly, the learning rate's value is reduced to account for larger swings if the learning rate is kept high."
      ],
      "metadata": {
        "id": "kHuRquhkqmb3"
      }
    },
    {
      "cell_type": "code",
      "source": [
        "#training loss\n",
        "emb = C[Xtr]\n",
        "h = torch.tanh(emb.view(-1,30) @ W1 + b1)\n",
        "logits = h@ W2 + b2\n",
        "loss = F.cross_entropy(logits,Ytr)\n",
        "loss"
      ],
      "metadata": {
        "colab": {
          "base_uri": "https://localhost:8080/"
        },
        "id": "ynDTtDQNtCe3",
        "outputId": "1ce04fb0-4c97-4312-bd75-498bd2b02e8f"
      },
      "execution_count": null,
      "outputs": [
        {
          "output_type": "execute_result",
          "data": {
            "text/plain": [
              "tensor(2.1351, grad_fn=<NllLossBackward0>)"
            ]
          },
          "metadata": {},
          "execution_count": 45
        }
      ]
    },
    {
      "cell_type": "code",
      "source": [
        "#evaluation on validation set\n",
        "\n",
        "emb = C[Xdev]\n",
        "h = torch.tanh(emb.view(-1,30) @ W1 + b1)\n",
        "logits = h@ W2 + b2\n",
        "loss = F.cross_entropy(logits,Ydev)\n",
        "loss"
      ],
      "metadata": {
        "id": "i6ViwUkZgKEy",
        "colab": {
          "base_uri": "https://localhost:8080/"
        },
        "outputId": "661408a6-e1c7-4d37-e965-88a86ee7153c"
      },
      "execution_count": null,
      "outputs": [
        {
          "output_type": "execute_result",
          "data": {
            "text/plain": [
              "tensor(2.1753, grad_fn=<NllLossBackward0>)"
            ]
          },
          "metadata": {},
          "execution_count": 46
        }
      ]
    },
    {
      "cell_type": "markdown",
      "source": [
        "The loss on the devset saturates at 2.4058 and does not learn anymore, because the total number of parameters are just 3481, but the dataset is huge. so, there may be a need to increase the number of params.\n",
        "with increase in params in hidden layer to 300 instead of 100 and a increase in batch_size to 64 instead of 32, loss has been reduced to 2.29 now."
      ],
      "metadata": {
        "id": "GET6oU9arX5I"
      }
    },
    {
      "cell_type": "markdown",
      "source": [
        "though the number of hidden layers are increased to 300, the performance of the network is still not that good.the training error has reduced and the validation error is also decreasing. there is still scope for improvement.\n",
        "The bottleneck to the network could be that the embedding vector is not big ,i.e 27 characters as a two d vector is probably hard to embed."
      ],
      "metadata": {
        "id": "9OhaVoAYuuM_"
      }
    },
    {
      "cell_type": "code",
      "source": [
        "#visualization of the embedding vector\n",
        "\n",
        "plt.figure(figsize=(8,8))\n",
        "plt.scatter(C[:,0].data, C[:,1].data,s=200)\n",
        "for i in range(C.shape[0]):\n",
        "  plt.text(C[i,0].item(), C[i,1].item(), itos[i], ha='center',va='center',color='white')\n",
        "plt.grid('minor')"
      ],
      "metadata": {
        "colab": {
          "base_uri": "https://localhost:8080/",
          "height": 676
        },
        "id": "Pw3NhUs7rnoq",
        "outputId": "39a2cc8e-eb4c-40ca-86b4-5c26cbe7138f"
      },
      "execution_count": null,
      "outputs": [
        {
          "output_type": "display_data",
          "data": {
            "text/plain": [
              "<Figure size 800x800 with 1 Axes>"
            ],
            "image/png": "[encoded data removed]"
          },
          "metadata": {}
        }
      ]
    },
    {
      "cell_type": "markdown",
      "source": [
        "The embeddings are not random, there are some patterns observed, like the vowels are taken together, the character q is learned like a special character like '.' . with a larger dimensional embedding vector, more data could be learned."
      ],
      "metadata": {
        "id": "fk4fv0n0w6WM"
      }
    },
    {
      "cell_type": "code",
      "source": [
        "#sample names\n",
        "g = torch.Generator().manual_seed(2147483647 + 10)\n",
        "\n",
        "for _ in range(30):\n",
        "  out = []\n",
        "  block_size = 3\n",
        "  context = [0]*block_size\n",
        "  while True:\n",
        "    emb = C[torch.tensor([context])]\n",
        "    h = torch.tanh(emb.view(1,-1) @ W1 + b1)\n",
        "    logits = h @ W2 + b2\n",
        "    probs = F.softmax(logits, dim=1)\n",
        "    ix = torch.multinomial(probs, num_samples=1, generator=g).item()\n",
        "    context = context[1:] + [ix]\n",
        "    out.append(ix)\n",
        "    if ix == 0:\n",
        "      break\n",
        "  print(''.join(itos[i] for i in out))\n",
        "\n",
        ""
      ],
      "metadata": {
        "colab": {
          "base_uri": "https://localhost:8080/"
        },
        "id": "wKdwmLwUwpPp",
        "outputId": "b40f9da8-c056-4b97-9397-5a361977a078"
      },
      "execution_count": null,
      "outputs": [
        {
          "output_type": "stream",
          "name": "stdout",
          "text": [
            "mona.\n",
            "mayah.\n",
            "seel.\n",
            "nihahla.\n",
            "remmastendrari.\n",
            "adeer.\n",
            "melin.\n",
            "shi.\n",
            "jen.\n",
            "edelissopharlelle.\n",
            "malaia.\n",
            "nosher.\n",
            "rishimiel.\n",
            "kindrenelipanthusan.\n",
            "brence.\n",
            "ryyah.\n",
            "fael.\n",
            "yuma.\n",
            "mys.\n",
            "kyla.\n",
            "hal.\n",
            "salynn.\n",
            "ufredley.\n",
            "juren.\n",
            "cre.\n",
            "kiveaoshenoren.\n",
            "fenno.\n",
            "oba.\n",
            "zpeiza.\n",
            "amuey.\n"
          ]
        }
      ]
    },
    {
      "cell_type": "code",
      "source": [],
      "metadata": {
        "id": "uxxcQm1_5PYl"
      },
      "execution_count": null,
      "outputs": []
    }
  ]
}