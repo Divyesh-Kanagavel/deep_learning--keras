{
  "nbformat": 4,
  "nbformat_minor": 0,
  "metadata": {
    "colab": {
      "provenance": [],
      "authorship_tag": "ABX9TyOwRNontHOUhzPGDJQOH/HB",
      "include_colab_link": true
    },
    "kernelspec": {
      "name": "python3",
      "display_name": "Python 3"
    },
    "language_info": {
      "name": "python"
    }
  },
  "cells": [
    {
      "cell_type": "markdown",
      "metadata": {
        "id": "view-in-github",
        "colab_type": "text"
      },
      "source": [
        "<a href=\"https://colab.research.google.com/github/Divyesh-Kanagavel/deep_learning--keras/blob/master/NN_Intro_AK.ipynb\" target=\"_parent\"><img src=\"https://colab.research.google.com/assets/colab-badge.svg\" alt=\"Open In Colab\"/></a>"
      ]
    },
    {
      "cell_type": "code",
      "execution_count": null,
      "metadata": {
        "id": "sweSpWvfFPbk"
      },
      "outputs": [],
      "source": [
        "import math\n",
        "import numpy as np\n",
        "import matplotlib.pyplot as plt\n",
        "%matplotlib inline"
      ]
    },
    {
      "cell_type": "code",
      "source": [
        "def f(x):\n",
        "  return 3*x**2 - 4*x + 5"
      ],
      "metadata": {
        "id": "Oa0gapLAx4vo"
      },
      "execution_count": null,
      "outputs": []
    },
    {
      "cell_type": "code",
      "source": [
        "f(3.0)"
      ],
      "metadata": {
        "colab": {
          "base_uri": "https://localhost:8080/"
        },
        "id": "tkWIEWokyAxT",
        "outputId": "170fdce7-901b-43bf-c55f-488e9bcac386"
      },
      "execution_count": null,
      "outputs": [
        {
          "output_type": "execute_result",
          "data": {
            "text/plain": [
              "20.0"
            ]
          },
          "metadata": {},
          "execution_count": 3
        }
      ]
    },
    {
      "cell_type": "code",
      "source": [
        "xs = np.arange(-5,5,0.25)"
      ],
      "metadata": {
        "id": "253GreSfyFA4"
      },
      "execution_count": null,
      "outputs": []
    },
    {
      "cell_type": "code",
      "source": [
        "ys = f(xs)"
      ],
      "metadata": {
        "id": "XML6eXUYzgrr"
      },
      "execution_count": null,
      "outputs": []
    },
    {
      "cell_type": "code",
      "source": [
        "plt.plot(xs,ys)"
      ],
      "metadata": {
        "id": "C8mYjFDkziSy",
        "outputId": "904c68f7-74a6-4ae6-f738-cd7bee0f433d",
        "colab": {
          "base_uri": "https://localhost:8080/",
          "height": 282
        }
      },
      "execution_count": null,
      "outputs": [
        {
          "output_type": "execute_result",
          "data": {
            "text/plain": [
              "[<matplotlib.lines.Line2D at 0x7fd29802ec40>]"
            ]
          },
          "metadata": {},
          "execution_count": 6
        },
        {
          "output_type": "display_data",
          "data": {
            "text/plain": [
              "<Figure size 432x288 with 1 Axes>"
            ],
            "image/png": "[encoded data removed]"
          },
          "metadata": {
            "needs_background": "light"
          }
        }
      ]
    },
    {
      "cell_type": "code",
      "source": [
        "class Value:\n",
        "  def __init__(self,data,_children=(), _op='',label=''):\n",
        "    self.data = data\n",
        "    self.grad = 0.0\n",
        "    self._backward = lambda : None   # initially an empty function\n",
        "    self._prev = set(_children)\n",
        "    self._op = _op\n",
        "    self.label=label\n",
        "\n",
        "  def __repr__(self):\n",
        "    return f\"Value(data={self.data})\"\n",
        "\n",
        "  def __add__(self,other):\n",
        "    other=other if isinstance(other,Value) else Value(other)\n",
        "    out =  Value(self.data+other.data, (self,other), '+')\n",
        "    def _backward():\n",
        "      self.grad += 1.0*out.grad\n",
        "      other.grad += 1.0*out.grad\n",
        "    out._backward = _backward\n",
        "    return out\n",
        "\n",
        "  def __radd__(self,other):\n",
        "    return (self+other)\n",
        "\n",
        "  def __sub__(self,other):\n",
        "    return self + (-other)\n",
        "\n",
        "    return out\n",
        "  # a*2.0 is solved with checking the type of other, but 2.0 * a still throws an error - rmul instead of mul fixes this\n",
        "  # rmul will swap the arguments and check if such an overloading exists.\n",
        "  def __rmul__(self,other):\n",
        "    return self*other\n",
        "\n",
        "  def __mul__(self,other):\n",
        "    other=other if isinstance(other,Value) else Value(other)\n",
        "    out = Value(self.data*other.data, (self,other), '*')\n",
        "    def _backward():\n",
        "      self.grad += other.data*out.grad\n",
        "      other.grad += self.data*out.grad\n",
        "    out._backward = _backward\n",
        "    return out\n",
        "\n",
        "  def __neg__(self):\n",
        "    return self * -1\n",
        "\n",
        "  def __pow__(self,other):\n",
        "    assert isinstance(other,(int,float)), \"only supporting int/float powers for now\"\n",
        "    out = Value(self.data**other, (self,), f'**{other}')\n",
        "    def _backward():\n",
        "      self.grad += other*(self.data**(other-1))*out.grad\n",
        "    out._backward = _backward\n",
        "    return out\n",
        "\n",
        "  def __truediv__(self,other):\n",
        "    return self*other**-1\n",
        "\n",
        "  def exp(self):\n",
        "    x = self.data\n",
        "    t = math.exp(x)\n",
        "    out = Value(t,(self,), 'exp')\n",
        "    def _backward():\n",
        "      self.grad+=t*out.grad\n",
        "    out._backward = _backward\n",
        "    return out\n",
        "\n",
        "  def tanh(self):\n",
        "    x = self.data\n",
        "    t = (math.exp(2*x)-1)/(math.exp(2*x)+1)\n",
        "    out = Value(t, (self,),'tanh')\n",
        "    def _backward():\n",
        "      self.grad += (1-t**2)*out.grad\n",
        "    out._backward = _backward\n",
        "    return out\n",
        "\n",
        "  def backward(self):\n",
        "    topo = []\n",
        "    visited = set()\n",
        "    def build_topo(v):\n",
        "      if v not in visited:\n",
        "        visited.add(v)\n",
        "        for child in v._prev:\n",
        "          build_topo(child)\n",
        "        topo.append(v)\n",
        "    build_topo(self)\n",
        "    self.grad=1\n",
        "    for node in reversed(topo):\n",
        "      node._backward()\n"
      ],
      "metadata": {
        "id": "YE_PChdDzj_A"
      },
      "execution_count": null,
      "outputs": []
    },
    {
      "cell_type": "code",
      "source": [
        "a = Value(2.0)\n",
        "b = Value(3.0)\n",
        "a**3\n"
      ],
      "metadata": {
        "colab": {
          "base_uri": "https://localhost:8080/"
        },
        "id": "iyG0l2anUo6N",
        "outputId": "06034823-8ac9-4949-bbc5-9f530021647c"
      },
      "execution_count": null,
      "outputs": [
        {
          "output_type": "execute_result",
          "data": {
            "text/plain": [
              "Value(data=8.0)"
            ]
          },
          "metadata": {},
          "execution_count": 8
        }
      ]
    },
    {
      "cell_type": "markdown",
      "source": [
        "apart from addition and multiplication, one more operation is required for neural network operations. (Activation functions like tanh, sigmoid etc).\n",
        "To do auto backprop , we need a function in Value class which can map the current grad to previous grad thereby propagating the chain rule useful for backprop.\n",
        "for simple math operations like addition, multiplication, tanh, it is already known.\n",
        "we now have the backward function per node in our neural network which will help us compute gradient of the children. But, we cannot be calling backward individually.so, we sort the neural network graph topologically and then call backward function in the reverse order from the output node o."
      ],
      "metadata": {
        "id": "DPAV5nNqCjsR"
      }
    },
    {
      "cell_type": "code",
      "source": [
        "from graphviz import Digraph\n",
        "\n",
        "def trace(root):\n",
        "  # builds a set of all nodes and edges in a graph\n",
        "  nodes, edges = set(), set()\n",
        "  def build(v):\n",
        "    if v not in nodes:\n",
        "      nodes.add(v)\n",
        "      for child in v._prev:\n",
        "        edges.add((child, v))\n",
        "        build(child)\n",
        "  build(root)\n",
        "  return nodes, edges\n",
        "\n",
        "def draw_dot(root):\n",
        "  dot = Digraph(format='svg', graph_attr={'rankdir': 'LR'}) # LR = left to right\n",
        "\n",
        "  nodes, edges = trace(root)\n",
        "  for n in nodes:\n",
        "    uid = str(id(n))\n",
        "    # for any value in the graph, create a rectangular ('record') node for it\n",
        "    dot.node(name = uid, label = \"{ %s | data %.4f | grad %.4f  }\" % (n.label, n.data,n.grad), shape='record')\n",
        "    if n._op:\n",
        "      # if this value is a result of some operation, create an op node for it\n",
        "      dot.node(name = uid + n._op, label = n._op)\n",
        "      # and connect this node to it\n",
        "      dot.edge(uid + n._op, uid)\n",
        "\n",
        "  for n1, n2 in edges:\n",
        "    # connect n1 to the op node of n2\n",
        "    dot.edge(str(id(n1)), str(id(n2)) + n2._op)\n",
        "\n",
        "  return dot\n"
      ],
      "metadata": {
        "id": "H0_aJlRxkvDP"
      },
      "execution_count": null,
      "outputs": []
    },
    {
      "cell_type": "markdown",
      "source": [
        "The micrograd is the class built on top : it works on scalar values. you can add functions which might be included in your neural networks like sigmoid etc.\n",
        "Now , pytorch's autograd is similar to micrograd here but it works on tensors instead of scalar values."
      ],
      "metadata": {
        "id": "iMAHF70lIKbT"
      }
    },
    {
      "cell_type": "code",
      "source": [
        "import torch"
      ],
      "metadata": {
        "id": "9w0o7yiKIgEN"
      },
      "execution_count": null,
      "outputs": []
    },
    {
      "cell_type": "code",
      "source": [
        "x1 = torch.Tensor([2.0]).double()                ; x1.requires_grad = True\n",
        "x2 = torch.Tensor([0.0]).double()                ; x2.requires_grad = True\n",
        "w1 = torch.Tensor([-3.0]).double()               ; w1.requires_grad = True\n",
        "w2 = torch.Tensor([1.0]).double()                ; w2.requires_grad = True\n",
        "b = torch.Tensor([6.8813735870195432]).double()  ; b.requires_grad = True\n",
        "n = x1*w1 + x2*w2 + b\n",
        "o = torch.tanh(n)\n",
        "# by default when you create tensors, they are assumed to be leaf nodes and requires_grad is set to False\n",
        "#so, it is set to true\n",
        "#also, by default the dtype is float32,by casting it to double, it is made float64"
      ],
      "metadata": {
        "id": "IrafRKQqIkdE"
      },
      "execution_count": null,
      "outputs": []
    },
    {
      "cell_type": "code",
      "source": [
        "o.backward()\n",
        "print(f\"Gradient of x1 : {x1.grad.item()}\")\n",
        "print(f\"Gradient of w1 : {w1.grad.item()}\")\n",
        "print(f\"Gradient of x2 : {x2.grad.item()}\")\n",
        "print(f\"Gradient of w2 : {w2.grad.item()}\")"
      ],
      "metadata": {
        "colab": {
          "base_uri": "https://localhost:8080/"
        },
        "id": "QbR0VpAjI9NW",
        "outputId": "b7d6d22c-0e16-457d-9117-8b292d955e59"
      },
      "execution_count": null,
      "outputs": [
        {
          "output_type": "stream",
          "name": "stdout",
          "text": [
            "Gradient of x1 : -1.5000003851533106\n",
            "Gradient of w1 : 1.0000002567688737\n",
            "Gradient of x2 : 0.5000001283844369\n",
            "Gradient of w2 : 0.0\n"
          ]
        }
      ]
    },
    {
      "cell_type": "markdown",
      "source": [
        "just as we built a micrograd which matches with api of pytorch(pytorch is efficient thanks to parallelization), we will build a neuron, layer and netork similar to how pytorch is built to handle"
      ],
      "metadata": {
        "id": "IzMcwTmlKbfE"
      }
    },
    {
      "cell_type": "code",
      "source": [
        "import random"
      ],
      "metadata": {
        "id": "Iqi6NHuZK6_A"
      },
      "execution_count": null,
      "outputs": []
    },
    {
      "cell_type": "code",
      "source": [
        "class Neuron:\n",
        "\n",
        "  def __init__(self, nin):\n",
        "    self.w = [Value(random.uniform(-1,1)) for _ in range(nin)]\n",
        "    self.b = Value(random.uniform(-1,1))\n",
        "\n",
        "  def __call__(self, x):\n",
        "    # w * x + b\n",
        "    act = sum((wi*xi for wi, xi in zip(self.w, x)), self.b)\n",
        "    out = act.tanh()\n",
        "    return out\n",
        "\n",
        "  def parameters(self):\n",
        "    return self.w + [self.b]\n",
        "\n"
      ],
      "metadata": {
        "id": "k4FUWeMEI_Fb"
      },
      "execution_count": null,
      "outputs": []
    },
    {
      "cell_type": "code",
      "source": [],
      "metadata": {
        "id": "yPIk2aKbCsM8"
      },
      "execution_count": null,
      "outputs": []
    },
    {
      "cell_type": "markdown",
      "source": [
        "next step is the construction of layer -> since the neuron is already constructed."
      ],
      "metadata": {
        "id": "6RKDrOmHNmzD"
      }
    },
    {
      "cell_type": "code",
      "source": [
        "class Layer:\n",
        "\n",
        "  def __init__(self, nin, nout):\n",
        "    self.neurons = [Neuron(nin) for _ in range(nout)]\n",
        "\n",
        "  def __call__(self, x):\n",
        "    outs = [n(x) for n in self.neurons]\n",
        "    return outs[0] if len(outs) == 1 else outs\n",
        "\n",
        "  def parameters(self):\n",
        "    return [p for neuron in self.neurons for p in neuron.parameters()]\n",
        ""
      ],
      "metadata": {
        "id": "xW0DFsx-MpWt"
      },
      "execution_count": null,
      "outputs": []
    },
    {
      "cell_type": "code",
      "source": [
        "class MLP:\n",
        "\n",
        "  def __init__(self, nin, nouts):\n",
        "    sz = [nin] + nouts\n",
        "    self.layers = [Layer(sz[i], sz[i+1]) for i in range(len(nouts))]\n",
        "\n",
        "  def __call__(self, x):\n",
        "    for layer in self.layers:\n",
        "      x = layer(x)\n",
        "    return x\n",
        "\n",
        "  def parameters(self):\n",
        "    return [p for layer in self.layers for p in layer.parameters()]\n"
      ],
      "metadata": {
        "id": "HcSeUtUpQ7tF"
      },
      "execution_count": null,
      "outputs": []
    },
    {
      "cell_type": "code",
      "source": [
        "n = MLP(3, [4, 4, 1])"
      ],
      "metadata": {
        "id": "3Hl-Q-V6CJ8p"
      },
      "execution_count": null,
      "outputs": []
    },
    {
      "cell_type": "markdown",
      "source": [
        "an example where there are some sample inputs, outputs and loss function to make the neural network trainable."
      ],
      "metadata": {
        "id": "Rf3JQMRoUfRm"
      }
    },
    {
      "cell_type": "code",
      "source": [
        "xs = [\n",
        "  [2.0, 3.0, -1.0],\n",
        "  [3.0, -1.0, 0.5],\n",
        "  [0.5, 1.0, 1.0],\n",
        "  [1.0, 1.0, -1.0],\n",
        "]\n",
        "ys = [1.0, -1.0, -1.0, 1.0] # desired targets\n"
      ],
      "metadata": {
        "id": "7WGYeyWKUdih"
      },
      "execution_count": null,
      "outputs": []
    },
    {
      "cell_type": "code",
      "source": [
        "ypred = [n(x) for x in xs]"
      ],
      "metadata": {
        "id": "qTU0PmxxAq3h"
      },
      "execution_count": null,
      "outputs": []
    },
    {
      "cell_type": "code",
      "source": [
        "ypred"
      ],
      "metadata": {
        "colab": {
          "base_uri": "https://localhost:8080/"
        },
        "id": "yIvhNd5IBDD3",
        "outputId": "a8262015-0952-4f42-b38a-f87b2ed2da0b"
      },
      "execution_count": null,
      "outputs": [
        {
          "output_type": "execute_result",
          "data": {
            "text/plain": [
              "[Value(data=-0.16405911805550052),\n",
              " Value(data=0.05213921846862931),\n",
              " Value(data=-0.22770039968503053),\n",
              " Value(data=-0.17457404627170683)]"
            ]
          },
          "metadata": {},
          "execution_count": 20
        }
      ]
    },
    {
      "cell_type": "code",
      "source": [
        "loss  = sum((yout - ygt)**2 for ygt, yout in zip(ys, ypred))"
      ],
      "metadata": {
        "id": "ViYsxTWQBESb"
      },
      "execution_count": null,
      "outputs": []
    },
    {
      "cell_type": "code",
      "source": [
        "loss # loss function for the problem"
      ],
      "metadata": {
        "colab": {
          "base_uri": "https://localhost:8080/"
        },
        "id": "5szs2VPmB0HG",
        "outputId": "a8c444b6-4eae-409c-f6fb-1a2c17e078ea"
      },
      "execution_count": null,
      "outputs": [
        {
          "output_type": "execute_result",
          "data": {
            "text/plain": [
              "Value(data=4.43810142818968)"
            ]
          },
          "metadata": {},
          "execution_count": 22
        }
      ]
    },
    {
      "cell_type": "code",
      "source": [
        "len(n.parameters())"
      ],
      "metadata": {
        "colab": {
          "base_uri": "https://localhost:8080/"
        },
        "id": "_R57RA17MWUM",
        "outputId": "a0ce02a3-65a5-40f3-eea2-331627cd02de"
      },
      "execution_count": null,
      "outputs": [
        {
          "output_type": "execute_result",
          "data": {
            "text/plain": [
              "41"
            ]
          },
          "metadata": {},
          "execution_count": 23
        }
      ]
    },
    {
      "cell_type": "code",
      "source": [
        "loss.backward()"
      ],
      "metadata": {
        "id": "ex-wWPTyEIc2"
      },
      "execution_count": null,
      "outputs": []
    },
    {
      "cell_type": "code",
      "source": [
        "loss.grad\n"
      ],
      "metadata": {
        "colab": {
          "base_uri": "https://localhost:8080/"
        },
        "id": "B7OuwUkAFAvw",
        "outputId": "6a1ec607-6782-4d04-ecf9-1c5d2bc706f9"
      },
      "execution_count": null,
      "outputs": [
        {
          "output_type": "execute_result",
          "data": {
            "text/plain": [
              "1"
            ]
          },
          "metadata": {},
          "execution_count": 25
        }
      ]
    },
    {
      "cell_type": "code",
      "source": [
        "n.layers[0].neurons[0].w[0].grad  # first weight of first neuron for first layer contributes to loss in the following way, ,meaning its increase decreases loss."
      ],
      "metadata": {
        "colab": {
          "base_uri": "https://localhost:8080/"
        },
        "id": "ODiIcrnIFB6I",
        "outputId": "c12177b4-a466-4dd3-c9c8-f8903672f922"
      },
      "execution_count": null,
      "outputs": [
        {
          "output_type": "execute_result",
          "data": {
            "text/plain": [
              "3.363820484088941"
            ]
          },
          "metadata": {},
          "execution_count": 26
        }
      ]
    },
    {
      "cell_type": "code",
      "source": [
        "#SGD : Backprop learning\n",
        "#Gradient can be though of as vector in the direction of increased loss\n",
        "#Gradient descent\n",
        "for p in n.parameters():\n",
        "  p.data += -0.01*p.grad\n"
      ],
      "metadata": {
        "id": "hLrfRQNyFcMY"
      },
      "execution_count": null,
      "outputs": []
    },
    {
      "cell_type": "code",
      "source": [
        "ypred = [n(x) for x in xs]\n",
        "loss  = sum((yout - ygt)**2 for ygt, yout in zip(ys, ypred))"
      ],
      "metadata": {
        "id": "FOt_cLzoPlbB"
      },
      "execution_count": null,
      "outputs": []
    },
    {
      "cell_type": "code",
      "source": [
        "loss"
      ],
      "metadata": {
        "colab": {
          "base_uri": "https://localhost:8080/"
        },
        "id": "rbuNkK1UPxi8",
        "outputId": "ff0a0060-4371-4001-b99c-12a17d8dfcf7"
      },
      "execution_count": null,
      "outputs": [
        {
          "output_type": "execute_result",
          "data": {
            "text/plain": [
              "Value(data=3.4970660684211)"
            ]
          },
          "metadata": {},
          "execution_count": 29
        }
      ]
    },
    {
      "cell_type": "code",
      "source": [
        "#let us do the same for some iterations to check if the loss function converges to zero and the ypred gets closer to ys\n",
        "n = MLP(3, [4, 4, 1])\n",
        "xs = [\n",
        "  [2.0, 3.0, -1.0],\n",
        "  [3.0, -1.0, 0.5],\n",
        "  [0.5, 1.0, 1.0],\n",
        "  [1.0, 1.0, -1.0],\n",
        "]\n",
        "ys = [1.0, -1.0, -1.0, 1.0] # desired targets\n",
        "\n",
        "for i in range(50):\n",
        "  #forward pass\n",
        "  ypred = [n(x) for x in xs]\n",
        "  loss  = sum((yout - ygt)**2 for ygt, yout in zip(ys, ypred))\n",
        "  #backprop\n",
        "  # a subtle and important bug here, before every iteration of backprop, the grads for each parameter must be set to zero,else there will be higher step size and divergence\n",
        "  for p in n.parameters():\n",
        "    p.grad = 0.0\n",
        "  loss.backward()\n",
        "  for p in n.parameters():\n",
        "    p.data += -0.1*p.grad\n",
        "\n",
        "  print(i, loss)\n"
      ],
      "metadata": {
        "id": "O72VzbRtPyKK",
        "colab": {
          "base_uri": "https://localhost:8080/"
        },
        "outputId": "6cdee9d1-27e7-4e32-ff65-912f56948fb1"
      },
      "execution_count": null,
      "outputs": [
        {
          "output_type": "stream",
          "name": "stdout",
          "text": [
            "0 Value(data=7.00154478653654)\n",
            "1 Value(data=2.547415143939822)\n",
            "2 Value(data=2.3158042033642556)\n",
            "3 Value(data=1.7836034804516105)\n",
            "4 Value(data=0.4066239706984542)\n",
            "5 Value(data=0.08853897943945072)\n",
            "6 Value(data=0.061618721709753375)\n",
            "7 Value(data=0.04773047761272176)\n",
            "8 Value(data=0.03911979476381267)\n",
            "9 Value(data=0.033221658177162536)\n",
            "10 Value(data=0.028915258397032937)\n",
            "11 Value(data=0.02562708123658486)\n",
            "12 Value(data=0.023031396683457814)\n",
            "13 Value(data=0.020928826066877723)\n",
            "14 Value(data=0.01919021724178078)\n",
            "15 Value(data=0.017728100558184814)\n",
            "16 Value(data=0.016481065929752455)\n",
            "17 Value(data=0.015404697921830947)\n",
            "18 Value(data=0.014466059262765951)\n",
            "19 Value(data=0.013640197746703223)\n",
            "20 Value(data=0.012907858669473816)\n",
            "21 Value(data=0.012253942811530433)\n",
            "22 Value(data=0.011666440547892518)\n",
            "23 Value(data=0.011135678655224683)\n",
            "24 Value(data=0.010653777600071546)\n",
            "25 Value(data=0.010214253630998645)\n",
            "26 Value(data=0.009811722451750883)\n",
            "27 Value(data=0.0094416754137844)\n",
            "28 Value(data=0.009100308307393187)\n",
            "29 Value(data=0.008784388855783799)\n",
            "30 Value(data=0.008491153063977838)\n",
            "31 Value(data=0.008218223340870174)\n",
            "32 Value(data=0.00796354323376765)\n",
            "33 Value(data=0.007725324968188021)\n",
            "34 Value(data=0.007502006952147939)\n",
            "35 Value(data=0.007292219102882796)\n",
            "36 Value(data=0.007094754364930884)\n",
            "37 Value(data=0.006908545166238629)\n",
            "38 Value(data=0.006732643840957821)\n",
            "39 Value(data=0.0065662062601377575)\n",
            "40 Value(data=0.006408478073087386)\n",
            "41 Value(data=0.006258783086035288)\n",
            "42 Value(data=0.006116513400380804)\n",
            "43 Value(data=0.005981121007273669)\n",
            "44 Value(data=0.00585211059358238)\n",
            "45 Value(data=0.005729033360307798)\n",
            "46 Value(data=0.005611481690994792)\n",
            "47 Value(data=0.005499084536825752)\n",
            "48 Value(data=0.005391503408458929)\n",
            "49 Value(data=0.005288428883539897)\n"
          ]
        }
      ]
    },
    {
      "cell_type": "code",
      "source": [
        "ypred"
      ],
      "metadata": {
        "colab": {
          "base_uri": "https://localhost:8080/"
        },
        "id": "hsVc661Lhb2A",
        "outputId": "8ecaeebd-3e0b-4ad2-9656-d53e54c3681c"
      },
      "execution_count": null,
      "outputs": [
        {
          "output_type": "execute_result",
          "data": {
            "text/plain": [
              "[Value(data=0.981238774516687),\n",
              " Value(data=-0.954653394861624),\n",
              " Value(data=-0.9500572058171424),\n",
              " Value(data=0.980356985630074)]"
            ]
          },
          "metadata": {},
          "execution_count": 41
        }
      ]
    },
    {
      "cell_type": "code",
      "source": [],
      "metadata": {
        "id": "TmtO9hXNhdC-"
      },
      "execution_count": null,
      "outputs": []
    }
  ]
}